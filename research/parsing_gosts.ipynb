{
 "cells": [
  {
   "cell_type": "code",
   "execution_count": 31,
   "id": "8bea5e9a-7bf2-4a9d-bb80-68a404143007",
   "metadata": {},
   "outputs": [],
   "source": [
    "import requests\n",
    "import cchardet\n",
    "from bs4 import BeautifulSoup as bs\n",
    "from time import sleep\n",
    "from datetime import datetime, timedelta, date\n",
    "from copy import deepcopy\n",
    "from tqdm.notebook import tqdm\n",
    "import pickle\n",
    "import sys\n",
    "import os\n",
    "import re\n",
    "from transliterate import translit\n",
    "import json\n",
    "import traceback\n",
    "import time\n",
    "from selenium import webdriver\n",
    "from selenium.webdriver.common.by import By\n",
    "from selenium.webdriver.support.ui import WebDriverWait\n",
    "from selenium.webdriver.support import expected_conditions as EC\n",
    "import undetected_chromedriver as uc\n",
    "import shutil"
   ]
  },
  {
   "cell_type": "code",
   "execution_count": 2,
   "id": "0441f760-6a49-41e2-919e-e365882f216a",
   "metadata": {},
   "outputs": [],
   "source": [
    "url = 'https://allgosts.ru'\n",
    "NEW_DOWNLOAD_FOLDER = 'C:/Users/1645286/vkr/files'"
   ]
  },
  {
   "cell_type": "code",
   "execution_count": 3,
   "id": "2808934a-85c4-4e07-ad39-16d2ed74fbc5",
   "metadata": {},
   "outputs": [],
   "source": [
    "global_dict = {}"
   ]
  },
  {
   "cell_type": "code",
   "execution_count": 4,
   "id": "03ff5063-5313-44b4-bbf3-cf4dd301e729",
   "metadata": {},
   "outputs": [],
   "source": [
    "res = requests.get(url)\n",
    "main = bs(res.text, 'lxml')\n",
    "main_list = main.find('ul', class_='content-list').findAll('li', class_='content-list_item')\n",
    "main_list = [(li.find('a')['href'], li.find('a').text) for li in main_list]"
   ]
  },
  {
   "cell_type": "code",
   "execution_count": 5,
   "id": "e9d5648b-a504-4c50-9b25-a17ad580f79c",
   "metadata": {
    "scrolled": true
   },
   "outputs": [],
   "source": [
    "global_dict = {\n",
    "    el[1]: dict() for el in main_list\n",
    "}"
   ]
  },
  {
   "cell_type": "code",
   "execution_count": 6,
   "id": "1ef0bbd1-3170-4251-a528-480a10c419c8",
   "metadata": {},
   "outputs": [],
   "source": [
    "status_dict = {\n",
    "    'Действует': 'active',\n",
    "    'Заменен': 'replaced',\n",
    "    'Отменен': 'cancelled'\n",
    "}"
   ]
  },
  {
   "cell_type": "code",
   "execution_count": 7,
   "id": "1b75d6a9-fcaf-40e3-85ca-5e6802714b20",
   "metadata": {},
   "outputs": [],
   "source": [
    "N_MAX_DOC = 50\n",
    "main_start = 0\n",
    "section_start = 0\n",
    "doc_start = 0"
   ]
  },
  {
   "cell_type": "code",
   "execution_count": 8,
   "id": "8b2d0afc-e325-472a-bb61-73234e75cd1b",
   "metadata": {},
   "outputs": [],
   "source": [
    "def move_file(source_path, destination_path):\n",
    "    file_name = os.path.basename(source_path)\n",
    "    new_path = os.path.join(destination_path, file_name)\n",
    "    \n",
    "    if os.path.exists(new_path):\n",
    "        base_name, extension = os.path.splitext(file_name)\n",
    "        counter = 1\n",
    "        while os.path.exists(new_path):\n",
    "            new_file_name = f\"{base_name} ({counter}){extension}\"\n",
    "            new_path = os.path.join(destination_path, new_file_name)\n",
    "            counter += 1\n",
    "    \n",
    "    os.replace(source_path, new_path)\n",
    "    return os.path.basename(new_path)"
   ]
  },
  {
   "cell_type": "code",
   "execution_count": null,
   "id": "7118581f-339a-4fc6-9870-6e0f62d2ea22",
   "metadata": {
    "scrolled": true
   },
   "outputs": [
    {
     "data": {
      "application/vnd.jupyter.widget-view+json": {
       "model_id": "e663ff3e42b34358a7ffb39de9382bf3",
       "version_major": 2,
       "version_minor": 0
      },
      "text/plain": [
       "Global list:   0%|          | 0/40 [00:00<?, ?it/s]"
      ]
     },
     "metadata": {},
     "output_type": "display_data"
    },
    {
     "data": {
      "application/vnd.jupyter.widget-view+json": {
       "model_id": "",
       "version_major": 2,
       "version_minor": 0
      },
      "text/plain": [
       "Sections:   0%|          | 0/10 [00:00<?, ?it/s]"
      ]
     },
     "metadata": {},
     "output_type": "display_data"
    },
    {
     "data": {
      "application/vnd.jupyter.widget-view+json": {
       "model_id": "",
       "version_major": 2,
       "version_minor": 0
      },
      "text/plain": [
       "Section documents:   0%|          | 0/50 [00:00<?, ?it/s]"
      ]
     },
     "metadata": {},
     "output_type": "display_data"
    },
    {
     "data": {
      "application/vnd.jupyter.widget-view+json": {
       "model_id": "",
       "version_major": 2,
       "version_minor": 0
      },
      "text/plain": [
       "Section documents:   0%|          | 0/50 [00:00<?, ?it/s]"
      ]
     },
     "metadata": {},
     "output_type": "display_data"
    },
    {
     "data": {
      "application/vnd.jupyter.widget-view+json": {
       "model_id": "",
       "version_major": 2,
       "version_minor": 0
      },
      "text/plain": [
       "Section documents:   0%|          | 0/8 [00:00<?, ?it/s]"
      ]
     },
     "metadata": {},
     "output_type": "display_data"
    },
    {
     "data": {
      "application/vnd.jupyter.widget-view+json": {
       "model_id": "",
       "version_major": 2,
       "version_minor": 0
      },
      "text/plain": [
       "Section documents:   0%|          | 0/10 [00:00<?, ?it/s]"
      ]
     },
     "metadata": {},
     "output_type": "display_data"
    },
    {
     "data": {
      "application/vnd.jupyter.widget-view+json": {
       "model_id": "",
       "version_major": 2,
       "version_minor": 0
      },
      "text/plain": [
       "Section documents:   0%|          | 0/16 [00:00<?, ?it/s]"
      ]
     },
     "metadata": {},
     "output_type": "display_data"
    },
    {
     "data": {
      "application/vnd.jupyter.widget-view+json": {
       "model_id": "",
       "version_major": 2,
       "version_minor": 0
      },
      "text/plain": [
       "Section documents:   0%|          | 0/50 [00:00<?, ?it/s]"
      ]
     },
     "metadata": {},
     "output_type": "display_data"
    },
    {
     "data": {
      "application/vnd.jupyter.widget-view+json": {
       "model_id": "",
       "version_major": 2,
       "version_minor": 0
      },
      "text/plain": [
       "Section documents:   0%|          | 0/50 [00:00<?, ?it/s]"
      ]
     },
     "metadata": {},
     "output_type": "display_data"
    },
    {
     "data": {
      "application/vnd.jupyter.widget-view+json": {
       "model_id": "",
       "version_major": 2,
       "version_minor": 0
      },
      "text/plain": [
       "Section documents:   0%|          | 0/50 [00:00<?, ?it/s]"
      ]
     },
     "metadata": {},
     "output_type": "display_data"
    },
    {
     "data": {
      "application/vnd.jupyter.widget-view+json": {
       "model_id": "",
       "version_major": 2,
       "version_minor": 0
      },
      "text/plain": [
       "Section documents:   0%|          | 0/50 [00:00<?, ?it/s]"
      ]
     },
     "metadata": {},
     "output_type": "display_data"
    },
    {
     "data": {
      "application/vnd.jupyter.widget-view+json": {
       "model_id": "",
       "version_major": 2,
       "version_minor": 0
      },
      "text/plain": [
       "Section documents:   0%|          | 0/50 [00:00<?, ?it/s]"
      ]
     },
     "metadata": {},
     "output_type": "display_data"
    },
    {
     "data": {
      "application/vnd.jupyter.widget-view+json": {
       "model_id": "",
       "version_major": 2,
       "version_minor": 0
      },
      "text/plain": [
       "Sections:   0%|          | 0/12 [00:00<?, ?it/s]"
      ]
     },
     "metadata": {},
     "output_type": "display_data"
    },
    {
     "data": {
      "application/vnd.jupyter.widget-view+json": {
       "model_id": "",
       "version_major": 2,
       "version_minor": 0
      },
      "text/plain": [
       "Section documents:   0%|          | 0/6 [00:00<?, ?it/s]"
      ]
     },
     "metadata": {},
     "output_type": "display_data"
    },
    {
     "data": {
      "application/vnd.jupyter.widget-view+json": {
       "model_id": "",
       "version_major": 2,
       "version_minor": 0
      },
      "text/plain": [
       "Section documents:   0%|          | 0/14 [00:00<?, ?it/s]"
      ]
     },
     "metadata": {},
     "output_type": "display_data"
    },
    {
     "data": {
      "application/vnd.jupyter.widget-view+json": {
       "model_id": "",
       "version_major": 2,
       "version_minor": 0
      },
      "text/plain": [
       "Section documents:   0%|          | 0/50 [00:00<?, ?it/s]"
      ]
     },
     "metadata": {},
     "output_type": "display_data"
    },
    {
     "data": {
      "application/vnd.jupyter.widget-view+json": {
       "model_id": "",
       "version_major": 2,
       "version_minor": 0
      },
      "text/plain": [
       "Section documents:   0%|          | 0/50 [00:00<?, ?it/s]"
      ]
     },
     "metadata": {},
     "output_type": "display_data"
    },
    {
     "data": {
      "application/vnd.jupyter.widget-view+json": {
       "model_id": "",
       "version_major": 2,
       "version_minor": 0
      },
      "text/plain": [
       "Section documents:   0%|          | 0/50 [00:00<?, ?it/s]"
      ]
     },
     "metadata": {},
     "output_type": "display_data"
    },
    {
     "data": {
      "application/vnd.jupyter.widget-view+json": {
       "model_id": "",
       "version_major": 2,
       "version_minor": 0
      },
      "text/plain": [
       "Section documents:   0%|          | 0/25 [00:00<?, ?it/s]"
      ]
     },
     "metadata": {},
     "output_type": "display_data"
    },
    {
     "data": {
      "application/vnd.jupyter.widget-view+json": {
       "model_id": "",
       "version_major": 2,
       "version_minor": 0
      },
      "text/plain": [
       "Section documents:   0%|          | 0/7 [00:00<?, ?it/s]"
      ]
     },
     "metadata": {},
     "output_type": "display_data"
    },
    {
     "data": {
      "application/vnd.jupyter.widget-view+json": {
       "model_id": "",
       "version_major": 2,
       "version_minor": 0
      },
      "text/plain": [
       "Section documents:   0%|          | 0/3 [00:00<?, ?it/s]"
      ]
     },
     "metadata": {},
     "output_type": "display_data"
    },
    {
     "data": {
      "application/vnd.jupyter.widget-view+json": {
       "model_id": "",
       "version_major": 2,
       "version_minor": 0
      },
      "text/plain": [
       "Section documents:   0%|          | 0/25 [00:00<?, ?it/s]"
      ]
     },
     "metadata": {},
     "output_type": "display_data"
    },
    {
     "data": {
      "application/vnd.jupyter.widget-view+json": {
       "model_id": "",
       "version_major": 2,
       "version_minor": 0
      },
      "text/plain": [
       "Section documents:   0%|          | 0/50 [00:00<?, ?it/s]"
      ]
     },
     "metadata": {},
     "output_type": "display_data"
    },
    {
     "data": {
      "application/vnd.jupyter.widget-view+json": {
       "model_id": "",
       "version_major": 2,
       "version_minor": 0
      },
      "text/plain": [
       "Section documents:   0%|          | 0/6 [00:00<?, ?it/s]"
      ]
     },
     "metadata": {},
     "output_type": "display_data"
    },
    {
     "data": {
      "application/vnd.jupyter.widget-view+json": {
       "model_id": "",
       "version_major": 2,
       "version_minor": 0
      },
      "text/plain": [
       "Sections:   0%|          | 0/8 [00:00<?, ?it/s]"
      ]
     },
     "metadata": {},
     "output_type": "display_data"
    },
    {
     "data": {
      "application/vnd.jupyter.widget-view+json": {
       "model_id": "",
       "version_major": 2,
       "version_minor": 0
      },
      "text/plain": [
       "Section documents:   0%|          | 0/1 [00:00<?, ?it/s]"
      ]
     },
     "metadata": {},
     "output_type": "display_data"
    },
    {
     "data": {
      "application/vnd.jupyter.widget-view+json": {
       "model_id": "",
       "version_major": 2,
       "version_minor": 0
      },
      "text/plain": [
       "Section documents:   0%|          | 0/49 [00:00<?, ?it/s]"
      ]
     },
     "metadata": {},
     "output_type": "display_data"
    },
    {
     "data": {
      "application/vnd.jupyter.widget-view+json": {
       "model_id": "",
       "version_major": 2,
       "version_minor": 0
      },
      "text/plain": [
       "Section documents:   0%|          | 0/50 [00:00<?, ?it/s]"
      ]
     },
     "metadata": {},
     "output_type": "display_data"
    },
    {
     "data": {
      "application/vnd.jupyter.widget-view+json": {
       "model_id": "",
       "version_major": 2,
       "version_minor": 0
      },
      "text/plain": [
       "Section documents:   0%|          | 0/12 [00:00<?, ?it/s]"
      ]
     },
     "metadata": {},
     "output_type": "display_data"
    },
    {
     "data": {
      "application/vnd.jupyter.widget-view+json": {
       "model_id": "",
       "version_major": 2,
       "version_minor": 0
      },
      "text/plain": [
       "Section documents:   0%|          | 0/31 [00:00<?, ?it/s]"
      ]
     },
     "metadata": {},
     "output_type": "display_data"
    },
    {
     "data": {
      "application/vnd.jupyter.widget-view+json": {
       "model_id": "",
       "version_major": 2,
       "version_minor": 0
      },
      "text/plain": [
       "Section documents:   0%|          | 0/50 [00:00<?, ?it/s]"
      ]
     },
     "metadata": {},
     "output_type": "display_data"
    },
    {
     "data": {
      "application/vnd.jupyter.widget-view+json": {
       "model_id": "",
       "version_major": 2,
       "version_minor": 0
      },
      "text/plain": [
       "Sections:   0%|          | 0/11 [00:00<?, ?it/s]"
      ]
     },
     "metadata": {},
     "output_type": "display_data"
    },
    {
     "data": {
      "application/vnd.jupyter.widget-view+json": {
       "model_id": "",
       "version_major": 2,
       "version_minor": 0
      },
      "text/plain": [
       "Section documents:   0%|          | 0/50 [00:00<?, ?it/s]"
      ]
     },
     "metadata": {},
     "output_type": "display_data"
    },
    {
     "data": {
      "application/vnd.jupyter.widget-view+json": {
       "model_id": "",
       "version_major": 2,
       "version_minor": 0
      },
      "text/plain": [
       "Section documents:   0%|          | 0/50 [00:00<?, ?it/s]"
      ]
     },
     "metadata": {},
     "output_type": "display_data"
    },
    {
     "data": {
      "application/vnd.jupyter.widget-view+json": {
       "model_id": "",
       "version_major": 2,
       "version_minor": 0
      },
      "text/plain": [
       "Section documents:   0%|          | 0/50 [00:00<?, ?it/s]"
      ]
     },
     "metadata": {},
     "output_type": "display_data"
    },
    {
     "data": {
      "application/vnd.jupyter.widget-view+json": {
       "model_id": "",
       "version_major": 2,
       "version_minor": 0
      },
      "text/plain": [
       "Section documents:   0%|          | 0/50 [00:00<?, ?it/s]"
      ]
     },
     "metadata": {},
     "output_type": "display_data"
    },
    {
     "data": {
      "application/vnd.jupyter.widget-view+json": {
       "model_id": "",
       "version_major": 2,
       "version_minor": 0
      },
      "text/plain": [
       "Section documents:   0%|          | 0/50 [00:00<?, ?it/s]"
      ]
     },
     "metadata": {},
     "output_type": "display_data"
    },
    {
     "data": {
      "application/vnd.jupyter.widget-view+json": {
       "model_id": "",
       "version_major": 2,
       "version_minor": 0
      },
      "text/plain": [
       "Section documents:   0%|          | 0/50 [00:00<?, ?it/s]"
      ]
     },
     "metadata": {},
     "output_type": "display_data"
    },
    {
     "data": {
      "application/vnd.jupyter.widget-view+json": {
       "model_id": "",
       "version_major": 2,
       "version_minor": 0
      },
      "text/plain": [
       "Section documents:   0%|          | 0/40 [00:00<?, ?it/s]"
      ]
     },
     "metadata": {},
     "output_type": "display_data"
    },
    {
     "data": {
      "application/vnd.jupyter.widget-view+json": {
       "model_id": "",
       "version_major": 2,
       "version_minor": 0
      },
      "text/plain": [
       "Section documents:   0%|          | 0/22 [00:00<?, ?it/s]"
      ]
     },
     "metadata": {},
     "output_type": "display_data"
    },
    {
     "data": {
      "application/vnd.jupyter.widget-view+json": {
       "model_id": "",
       "version_major": 2,
       "version_minor": 0
      },
      "text/plain": [
       "Section documents:   0%|          | 0/50 [00:00<?, ?it/s]"
      ]
     },
     "metadata": {},
     "output_type": "display_data"
    },
    {
     "data": {
      "application/vnd.jupyter.widget-view+json": {
       "model_id": "",
       "version_major": 2,
       "version_minor": 0
      },
      "text/plain": [
       "Section documents:   0%|          | 0/12 [00:00<?, ?it/s]"
      ]
     },
     "metadata": {},
     "output_type": "display_data"
    },
    {
     "data": {
      "application/vnd.jupyter.widget-view+json": {
       "model_id": "",
       "version_major": 2,
       "version_minor": 0
      },
      "text/plain": [
       "Section documents:   0%|          | 0/50 [00:00<?, ?it/s]"
      ]
     },
     "metadata": {},
     "output_type": "display_data"
    },
    {
     "data": {
      "application/vnd.jupyter.widget-view+json": {
       "model_id": "",
       "version_major": 2,
       "version_minor": 0
      },
      "text/plain": [
       "Sections:   0%|          | 0/21 [00:00<?, ?it/s]"
      ]
     },
     "metadata": {},
     "output_type": "display_data"
    },
    {
     "data": {
      "application/vnd.jupyter.widget-view+json": {
       "model_id": "",
       "version_major": 2,
       "version_minor": 0
      },
      "text/plain": [
       "Section documents:   0%|          | 0/50 [00:00<?, ?it/s]"
      ]
     },
     "metadata": {},
     "output_type": "display_data"
    },
    {
     "data": {
      "application/vnd.jupyter.widget-view+json": {
       "model_id": "",
       "version_major": 2,
       "version_minor": 0
      },
      "text/plain": [
       "Section documents:   0%|          | 0/50 [00:00<?, ?it/s]"
      ]
     },
     "metadata": {},
     "output_type": "display_data"
    },
    {
     "data": {
      "application/vnd.jupyter.widget-view+json": {
       "model_id": "",
       "version_major": 2,
       "version_minor": 0
      },
      "text/plain": [
       "Section documents:   0%|          | 0/50 [00:00<?, ?it/s]"
      ]
     },
     "metadata": {},
     "output_type": "display_data"
    },
    {
     "data": {
      "application/vnd.jupyter.widget-view+json": {
       "model_id": "",
       "version_major": 2,
       "version_minor": 0
      },
      "text/plain": [
       "Section documents:   0%|          | 0/50 [00:00<?, ?it/s]"
      ]
     },
     "metadata": {},
     "output_type": "display_data"
    },
    {
     "data": {
      "application/vnd.jupyter.widget-view+json": {
       "model_id": "",
       "version_major": 2,
       "version_minor": 0
      },
      "text/plain": [
       "Section documents:   0%|          | 0/50 [00:00<?, ?it/s]"
      ]
     },
     "metadata": {},
     "output_type": "display_data"
    },
    {
     "data": {
      "application/vnd.jupyter.widget-view+json": {
       "model_id": "",
       "version_major": 2,
       "version_minor": 0
      },
      "text/plain": [
       "Section documents:   0%|          | 0/50 [00:00<?, ?it/s]"
      ]
     },
     "metadata": {},
     "output_type": "display_data"
    },
    {
     "data": {
      "application/vnd.jupyter.widget-view+json": {
       "model_id": "4250aebe0a39433da301808c6233ed0e",
       "version_major": 2,
       "version_minor": 0
      },
      "text/plain": [
       "Section documents:   0%|          | 0/50 [00:00<?, ?it/s]"
      ]
     },
     "metadata": {},
     "output_type": "display_data"
    },
    {
     "data": {
      "application/vnd.jupyter.widget-view+json": {
       "model_id": "0490c1bb2f8f4cc39c20a759ac87d6fd",
       "version_major": 2,
       "version_minor": 0
      },
      "text/plain": [
       "Section documents:   0%|          | 0/50 [00:00<?, ?it/s]"
      ]
     },
     "metadata": {},
     "output_type": "display_data"
    },
    {
     "data": {
      "application/vnd.jupyter.widget-view+json": {
       "model_id": "098917852f7842c28ed3bcc42fe4e253",
       "version_major": 2,
       "version_minor": 0
      },
      "text/plain": [
       "Section documents:   0%|          | 0/50 [00:00<?, ?it/s]"
      ]
     },
     "metadata": {},
     "output_type": "display_data"
    },
    {
     "data": {
      "application/vnd.jupyter.widget-view+json": {
       "model_id": "83a440f38fcf4460861bec4867abe5a7",
       "version_major": 2,
       "version_minor": 0
      },
      "text/plain": [
       "Section documents:   0%|          | 0/50 [00:00<?, ?it/s]"
      ]
     },
     "metadata": {},
     "output_type": "display_data"
    },
    {
     "data": {
      "application/vnd.jupyter.widget-view+json": {
       "model_id": "dcf3d1972cb54f39bd01e02f19fbae11",
       "version_major": 2,
       "version_minor": 0
      },
      "text/plain": [
       "Section documents:   0%|          | 0/50 [00:00<?, ?it/s]"
      ]
     },
     "metadata": {},
     "output_type": "display_data"
    },
    {
     "data": {
      "application/vnd.jupyter.widget-view+json": {
       "model_id": "3e3af13b8e31416bb96a701de2de063b",
       "version_major": 2,
       "version_minor": 0
      },
      "text/plain": [
       "Section documents:   0%|          | 0/50 [00:00<?, ?it/s]"
      ]
     },
     "metadata": {},
     "output_type": "display_data"
    },
    {
     "data": {
      "application/vnd.jupyter.widget-view+json": {
       "model_id": "4ac029c2d4ac4702bc09205383261453",
       "version_major": 2,
       "version_minor": 0
      },
      "text/plain": [
       "Section documents:   0%|          | 0/50 [00:00<?, ?it/s]"
      ]
     },
     "metadata": {},
     "output_type": "display_data"
    },
    {
     "data": {
      "application/vnd.jupyter.widget-view+json": {
       "model_id": "ebeb865c9985403a9bf1ff5ca0c96586",
       "version_major": 2,
       "version_minor": 0
      },
      "text/plain": [
       "Section documents:   0%|          | 0/32 [00:00<?, ?it/s]"
      ]
     },
     "metadata": {},
     "output_type": "display_data"
    },
    {
     "data": {
      "application/vnd.jupyter.widget-view+json": {
       "model_id": "122beb22063b42d185354c2ce4c156e6",
       "version_major": 2,
       "version_minor": 0
      },
      "text/plain": [
       "Section documents:   0%|          | 0/39 [00:00<?, ?it/s]"
      ]
     },
     "metadata": {},
     "output_type": "display_data"
    },
    {
     "data": {
      "application/vnd.jupyter.widget-view+json": {
       "model_id": "07561341e8b64cddbb925ceed121c08a",
       "version_major": 2,
       "version_minor": 0
      },
      "text/plain": [
       "Section documents:   0%|          | 0/50 [00:00<?, ?it/s]"
      ]
     },
     "metadata": {},
     "output_type": "display_data"
    },
    {
     "data": {
      "application/vnd.jupyter.widget-view+json": {
       "model_id": "2a4e52ff519946da8aae5736feeb7948",
       "version_major": 2,
       "version_minor": 0
      },
      "text/plain": [
       "Section documents:   0%|          | 0/12 [00:00<?, ?it/s]"
      ]
     },
     "metadata": {},
     "output_type": "display_data"
    },
    {
     "data": {
      "application/vnd.jupyter.widget-view+json": {
       "model_id": "d9c0aeeaa18e40e79cbf71efcdb84566",
       "version_major": 2,
       "version_minor": 0
      },
      "text/plain": [
       "Section documents:   0%|          | 0/50 [00:00<?, ?it/s]"
      ]
     },
     "metadata": {},
     "output_type": "display_data"
    },
    {
     "data": {
      "application/vnd.jupyter.widget-view+json": {
       "model_id": "2497db02297d4ad3964f618a05886eb6",
       "version_major": 2,
       "version_minor": 0
      },
      "text/plain": [
       "Section documents:   0%|          | 0/48 [00:00<?, ?it/s]"
      ]
     },
     "metadata": {},
     "output_type": "display_data"
    },
    {
     "data": {
      "application/vnd.jupyter.widget-view+json": {
       "model_id": "2a7a2b919695454590574461273dd2da",
       "version_major": 2,
       "version_minor": 0
      },
      "text/plain": [
       "Section documents:   0%|          | 0/50 [00:00<?, ?it/s]"
      ]
     },
     "metadata": {},
     "output_type": "display_data"
    },
    {
     "data": {
      "application/vnd.jupyter.widget-view+json": {
       "model_id": "6e143e64b6ab46419b65c5654ea51bb1",
       "version_major": 2,
       "version_minor": 0
      },
      "text/plain": [
       "Sections:   0%|          | 0/12 [00:00<?, ?it/s]"
      ]
     },
     "metadata": {},
     "output_type": "display_data"
    },
    {
     "data": {
      "application/vnd.jupyter.widget-view+json": {
       "model_id": "11f616ee9638429cb315c9f3025ef5bf",
       "version_major": 2,
       "version_minor": 0
      },
      "text/plain": [
       "Section documents:   0%|          | 0/50 [00:00<?, ?it/s]"
      ]
     },
     "metadata": {},
     "output_type": "display_data"
    },
    {
     "data": {
      "application/vnd.jupyter.widget-view+json": {
       "model_id": "a9a15c4c39864aa6a3eafd8188d5acd3",
       "version_major": 2,
       "version_minor": 0
      },
      "text/plain": [
       "Section documents:   0%|          | 0/50 [00:00<?, ?it/s]"
      ]
     },
     "metadata": {},
     "output_type": "display_data"
    },
    {
     "data": {
      "application/vnd.jupyter.widget-view+json": {
       "model_id": "1dc2a47ec21f4e389b4d84c7d11dd5c9",
       "version_major": 2,
       "version_minor": 0
      },
      "text/plain": [
       "Section documents:   0%|          | 0/50 [00:00<?, ?it/s]"
      ]
     },
     "metadata": {},
     "output_type": "display_data"
    },
    {
     "data": {
      "application/vnd.jupyter.widget-view+json": {
       "model_id": "3e0ceaf2d6f842958a362b047f60b2e5",
       "version_major": 2,
       "version_minor": 0
      },
      "text/plain": [
       "Section documents:   0%|          | 0/29 [00:00<?, ?it/s]"
      ]
     },
     "metadata": {},
     "output_type": "display_data"
    },
    {
     "data": {
      "application/vnd.jupyter.widget-view+json": {
       "model_id": "c5d6b4ea7e454fd6959d26d36670c214",
       "version_major": 2,
       "version_minor": 0
      },
      "text/plain": [
       "Section documents:   0%|          | 0/50 [00:00<?, ?it/s]"
      ]
     },
     "metadata": {},
     "output_type": "display_data"
    },
    {
     "data": {
      "application/vnd.jupyter.widget-view+json": {
       "model_id": "e92d63c1ba9d40c4b22630e8d8853a3d",
       "version_major": 2,
       "version_minor": 0
      },
      "text/plain": [
       "Section documents:   0%|          | 0/50 [00:00<?, ?it/s]"
      ]
     },
     "metadata": {},
     "output_type": "display_data"
    },
    {
     "data": {
      "application/vnd.jupyter.widget-view+json": {
       "model_id": "1d5c503823564a4a9822a0fb236254e8",
       "version_major": 2,
       "version_minor": 0
      },
      "text/plain": [
       "Section documents:   0%|          | 0/50 [00:00<?, ?it/s]"
      ]
     },
     "metadata": {},
     "output_type": "display_data"
    },
    {
     "data": {
      "application/vnd.jupyter.widget-view+json": {
       "model_id": "6d86c8e3c4b34f6ea31a28ce32d92f44",
       "version_major": 2,
       "version_minor": 0
      },
      "text/plain": [
       "Section documents:   0%|          | 0/50 [00:00<?, ?it/s]"
      ]
     },
     "metadata": {},
     "output_type": "display_data"
    },
    {
     "data": {
      "application/vnd.jupyter.widget-view+json": {
       "model_id": "07a3b83f90254d23b4c597b3e034c035",
       "version_major": 2,
       "version_minor": 0
      },
      "text/plain": [
       "Section documents:   0%|          | 0/50 [00:00<?, ?it/s]"
      ]
     },
     "metadata": {},
     "output_type": "display_data"
    },
    {
     "data": {
      "application/vnd.jupyter.widget-view+json": {
       "model_id": "513edc162716488182b4ffa339ef487b",
       "version_major": 2,
       "version_minor": 0
      },
      "text/plain": [
       "Section documents:   0%|          | 0/50 [00:00<?, ?it/s]"
      ]
     },
     "metadata": {},
     "output_type": "display_data"
    },
    {
     "data": {
      "application/vnd.jupyter.widget-view+json": {
       "model_id": "a4957047ce844d0883fce617b089be95",
       "version_major": 2,
       "version_minor": 0
      },
      "text/plain": [
       "Section documents:   0%|          | 0/50 [00:00<?, ?it/s]"
      ]
     },
     "metadata": {},
     "output_type": "display_data"
    },
    {
     "data": {
      "application/vnd.jupyter.widget-view+json": {
       "model_id": "aea469476a144676b2a611e10fccc470",
       "version_major": 2,
       "version_minor": 0
      },
      "text/plain": [
       "Section documents:   0%|          | 0/50 [00:00<?, ?it/s]"
      ]
     },
     "metadata": {},
     "output_type": "display_data"
    },
    {
     "data": {
      "application/vnd.jupyter.widget-view+json": {
       "model_id": "418c3750a7f44f1e9505ef03cc742982",
       "version_major": 2,
       "version_minor": 0
      },
      "text/plain": [
       "Sections:   0%|          | 0/6 [00:00<?, ?it/s]"
      ]
     },
     "metadata": {},
     "output_type": "display_data"
    },
    {
     "data": {
      "application/vnd.jupyter.widget-view+json": {
       "model_id": "281bb927ad454a838cf93c0b13f363e1",
       "version_major": 2,
       "version_minor": 0
      },
      "text/plain": [
       "Section documents:   0%|          | 0/50 [00:00<?, ?it/s]"
      ]
     },
     "metadata": {},
     "output_type": "display_data"
    },
    {
     "data": {
      "application/vnd.jupyter.widget-view+json": {
       "model_id": "bd48381dbed848b59534a2012b639e86",
       "version_major": 2,
       "version_minor": 0
      },
      "text/plain": [
       "Section documents:   0%|          | 0/50 [00:00<?, ?it/s]"
      ]
     },
     "metadata": {},
     "output_type": "display_data"
    },
    {
     "data": {
      "application/vnd.jupyter.widget-view+json": {
       "model_id": "731ee6ebc14f44d6b403cd15389a9681",
       "version_major": 2,
       "version_minor": 0
      },
      "text/plain": [
       "Section documents:   0%|          | 0/50 [00:00<?, ?it/s]"
      ]
     },
     "metadata": {},
     "output_type": "display_data"
    },
    {
     "data": {
      "application/vnd.jupyter.widget-view+json": {
       "model_id": "3a93497417f5430faa4578e1fecaf9a1",
       "version_major": 2,
       "version_minor": 0
      },
      "text/plain": [
       "Section documents:   0%|          | 0/26 [00:00<?, ?it/s]"
      ]
     },
     "metadata": {},
     "output_type": "display_data"
    },
    {
     "data": {
      "application/vnd.jupyter.widget-view+json": {
       "model_id": "701db5224463426ab7b55fb2afa77e1e",
       "version_major": 2,
       "version_minor": 0
      },
      "text/plain": [
       "Section documents:   0%|          | 0/50 [00:00<?, ?it/s]"
      ]
     },
     "metadata": {},
     "output_type": "display_data"
    },
    {
     "data": {
      "application/vnd.jupyter.widget-view+json": {
       "model_id": "6666c27894134f0a914d5f7ffc93d3c7",
       "version_major": 2,
       "version_minor": 0
      },
      "text/plain": [
       "Section documents:   0%|          | 0/3 [00:00<?, ?it/s]"
      ]
     },
     "metadata": {},
     "output_type": "display_data"
    },
    {
     "data": {
      "application/vnd.jupyter.widget-view+json": {
       "model_id": "58b9d85a70304d44a423b37906c39416",
       "version_major": 2,
       "version_minor": 0
      },
      "text/plain": [
       "Sections:   0%|          | 0/13 [00:00<?, ?it/s]"
      ]
     },
     "metadata": {},
     "output_type": "display_data"
    },
    {
     "data": {
      "application/vnd.jupyter.widget-view+json": {
       "model_id": "bb44d9f0756641eb9f485f79d4562eeb",
       "version_major": 2,
       "version_minor": 0
      },
      "text/plain": [
       "Section documents:   0%|          | 0/50 [00:00<?, ?it/s]"
      ]
     },
     "metadata": {},
     "output_type": "display_data"
    },
    {
     "data": {
      "application/vnd.jupyter.widget-view+json": {
       "model_id": "f48a2f50d66d45d5bb52d73483fc661e",
       "version_major": 2,
       "version_minor": 0
      },
      "text/plain": [
       "Section documents:   0%|          | 0/44 [00:00<?, ?it/s]"
      ]
     },
     "metadata": {},
     "output_type": "display_data"
    },
    {
     "data": {
      "application/vnd.jupyter.widget-view+json": {
       "model_id": "721459a51382435cbb01a1ac16758566",
       "version_major": 2,
       "version_minor": 0
      },
      "text/plain": [
       "Section documents:   0%|          | 0/50 [00:00<?, ?it/s]"
      ]
     },
     "metadata": {},
     "output_type": "display_data"
    },
    {
     "data": {
      "application/vnd.jupyter.widget-view+json": {
       "model_id": "d0f955995aff4b73930cf2aa2fcbdf78",
       "version_major": 2,
       "version_minor": 0
      },
      "text/plain": [
       "Section documents:   0%|          | 0/1 [00:00<?, ?it/s]"
      ]
     },
     "metadata": {},
     "output_type": "display_data"
    },
    {
     "data": {
      "application/vnd.jupyter.widget-view+json": {
       "model_id": "d5f3efe515a645a4b98dbf0f3912700f",
       "version_major": 2,
       "version_minor": 0
      },
      "text/plain": [
       "Section documents:   0%|          | 0/50 [00:00<?, ?it/s]"
      ]
     },
     "metadata": {},
     "output_type": "display_data"
    },
    {
     "data": {
      "application/vnd.jupyter.widget-view+json": {
       "model_id": "cf7ca6cf3ae541a29ed9e7c18a1108dc",
       "version_major": 2,
       "version_minor": 0
      },
      "text/plain": [
       "Section documents:   0%|          | 0/50 [00:00<?, ?it/s]"
      ]
     },
     "metadata": {},
     "output_type": "display_data"
    },
    {
     "data": {
      "application/vnd.jupyter.widget-view+json": {
       "model_id": "538299f7989b48f29cd5384ab9933cce",
       "version_major": 2,
       "version_minor": 0
      },
      "text/plain": [
       "Section documents:   0%|          | 0/19 [00:00<?, ?it/s]"
      ]
     },
     "metadata": {},
     "output_type": "display_data"
    },
    {
     "data": {
      "application/vnd.jupyter.widget-view+json": {
       "model_id": "1965741994f842c1951fa20bb0394fbd",
       "version_major": 2,
       "version_minor": 0
      },
      "text/plain": [
       "Section documents:   0%|          | 0/22 [00:00<?, ?it/s]"
      ]
     },
     "metadata": {},
     "output_type": "display_data"
    },
    {
     "data": {
      "application/vnd.jupyter.widget-view+json": {
       "model_id": "c22a5778fac34c6db0ba70dd891eb539",
       "version_major": 2,
       "version_minor": 0
      },
      "text/plain": [
       "Section documents:   0%|          | 0/7 [00:00<?, ?it/s]"
      ]
     },
     "metadata": {},
     "output_type": "display_data"
    },
    {
     "data": {
      "application/vnd.jupyter.widget-view+json": {
       "model_id": "6ff77f5cded34aa5bf9805eeab559d6f",
       "version_major": 2,
       "version_minor": 0
      },
      "text/plain": [
       "Section documents:   0%|          | 0/50 [00:00<?, ?it/s]"
      ]
     },
     "metadata": {},
     "output_type": "display_data"
    },
    {
     "data": {
      "application/vnd.jupyter.widget-view+json": {
       "model_id": "04bcef35ad1c4bccaf25ddc04c910ddb",
       "version_major": 2,
       "version_minor": 0
      },
      "text/plain": [
       "Section documents:   0%|          | 0/44 [00:00<?, ?it/s]"
      ]
     },
     "metadata": {},
     "output_type": "display_data"
    },
    {
     "data": {
      "application/vnd.jupyter.widget-view+json": {
       "model_id": "3c2cad989b114b05bf203f8e0b104d4a",
       "version_major": 2,
       "version_minor": 0
      },
      "text/plain": [
       "Section documents:   0%|          | 0/15 [00:00<?, ?it/s]"
      ]
     },
     "metadata": {},
     "output_type": "display_data"
    },
    {
     "data": {
      "application/vnd.jupyter.widget-view+json": {
       "model_id": "3eb114bfd15e475eb1e0c337928ca114",
       "version_major": 2,
       "version_minor": 0
      },
      "text/plain": [
       "Sections:   0%|          | 0/8 [00:00<?, ?it/s]"
      ]
     },
     "metadata": {},
     "output_type": "display_data"
    },
    {
     "data": {
      "application/vnd.jupyter.widget-view+json": {
       "model_id": "78ad8eded3f3431e91679ca16ade06da",
       "version_major": 2,
       "version_minor": 0
      },
      "text/plain": [
       "Section documents:   0%|          | 0/43 [00:00<?, ?it/s]"
      ]
     },
     "metadata": {},
     "output_type": "display_data"
    },
    {
     "data": {
      "application/vnd.jupyter.widget-view+json": {
       "model_id": "1d389422fbb64e80a68ea8281f1424ef",
       "version_major": 2,
       "version_minor": 0
      },
      "text/plain": [
       "Section documents:   0%|          | 0/50 [00:00<?, ?it/s]"
      ]
     },
     "metadata": {},
     "output_type": "display_data"
    },
    {
     "data": {
      "application/vnd.jupyter.widget-view+json": {
       "model_id": "eeee73abbe994041af3a45d21707eb4d",
       "version_major": 2,
       "version_minor": 0
      },
      "text/plain": [
       "Section documents:   0%|          | 0/50 [00:00<?, ?it/s]"
      ]
     },
     "metadata": {},
     "output_type": "display_data"
    },
    {
     "data": {
      "application/vnd.jupyter.widget-view+json": {
       "model_id": "9717117f8e30473784d19cfaef434187",
       "version_major": 2,
       "version_minor": 0
      },
      "text/plain": [
       "Section documents:   0%|          | 0/50 [00:00<?, ?it/s]"
      ]
     },
     "metadata": {},
     "output_type": "display_data"
    },
    {
     "data": {
      "application/vnd.jupyter.widget-view+json": {
       "model_id": "c1dc785294af43268ae10782e7ab513f",
       "version_major": 2,
       "version_minor": 0
      },
      "text/plain": [
       "Section documents:   0%|          | 0/50 [00:00<?, ?it/s]"
      ]
     },
     "metadata": {},
     "output_type": "display_data"
    },
    {
     "data": {
      "application/vnd.jupyter.widget-view+json": {
       "model_id": "170d3f5079c748739b6d69f77b6367da",
       "version_major": 2,
       "version_minor": 0
      },
      "text/plain": [
       "Section documents:   0%|          | 0/50 [00:00<?, ?it/s]"
      ]
     },
     "metadata": {},
     "output_type": "display_data"
    },
    {
     "data": {
      "application/vnd.jupyter.widget-view+json": {
       "model_id": "c7fd9630a0f44c6da599ce13d28c2dc2",
       "version_major": 2,
       "version_minor": 0
      },
      "text/plain": [
       "Section documents:   0%|          | 0/14 [00:00<?, ?it/s]"
      ]
     },
     "metadata": {},
     "output_type": "display_data"
    },
    {
     "data": {
      "application/vnd.jupyter.widget-view+json": {
       "model_id": "f669664ef1dc4bab8045fd9941ab5fb3",
       "version_major": 2,
       "version_minor": 0
      },
      "text/plain": [
       "Section documents:   0%|          | 0/42 [00:00<?, ?it/s]"
      ]
     },
     "metadata": {},
     "output_type": "display_data"
    },
    {
     "data": {
      "application/vnd.jupyter.widget-view+json": {
       "model_id": "1f220804d69847d8bc64e8a6984fff96",
       "version_major": 2,
       "version_minor": 0
      },
      "text/plain": [
       "Sections:   0%|          | 0/12 [00:00<?, ?it/s]"
      ]
     },
     "metadata": {},
     "output_type": "display_data"
    },
    {
     "data": {
      "application/vnd.jupyter.widget-view+json": {
       "model_id": "b618d6f393ac4642a288a858f82abb7f",
       "version_major": 2,
       "version_minor": 0
      },
      "text/plain": [
       "Section documents:   0%|          | 0/2 [00:00<?, ?it/s]"
      ]
     },
     "metadata": {},
     "output_type": "display_data"
    },
    {
     "data": {
      "application/vnd.jupyter.widget-view+json": {
       "model_id": "12cffafc10ca4c55a105d4ea81b62a32",
       "version_major": 2,
       "version_minor": 0
      },
      "text/plain": [
       "Section documents:   0%|          | 0/1 [00:00<?, ?it/s]"
      ]
     },
     "metadata": {},
     "output_type": "display_data"
    },
    {
     "data": {
      "application/vnd.jupyter.widget-view+json": {
       "model_id": "aa1ddad139b649eda86dca0c76a14ca5",
       "version_major": 2,
       "version_minor": 0
      },
      "text/plain": [
       "Section documents:   0%|          | 0/50 [00:00<?, ?it/s]"
      ]
     },
     "metadata": {},
     "output_type": "display_data"
    },
    {
     "data": {
      "application/vnd.jupyter.widget-view+json": {
       "model_id": "f3952641b5644d27b8fcd7f93f68ca83",
       "version_major": 2,
       "version_minor": 0
      },
      "text/plain": [
       "Section documents:   0%|          | 0/50 [00:00<?, ?it/s]"
      ]
     },
     "metadata": {},
     "output_type": "display_data"
    },
    {
     "data": {
      "application/vnd.jupyter.widget-view+json": {
       "model_id": "065cc35c9b0b46b78ad1ec1ac803e129",
       "version_major": 2,
       "version_minor": 0
      },
      "text/plain": [
       "Section documents:   0%|          | 0/50 [00:00<?, ?it/s]"
      ]
     },
     "metadata": {},
     "output_type": "display_data"
    },
    {
     "data": {
      "application/vnd.jupyter.widget-view+json": {
       "model_id": "9282d45718a94995bbd926f77e836e15",
       "version_major": 2,
       "version_minor": 0
      },
      "text/plain": [
       "Section documents:   0%|          | 0/50 [00:00<?, ?it/s]"
      ]
     },
     "metadata": {},
     "output_type": "display_data"
    },
    {
     "data": {
      "application/vnd.jupyter.widget-view+json": {
       "model_id": "48b19f90dd26464a9d564ba59021bbf3",
       "version_major": 2,
       "version_minor": 0
      },
      "text/plain": [
       "Section documents:   0%|          | 0/50 [00:00<?, ?it/s]"
      ]
     },
     "metadata": {},
     "output_type": "display_data"
    },
    {
     "data": {
      "application/vnd.jupyter.widget-view+json": {
       "model_id": "f749195505fd4123894bc395879c331f",
       "version_major": 2,
       "version_minor": 0
      },
      "text/plain": [
       "Section documents:   0%|          | 0/50 [00:00<?, ?it/s]"
      ]
     },
     "metadata": {},
     "output_type": "display_data"
    },
    {
     "data": {
      "application/vnd.jupyter.widget-view+json": {
       "model_id": "6418e6c975444a91b91a3b6a895807e0",
       "version_major": 2,
       "version_minor": 0
      },
      "text/plain": [
       "Section documents:   0%|          | 0/50 [00:00<?, ?it/s]"
      ]
     },
     "metadata": {},
     "output_type": "display_data"
    },
    {
     "data": {
      "application/vnd.jupyter.widget-view+json": {
       "model_id": "0f3bb77e5cb04da08512b5ae2218da9c",
       "version_major": 2,
       "version_minor": 0
      },
      "text/plain": [
       "Section documents:   0%|          | 0/50 [00:00<?, ?it/s]"
      ]
     },
     "metadata": {},
     "output_type": "display_data"
    },
    {
     "data": {
      "application/vnd.jupyter.widget-view+json": {
       "model_id": "c066dd85624f4f71a6c14d3984b26d0d",
       "version_major": 2,
       "version_minor": 0
      },
      "text/plain": [
       "Section documents:   0%|          | 0/22 [00:00<?, ?it/s]"
      ]
     },
     "metadata": {},
     "output_type": "display_data"
    },
    {
     "data": {
      "application/vnd.jupyter.widget-view+json": {
       "model_id": "d4768b76ec884d21ac4e7f320304e6ff",
       "version_major": 2,
       "version_minor": 0
      },
      "text/plain": [
       "Section documents:   0%|          | 0/50 [00:00<?, ?it/s]"
      ]
     },
     "metadata": {},
     "output_type": "display_data"
    },
    {
     "data": {
      "application/vnd.jupyter.widget-view+json": {
       "model_id": "7962f02b0b0b4ce5a0bcf757c50fa629",
       "version_major": 2,
       "version_minor": 0
      },
      "text/plain": [
       "Sections:   0%|          | 0/16 [00:00<?, ?it/s]"
      ]
     },
     "metadata": {},
     "output_type": "display_data"
    },
    {
     "data": {
      "application/vnd.jupyter.widget-view+json": {
       "model_id": "86e1459cce544840b1360b6eecd410f4",
       "version_major": 2,
       "version_minor": 0
      },
      "text/plain": [
       "Section documents:   0%|          | 0/50 [00:00<?, ?it/s]"
      ]
     },
     "metadata": {},
     "output_type": "display_data"
    },
    {
     "data": {
      "application/vnd.jupyter.widget-view+json": {
       "model_id": "ca288afcc8d54f13aa30ed5cc9954501",
       "version_major": 2,
       "version_minor": 0
      },
      "text/plain": [
       "Section documents:   0%|          | 0/4 [00:00<?, ?it/s]"
      ]
     },
     "metadata": {},
     "output_type": "display_data"
    },
    {
     "data": {
      "application/vnd.jupyter.widget-view+json": {
       "model_id": "9fc7443ea1254024895683234a4b39db",
       "version_major": 2,
       "version_minor": 0
      },
      "text/plain": [
       "Section documents:   0%|          | 0/50 [00:00<?, ?it/s]"
      ]
     },
     "metadata": {},
     "output_type": "display_data"
    },
    {
     "data": {
      "application/vnd.jupyter.widget-view+json": {
       "model_id": "2b7ff143c3944810a6f128f74bb09a7c",
       "version_major": 2,
       "version_minor": 0
      },
      "text/plain": [
       "Section documents:   0%|          | 0/50 [00:00<?, ?it/s]"
      ]
     },
     "metadata": {},
     "output_type": "display_data"
    },
    {
     "data": {
      "application/vnd.jupyter.widget-view+json": {
       "model_id": "599b76691ce74428a2dfb6fc92b786dc",
       "version_major": 2,
       "version_minor": 0
      },
      "text/plain": [
       "Section documents:   0%|          | 0/50 [00:00<?, ?it/s]"
      ]
     },
     "metadata": {},
     "output_type": "display_data"
    },
    {
     "data": {
      "application/vnd.jupyter.widget-view+json": {
       "model_id": "26e41747d34849d9b7e5b2b5b1e8d80b",
       "version_major": 2,
       "version_minor": 0
      },
      "text/plain": [
       "Section documents:   0%|          | 0/15 [00:00<?, ?it/s]"
      ]
     },
     "metadata": {},
     "output_type": "display_data"
    },
    {
     "data": {
      "application/vnd.jupyter.widget-view+json": {
       "model_id": "792827fdbab04bb9812ff2d2f1697759",
       "version_major": 2,
       "version_minor": 0
      },
      "text/plain": [
       "Section documents:   0%|          | 0/19 [00:00<?, ?it/s]"
      ]
     },
     "metadata": {},
     "output_type": "display_data"
    },
    {
     "data": {
      "application/vnd.jupyter.widget-view+json": {
       "model_id": "238890c5525a4e0b8dcf0f69991e1d81",
       "version_major": 2,
       "version_minor": 0
      },
      "text/plain": [
       "Section documents:   0%|          | 0/41 [00:00<?, ?it/s]"
      ]
     },
     "metadata": {},
     "output_type": "display_data"
    },
    {
     "data": {
      "application/vnd.jupyter.widget-view+json": {
       "model_id": "95ade0b93d2a44fbaae3d8692c821601",
       "version_major": 2,
       "version_minor": 0
      },
      "text/plain": [
       "Section documents:   0%|          | 0/16 [00:00<?, ?it/s]"
      ]
     },
     "metadata": {},
     "output_type": "display_data"
    },
    {
     "data": {
      "application/vnd.jupyter.widget-view+json": {
       "model_id": "f3a1e116625347ae9302e4d8f5fe5962",
       "version_major": 2,
       "version_minor": 0
      },
      "text/plain": [
       "Section documents:   0%|          | 0/50 [00:00<?, ?it/s]"
      ]
     },
     "metadata": {},
     "output_type": "display_data"
    },
    {
     "data": {
      "application/vnd.jupyter.widget-view+json": {
       "model_id": "3e94d79e41e64d6ebab08529ef6c6758",
       "version_major": 2,
       "version_minor": 0
      },
      "text/plain": [
       "Section documents:   0%|          | 0/48 [00:00<?, ?it/s]"
      ]
     },
     "metadata": {},
     "output_type": "display_data"
    },
    {
     "data": {
      "application/vnd.jupyter.widget-view+json": {
       "model_id": "589d30caf1d846fcbd07694f083def33",
       "version_major": 2,
       "version_minor": 0
      },
      "text/plain": [
       "Section documents:   0%|          | 0/50 [00:00<?, ?it/s]"
      ]
     },
     "metadata": {},
     "output_type": "display_data"
    },
    {
     "data": {
      "application/vnd.jupyter.widget-view+json": {
       "model_id": "17d0b8c91f814b068d44939a2d04da4e",
       "version_major": 2,
       "version_minor": 0
      },
      "text/plain": [
       "Section documents:   0%|          | 0/33 [00:00<?, ?it/s]"
      ]
     },
     "metadata": {},
     "output_type": "display_data"
    },
    {
     "data": {
      "application/vnd.jupyter.widget-view+json": {
       "model_id": "bbf2e078aa5140f594d5846ecb09923f",
       "version_major": 2,
       "version_minor": 0
      },
      "text/plain": [
       "Section documents:   0%|          | 0/12 [00:00<?, ?it/s]"
      ]
     },
     "metadata": {},
     "output_type": "display_data"
    },
    {
     "data": {
      "application/vnd.jupyter.widget-view+json": {
       "model_id": "2ad6595b4c9c40d281397e9915325f8f",
       "version_major": 2,
       "version_minor": 0
      },
      "text/plain": [
       "Section documents:   0%|          | 0/3 [00:00<?, ?it/s]"
      ]
     },
     "metadata": {},
     "output_type": "display_data"
    },
    {
     "data": {
      "application/vnd.jupyter.widget-view+json": {
       "model_id": "4b5f006e346646bc8fe1ad01433ab2f0",
       "version_major": 2,
       "version_minor": 0
      },
      "text/plain": [
       "Sections:   0%|          | 0/19 [00:00<?, ?it/s]"
      ]
     },
     "metadata": {},
     "output_type": "display_data"
    },
    {
     "data": {
      "application/vnd.jupyter.widget-view+json": {
       "model_id": "a826ab1e0f7f43e5812d4973a3fe3d60",
       "version_major": 2,
       "version_minor": 0
      },
      "text/plain": [
       "Section documents:   0%|          | 0/50 [00:00<?, ?it/s]"
      ]
     },
     "metadata": {},
     "output_type": "display_data"
    },
    {
     "data": {
      "application/vnd.jupyter.widget-view+json": {
       "model_id": "0fbb041abfc145b9824f43be4c23cbb2",
       "version_major": 2,
       "version_minor": 0
      },
      "text/plain": [
       "Section documents:   0%|          | 0/11 [00:00<?, ?it/s]"
      ]
     },
     "metadata": {},
     "output_type": "display_data"
    },
    {
     "data": {
      "application/vnd.jupyter.widget-view+json": {
       "model_id": "1b52b0d1c5b7475aa5b514fd0df91b48",
       "version_major": 2,
       "version_minor": 0
      },
      "text/plain": [
       "Section documents:   0%|          | 0/50 [00:00<?, ?it/s]"
      ]
     },
     "metadata": {},
     "output_type": "display_data"
    },
    {
     "data": {
      "application/vnd.jupyter.widget-view+json": {
       "model_id": "6cca43c8a9ac436cbb83af7f1710b14e",
       "version_major": 2,
       "version_minor": 0
      },
      "text/plain": [
       "Section documents:   0%|          | 0/12 [00:00<?, ?it/s]"
      ]
     },
     "metadata": {},
     "output_type": "display_data"
    },
    {
     "data": {
      "application/vnd.jupyter.widget-view+json": {
       "model_id": "f12c2434323048cdb59dd01066f4ec6b",
       "version_major": 2,
       "version_minor": 0
      },
      "text/plain": [
       "Section documents:   0%|          | 0/15 [00:00<?, ?it/s]"
      ]
     },
     "metadata": {},
     "output_type": "display_data"
    },
    {
     "data": {
      "application/vnd.jupyter.widget-view+json": {
       "model_id": "7cee59c0262547c1b8c26e06d980d250",
       "version_major": 2,
       "version_minor": 0
      },
      "text/plain": [
       "Section documents:   0%|          | 0/50 [00:00<?, ?it/s]"
      ]
     },
     "metadata": {},
     "output_type": "display_data"
    },
    {
     "data": {
      "application/vnd.jupyter.widget-view+json": {
       "model_id": "d57e221a69c840ce996dcdc1e40e1bef",
       "version_major": 2,
       "version_minor": 0
      },
      "text/plain": [
       "Section documents:   0%|          | 0/50 [00:00<?, ?it/s]"
      ]
     },
     "metadata": {},
     "output_type": "display_data"
    },
    {
     "data": {
      "application/vnd.jupyter.widget-view+json": {
       "model_id": "ef09e1b762994b78a637cd62eb1222b0",
       "version_major": 2,
       "version_minor": 0
      },
      "text/plain": [
       "Section documents:   0%|          | 0/40 [00:00<?, ?it/s]"
      ]
     },
     "metadata": {},
     "output_type": "display_data"
    },
    {
     "data": {
      "application/vnd.jupyter.widget-view+json": {
       "model_id": "cbef6bbb0a7d4664ab4b7ce920f4fd5a",
       "version_major": 2,
       "version_minor": 0
      },
      "text/plain": [
       "Section documents:   0%|          | 0/50 [00:00<?, ?it/s]"
      ]
     },
     "metadata": {},
     "output_type": "display_data"
    },
    {
     "data": {
      "application/vnd.jupyter.widget-view+json": {
       "model_id": "42624b278d73499493ab01cfb90f6d8d",
       "version_major": 2,
       "version_minor": 0
      },
      "text/plain": [
       "Section documents:   0%|          | 0/50 [00:00<?, ?it/s]"
      ]
     },
     "metadata": {},
     "output_type": "display_data"
    },
    {
     "data": {
      "application/vnd.jupyter.widget-view+json": {
       "model_id": "c9451317417c498c80bcf78a4878a554",
       "version_major": 2,
       "version_minor": 0
      },
      "text/plain": [
       "Section documents:   0%|          | 0/50 [00:00<?, ?it/s]"
      ]
     },
     "metadata": {},
     "output_type": "display_data"
    },
    {
     "data": {
      "application/vnd.jupyter.widget-view+json": {
       "model_id": "96842f40a6d54d008b7c0a07cc49091e",
       "version_major": 2,
       "version_minor": 0
      },
      "text/plain": [
       "Section documents:   0%|          | 0/50 [00:00<?, ?it/s]"
      ]
     },
     "metadata": {},
     "output_type": "display_data"
    },
    {
     "data": {
      "application/vnd.jupyter.widget-view+json": {
       "model_id": "36276646a9654f71bec3e0cc999e13e0",
       "version_major": 2,
       "version_minor": 0
      },
      "text/plain": [
       "Section documents:   0%|          | 0/50 [00:00<?, ?it/s]"
      ]
     },
     "metadata": {},
     "output_type": "display_data"
    },
    {
     "data": {
      "application/vnd.jupyter.widget-view+json": {
       "model_id": "15f1d540c10448b8af481bb3e51c39a4",
       "version_major": 2,
       "version_minor": 0
      },
      "text/plain": [
       "Section documents:   0%|          | 0/50 [00:00<?, ?it/s]"
      ]
     },
     "metadata": {},
     "output_type": "display_data"
    },
    {
     "data": {
      "application/vnd.jupyter.widget-view+json": {
       "model_id": "6b3efbdef18d4e7285bd79a98aed7594",
       "version_major": 2,
       "version_minor": 0
      },
      "text/plain": [
       "Section documents:   0%|          | 0/50 [00:00<?, ?it/s]"
      ]
     },
     "metadata": {},
     "output_type": "display_data"
    },
    {
     "data": {
      "application/vnd.jupyter.widget-view+json": {
       "model_id": "91545d7c513845c0a0e1dfaed0eebb9f",
       "version_major": 2,
       "version_minor": 0
      },
      "text/plain": [
       "Section documents:   0%|          | 0/50 [00:00<?, ?it/s]"
      ]
     },
     "metadata": {},
     "output_type": "display_data"
    },
    {
     "data": {
      "application/vnd.jupyter.widget-view+json": {
       "model_id": "323235204965464ba5f769f3ec213187",
       "version_major": 2,
       "version_minor": 0
      },
      "text/plain": [
       "Section documents:   0%|          | 0/50 [00:00<?, ?it/s]"
      ]
     },
     "metadata": {},
     "output_type": "display_data"
    },
    {
     "data": {
      "application/vnd.jupyter.widget-view+json": {
       "model_id": "03dc7d799d3c49578cab7f3ab822eacb",
       "version_major": 2,
       "version_minor": 0
      },
      "text/plain": [
       "Section documents:   0%|          | 0/17 [00:00<?, ?it/s]"
      ]
     },
     "metadata": {},
     "output_type": "display_data"
    },
    {
     "data": {
      "application/vnd.jupyter.widget-view+json": {
       "model_id": "61f651ca3f6f41d3a4cc6cb361873a3d",
       "version_major": 2,
       "version_minor": 0
      },
      "text/plain": [
       "Sections:   0%|          | 0/14 [00:00<?, ?it/s]"
      ]
     },
     "metadata": {},
     "output_type": "display_data"
    },
    {
     "data": {
      "application/vnd.jupyter.widget-view+json": {
       "model_id": "acaf882af5284de2b111b669f439c61c",
       "version_major": 2,
       "version_minor": 0
      },
      "text/plain": [
       "Section documents:   0%|          | 0/50 [00:00<?, ?it/s]"
      ]
     },
     "metadata": {},
     "output_type": "display_data"
    },
    {
     "data": {
      "application/vnd.jupyter.widget-view+json": {
       "model_id": "247ec34be9fa44e0bdbe66906db9821a",
       "version_major": 2,
       "version_minor": 0
      },
      "text/plain": [
       "Section documents:   0%|          | 0/50 [00:00<?, ?it/s]"
      ]
     },
     "metadata": {},
     "output_type": "display_data"
    },
    {
     "data": {
      "application/vnd.jupyter.widget-view+json": {
       "model_id": "9c4f1f63d5b746d199dba5a509b70844",
       "version_major": 2,
       "version_minor": 0
      },
      "text/plain": [
       "Section documents:   0%|          | 0/42 [00:00<?, ?it/s]"
      ]
     },
     "metadata": {},
     "output_type": "display_data"
    },
    {
     "data": {
      "application/vnd.jupyter.widget-view+json": {
       "model_id": "dc26b525a82b4555b20ce78a7f452dea",
       "version_major": 2,
       "version_minor": 0
      },
      "text/plain": [
       "Section documents:   0%|          | 0/50 [00:00<?, ?it/s]"
      ]
     },
     "metadata": {},
     "output_type": "display_data"
    },
    {
     "data": {
      "application/vnd.jupyter.widget-view+json": {
       "model_id": "09751c118d5648fb94cfdce9fcdc0d40",
       "version_major": 2,
       "version_minor": 0
      },
      "text/plain": [
       "Section documents:   0%|          | 0/50 [00:00<?, ?it/s]"
      ]
     },
     "metadata": {},
     "output_type": "display_data"
    },
    {
     "data": {
      "application/vnd.jupyter.widget-view+json": {
       "model_id": "b175c3c456e44d04a78ed41655c19d69",
       "version_major": 2,
       "version_minor": 0
      },
      "text/plain": [
       "Section documents:   0%|          | 0/42 [00:00<?, ?it/s]"
      ]
     },
     "metadata": {},
     "output_type": "display_data"
    },
    {
     "data": {
      "application/vnd.jupyter.widget-view+json": {
       "model_id": "08088e8d60cd4810a6284154911490df",
       "version_major": 2,
       "version_minor": 0
      },
      "text/plain": [
       "Section documents:   0%|          | 0/8 [00:00<?, ?it/s]"
      ]
     },
     "metadata": {},
     "output_type": "display_data"
    },
    {
     "data": {
      "application/vnd.jupyter.widget-view+json": {
       "model_id": "c84a695403fa43e18422902864ef3c19",
       "version_major": 2,
       "version_minor": 0
      },
      "text/plain": [
       "Section documents:   0%|          | 0/4 [00:00<?, ?it/s]"
      ]
     },
     "metadata": {},
     "output_type": "display_data"
    },
    {
     "data": {
      "application/vnd.jupyter.widget-view+json": {
       "model_id": "5f32370363bd4f0fb8a30a861cb31505",
       "version_major": 2,
       "version_minor": 0
      },
      "text/plain": [
       "Section documents:   0%|          | 0/49 [00:00<?, ?it/s]"
      ]
     },
     "metadata": {},
     "output_type": "display_data"
    },
    {
     "data": {
      "application/vnd.jupyter.widget-view+json": {
       "model_id": "fee1863657e6457b976d239fa6230212",
       "version_major": 2,
       "version_minor": 0
      },
      "text/plain": [
       "Section documents:   0%|          | 0/45 [00:00<?, ?it/s]"
      ]
     },
     "metadata": {},
     "output_type": "display_data"
    },
    {
     "data": {
      "application/vnd.jupyter.widget-view+json": {
       "model_id": "61b92b232ef8406abbd09f49c1d186b8",
       "version_major": 2,
       "version_minor": 0
      },
      "text/plain": [
       "Section documents:   0%|          | 0/50 [00:00<?, ?it/s]"
      ]
     },
     "metadata": {},
     "output_type": "display_data"
    },
    {
     "data": {
      "application/vnd.jupyter.widget-view+json": {
       "model_id": "8740a6d1487f435e9182a50b0902de1d",
       "version_major": 2,
       "version_minor": 0
      },
      "text/plain": [
       "Section documents:   0%|          | 0/50 [00:00<?, ?it/s]"
      ]
     },
     "metadata": {},
     "output_type": "display_data"
    },
    {
     "data": {
      "application/vnd.jupyter.widget-view+json": {
       "model_id": "1c70366c25a545cba7c85a19ed41df40",
       "version_major": 2,
       "version_minor": 0
      },
      "text/plain": [
       "Section documents:   0%|          | 0/47 [00:00<?, ?it/s]"
      ]
     },
     "metadata": {},
     "output_type": "display_data"
    },
    {
     "data": {
      "application/vnd.jupyter.widget-view+json": {
       "model_id": "6e224a23cda14d939425adadb231fe7e",
       "version_major": 2,
       "version_minor": 0
      },
      "text/plain": [
       "Section documents:   0%|          | 0/50 [00:00<?, ?it/s]"
      ]
     },
     "metadata": {},
     "output_type": "display_data"
    },
    {
     "data": {
      "application/vnd.jupyter.widget-view+json": {
       "model_id": "039c8e039abe403d87932eb965502795",
       "version_major": 2,
       "version_minor": 0
      },
      "text/plain": [
       "Sections:   0%|          | 0/14 [00:00<?, ?it/s]"
      ]
     },
     "metadata": {},
     "output_type": "display_data"
    },
    {
     "data": {
      "application/vnd.jupyter.widget-view+json": {
       "model_id": "dc2ebf5c59fb42a99be03313db7513c9",
       "version_major": 2,
       "version_minor": 0
      },
      "text/plain": [
       "Section documents:   0%|          | 0/20 [00:00<?, ?it/s]"
      ]
     },
     "metadata": {},
     "output_type": "display_data"
    },
    {
     "data": {
      "application/vnd.jupyter.widget-view+json": {
       "model_id": "5010270d43814c42a8e45c3bca3d6ccf",
       "version_major": 2,
       "version_minor": 0
      },
      "text/plain": [
       "Section documents:   0%|          | 0/50 [00:00<?, ?it/s]"
      ]
     },
     "metadata": {},
     "output_type": "display_data"
    },
    {
     "data": {
      "application/vnd.jupyter.widget-view+json": {
       "model_id": "d7cec1f522b745ddbd371e6e325916b7",
       "version_major": 2,
       "version_minor": 0
      },
      "text/plain": [
       "Section documents:   0%|          | 0/48 [00:00<?, ?it/s]"
      ]
     },
     "metadata": {},
     "output_type": "display_data"
    },
    {
     "data": {
      "application/vnd.jupyter.widget-view+json": {
       "model_id": "b3796c9ce42c4092b79b4f1e3edec17c",
       "version_major": 2,
       "version_minor": 0
      },
      "text/plain": [
       "Section documents:   0%|          | 0/50 [00:00<?, ?it/s]"
      ]
     },
     "metadata": {},
     "output_type": "display_data"
    },
    {
     "data": {
      "application/vnd.jupyter.widget-view+json": {
       "model_id": "2787ee64cc044a0d966638e740cebc62",
       "version_major": 2,
       "version_minor": 0
      },
      "text/plain": [
       "Section documents:   0%|          | 0/33 [00:00<?, ?it/s]"
      ]
     },
     "metadata": {},
     "output_type": "display_data"
    },
    {
     "data": {
      "application/vnd.jupyter.widget-view+json": {
       "model_id": "65a023d3fdbe49d6aeae5b81231ada4b",
       "version_major": 2,
       "version_minor": 0
      },
      "text/plain": [
       "Section documents:   0%|          | 0/7 [00:00<?, ?it/s]"
      ]
     },
     "metadata": {},
     "output_type": "display_data"
    },
    {
     "data": {
      "application/vnd.jupyter.widget-view+json": {
       "model_id": "8940a1c288b54e20b7d381cda8a06ed9",
       "version_major": 2,
       "version_minor": 0
      },
      "text/plain": [
       "Section documents:   0%|          | 0/50 [00:00<?, ?it/s]"
      ]
     },
     "metadata": {},
     "output_type": "display_data"
    },
    {
     "data": {
      "application/vnd.jupyter.widget-view+json": {
       "model_id": "9de72e005e7c4054b3d2b3e0de778b18",
       "version_major": 2,
       "version_minor": 0
      },
      "text/plain": [
       "Section documents:   0%|          | 0/15 [00:00<?, ?it/s]"
      ]
     },
     "metadata": {},
     "output_type": "display_data"
    },
    {
     "data": {
      "application/vnd.jupyter.widget-view+json": {
       "model_id": "b3219834c2e5412cb344bf1c4be9feb6",
       "version_major": 2,
       "version_minor": 0
      },
      "text/plain": [
       "Section documents:   0%|          | 0/8 [00:00<?, ?it/s]"
      ]
     },
     "metadata": {},
     "output_type": "display_data"
    },
    {
     "data": {
      "application/vnd.jupyter.widget-view+json": {
       "model_id": "8efed56999ad45b29160754d904e0108",
       "version_major": 2,
       "version_minor": 0
      },
      "text/plain": [
       "Section documents:   0%|          | 0/50 [00:00<?, ?it/s]"
      ]
     },
     "metadata": {},
     "output_type": "display_data"
    },
    {
     "data": {
      "application/vnd.jupyter.widget-view+json": {
       "model_id": "ec52b20971874bf7b2ee8c1335f4bd04",
       "version_major": 2,
       "version_minor": 0
      },
      "text/plain": [
       "Section documents:   0%|          | 0/50 [00:00<?, ?it/s]"
      ]
     },
     "metadata": {},
     "output_type": "display_data"
    },
    {
     "data": {
      "application/vnd.jupyter.widget-view+json": {
       "model_id": "ea78a6a79ce24c8baac800e0ad475f6d",
       "version_major": 2,
       "version_minor": 0
      },
      "text/plain": [
       "Section documents:   0%|          | 0/50 [00:00<?, ?it/s]"
      ]
     },
     "metadata": {},
     "output_type": "display_data"
    },
    {
     "data": {
      "application/vnd.jupyter.widget-view+json": {
       "model_id": "02ae87ef12294037a7546cddbd1c52c1",
       "version_major": 2,
       "version_minor": 0
      },
      "text/plain": [
       "Section documents:   0%|          | 0/34 [00:00<?, ?it/s]"
      ]
     },
     "metadata": {},
     "output_type": "display_data"
    },
    {
     "data": {
      "application/vnd.jupyter.widget-view+json": {
       "model_id": "bd42801ef6224b80adc6f25a1ac7b68e",
       "version_major": 2,
       "version_minor": 0
      },
      "text/plain": [
       "Sections:   0%|          | 0/15 [00:00<?, ?it/s]"
      ]
     },
     "metadata": {},
     "output_type": "display_data"
    },
    {
     "data": {
      "application/vnd.jupyter.widget-view+json": {
       "model_id": "c23496b0a8434c81adbebb80dca2c384",
       "version_major": 2,
       "version_minor": 0
      },
      "text/plain": [
       "Section documents:   0%|          | 0/50 [00:00<?, ?it/s]"
      ]
     },
     "metadata": {},
     "output_type": "display_data"
    },
    {
     "data": {
      "application/vnd.jupyter.widget-view+json": {
       "model_id": "59053e553f5a4fb3b5dd633025268b4b",
       "version_major": 2,
       "version_minor": 0
      },
      "text/plain": [
       "Section documents:   0%|          | 0/2 [00:00<?, ?it/s]"
      ]
     },
     "metadata": {},
     "output_type": "display_data"
    },
    {
     "data": {
      "application/vnd.jupyter.widget-view+json": {
       "model_id": "1b81afd7b4e545e0a5e46af0e05406f1",
       "version_major": 2,
       "version_minor": 0
      },
      "text/plain": [
       "Section documents:   0%|          | 0/50 [00:00<?, ?it/s]"
      ]
     },
     "metadata": {},
     "output_type": "display_data"
    },
    {
     "data": {
      "application/vnd.jupyter.widget-view+json": {
       "model_id": "0b41cf59512d459b92b8b00d4f678500",
       "version_major": 2,
       "version_minor": 0
      },
      "text/plain": [
       "Section documents:   0%|          | 0/16 [00:00<?, ?it/s]"
      ]
     },
     "metadata": {},
     "output_type": "display_data"
    },
    {
     "data": {
      "application/vnd.jupyter.widget-view+json": {
       "model_id": "fa0f5ff5c1f04586afa4fd4e6599b4c3",
       "version_major": 2,
       "version_minor": 0
      },
      "text/plain": [
       "Section documents:   0%|          | 0/50 [00:00<?, ?it/s]"
      ]
     },
     "metadata": {},
     "output_type": "display_data"
    },
    {
     "data": {
      "application/vnd.jupyter.widget-view+json": {
       "model_id": "55265feecf084e54819f4bfe601bf3f6",
       "version_major": 2,
       "version_minor": 0
      },
      "text/plain": [
       "Section documents:   0%|          | 0/50 [00:00<?, ?it/s]"
      ]
     },
     "metadata": {},
     "output_type": "display_data"
    },
    {
     "data": {
      "application/vnd.jupyter.widget-view+json": {
       "model_id": "6f129b286a514bfab56b9261b51c27e4",
       "version_major": 2,
       "version_minor": 0
      },
      "text/plain": [
       "Section documents:   0%|          | 0/41 [00:00<?, ?it/s]"
      ]
     },
     "metadata": {},
     "output_type": "display_data"
    },
    {
     "data": {
      "application/vnd.jupyter.widget-view+json": {
       "model_id": "bf04bd475aaa45de818ea1eed98e8f88",
       "version_major": 2,
       "version_minor": 0
      },
      "text/plain": [
       "Section documents:   0%|          | 0/4 [00:00<?, ?it/s]"
      ]
     },
     "metadata": {},
     "output_type": "display_data"
    },
    {
     "data": {
      "application/vnd.jupyter.widget-view+json": {
       "model_id": "16c751c61b7141c98eea2666123c28cc",
       "version_major": 2,
       "version_minor": 0
      },
      "text/plain": [
       "Section documents:   0%|          | 0/33 [00:00<?, ?it/s]"
      ]
     },
     "metadata": {},
     "output_type": "display_data"
    },
    {
     "data": {
      "application/vnd.jupyter.widget-view+json": {
       "model_id": "62c7642ab7564e6f99719f93a2aa2768",
       "version_major": 2,
       "version_minor": 0
      },
      "text/plain": [
       "Section documents:   0%|          | 0/19 [00:00<?, ?it/s]"
      ]
     },
     "metadata": {},
     "output_type": "display_data"
    },
    {
     "data": {
      "application/vnd.jupyter.widget-view+json": {
       "model_id": "730be0f07e2a42cb9c327f81628af4fb",
       "version_major": 2,
       "version_minor": 0
      },
      "text/plain": [
       "Section documents:   0%|          | 0/32 [00:00<?, ?it/s]"
      ]
     },
     "metadata": {},
     "output_type": "display_data"
    },
    {
     "data": {
      "application/vnd.jupyter.widget-view+json": {
       "model_id": "705ea0670c5f4b7babb1d4129b19f389",
       "version_major": 2,
       "version_minor": 0
      },
      "text/plain": [
       "Section documents:   0%|          | 0/2 [00:00<?, ?it/s]"
      ]
     },
     "metadata": {},
     "output_type": "display_data"
    },
    {
     "data": {
      "application/vnd.jupyter.widget-view+json": {
       "model_id": "46c779ffe8b747ab8349fdb4e17e4905",
       "version_major": 2,
       "version_minor": 0
      },
      "text/plain": [
       "Section documents:   0%|          | 0/14 [00:00<?, ?it/s]"
      ]
     },
     "metadata": {},
     "output_type": "display_data"
    },
    {
     "data": {
      "application/vnd.jupyter.widget-view+json": {
       "model_id": "5a6ac688efbe4164974f367c7dc3f62b",
       "version_major": 2,
       "version_minor": 0
      },
      "text/plain": [
       "Section documents:   0%|          | 0/50 [00:00<?, ?it/s]"
      ]
     },
     "metadata": {},
     "output_type": "display_data"
    },
    {
     "data": {
      "application/vnd.jupyter.widget-view+json": {
       "model_id": "d9c09f00293544dc8ebc90e6a3014f94",
       "version_major": 2,
       "version_minor": 0
      },
      "text/plain": [
       "Section documents:   0%|          | 0/12 [00:00<?, ?it/s]"
      ]
     },
     "metadata": {},
     "output_type": "display_data"
    },
    {
     "data": {
      "application/vnd.jupyter.widget-view+json": {
       "model_id": "99588c17fd6647ef9d417fbd2868db81",
       "version_major": 2,
       "version_minor": 0
      },
      "text/plain": [
       "Sections:   0%|          | 0/5 [00:00<?, ?it/s]"
      ]
     },
     "metadata": {},
     "output_type": "display_data"
    },
    {
     "data": {
      "application/vnd.jupyter.widget-view+json": {
       "model_id": "f3ea9a6b98c6451f82c77dad5e5df015",
       "version_major": 2,
       "version_minor": 0
      },
      "text/plain": [
       "Section documents:   0%|          | 0/36 [00:00<?, ?it/s]"
      ]
     },
     "metadata": {},
     "output_type": "display_data"
    },
    {
     "data": {
      "application/vnd.jupyter.widget-view+json": {
       "model_id": "29f469e0f2f14f588a9eac238f5fd450",
       "version_major": 2,
       "version_minor": 0
      },
      "text/plain": [
       "Section documents:   0%|          | 0/50 [00:00<?, ?it/s]"
      ]
     },
     "metadata": {},
     "output_type": "display_data"
    },
    {
     "data": {
      "application/vnd.jupyter.widget-view+json": {
       "model_id": "e52b3fac3e174ce7853687f918050429",
       "version_major": 2,
       "version_minor": 0
      },
      "text/plain": [
       "Section documents:   0%|          | 0/46 [00:00<?, ?it/s]"
      ]
     },
     "metadata": {},
     "output_type": "display_data"
    },
    {
     "data": {
      "application/vnd.jupyter.widget-view+json": {
       "model_id": "5fff8104b2554e4f8ec93a550c7eeb76",
       "version_major": 2,
       "version_minor": 0
      },
      "text/plain": [
       "Section documents:   0%|          | 0/50 [00:00<?, ?it/s]"
      ]
     },
     "metadata": {},
     "output_type": "display_data"
    },
    {
     "data": {
      "application/vnd.jupyter.widget-view+json": {
       "model_id": "cc10734a708e4f8082d3c05e9d314c96",
       "version_major": 2,
       "version_minor": 0
      },
      "text/plain": [
       "Section documents:   0%|          | 0/17 [00:00<?, ?it/s]"
      ]
     },
     "metadata": {},
     "output_type": "display_data"
    },
    {
     "data": {
      "application/vnd.jupyter.widget-view+json": {
       "model_id": "98af23b761d2401d8b6cb1dba7461566",
       "version_major": 2,
       "version_minor": 0
      },
      "text/plain": [
       "Sections:   0%|          | 0/3 [00:00<?, ?it/s]"
      ]
     },
     "metadata": {},
     "output_type": "display_data"
    },
    {
     "data": {
      "application/vnd.jupyter.widget-view+json": {
       "model_id": "80df9cecdf404a42af08cae21d1a198b",
       "version_major": 2,
       "version_minor": 0
      },
      "text/plain": [
       "Section documents:   0%|          | 0/23 [00:00<?, ?it/s]"
      ]
     },
     "metadata": {},
     "output_type": "display_data"
    },
    {
     "data": {
      "application/vnd.jupyter.widget-view+json": {
       "model_id": "0b4a349c8f8b47cea6686f5898d1c418",
       "version_major": 2,
       "version_minor": 0
      },
      "text/plain": [
       "Section documents:   0%|          | 0/46 [00:00<?, ?it/s]"
      ]
     },
     "metadata": {},
     "output_type": "display_data"
    },
    {
     "data": {
      "application/vnd.jupyter.widget-view+json": {
       "model_id": "2477789ad1e047b1a6a42a3d0088fc04",
       "version_major": 2,
       "version_minor": 0
      },
      "text/plain": [
       "Sections:   0%|          | 0/10 [00:00<?, ?it/s]"
      ]
     },
     "metadata": {},
     "output_type": "display_data"
    },
    {
     "data": {
      "application/vnd.jupyter.widget-view+json": {
       "model_id": "bffe924c76cf4959af2e5784a19d4f5d",
       "version_major": 2,
       "version_minor": 0
      },
      "text/plain": [
       "Section documents:   0%|          | 0/50 [00:00<?, ?it/s]"
      ]
     },
     "metadata": {},
     "output_type": "display_data"
    },
    {
     "data": {
      "application/vnd.jupyter.widget-view+json": {
       "model_id": "714c3bb9c39641feb6450ab96bc7a739",
       "version_major": 2,
       "version_minor": 0
      },
      "text/plain": [
       "Section documents:   0%|          | 0/50 [00:00<?, ?it/s]"
      ]
     },
     "metadata": {},
     "output_type": "display_data"
    },
    {
     "data": {
      "application/vnd.jupyter.widget-view+json": {
       "model_id": "59a0da15aaa049ed8b502123f4e4200d",
       "version_major": 2,
       "version_minor": 0
      },
      "text/plain": [
       "Section documents:   0%|          | 0/50 [00:00<?, ?it/s]"
      ]
     },
     "metadata": {},
     "output_type": "display_data"
    },
    {
     "data": {
      "application/vnd.jupyter.widget-view+json": {
       "model_id": "683ee4eb80f44646b5c2a296b087edec",
       "version_major": 2,
       "version_minor": 0
      },
      "text/plain": [
       "Section documents:   0%|          | 0/39 [00:00<?, ?it/s]"
      ]
     },
     "metadata": {},
     "output_type": "display_data"
    },
    {
     "data": {
      "application/vnd.jupyter.widget-view+json": {
       "model_id": "f54bc2d5242043da9b28bb71251a0b5b",
       "version_major": 2,
       "version_minor": 0
      },
      "text/plain": [
       "Section documents:   0%|          | 0/5 [00:00<?, ?it/s]"
      ]
     },
     "metadata": {},
     "output_type": "display_data"
    },
    {
     "data": {
      "application/vnd.jupyter.widget-view+json": {
       "model_id": "fe1c61e24948473aa7727b153ca8fde7",
       "version_major": 2,
       "version_minor": 0
      },
      "text/plain": [
       "Section documents:   0%|          | 0/34 [00:00<?, ?it/s]"
      ]
     },
     "metadata": {},
     "output_type": "display_data"
    },
    {
     "data": {
      "application/vnd.jupyter.widget-view+json": {
       "model_id": "6eecbbb4d5aa49f48bb386484b760bff",
       "version_major": 2,
       "version_minor": 0
      },
      "text/plain": [
       "Section documents:   0%|          | 0/33 [00:00<?, ?it/s]"
      ]
     },
     "metadata": {},
     "output_type": "display_data"
    },
    {
     "data": {
      "application/vnd.jupyter.widget-view+json": {
       "model_id": "c2222d73f7c04979accc7058c18daee7",
       "version_major": 2,
       "version_minor": 0
      },
      "text/plain": [
       "Section documents:   0%|          | 0/22 [00:00<?, ?it/s]"
      ]
     },
     "metadata": {},
     "output_type": "display_data"
    },
    {
     "data": {
      "application/vnd.jupyter.widget-view+json": {
       "model_id": "83ad60fa33d249b0a9a0ef661be0ab76",
       "version_major": 2,
       "version_minor": 0
      },
      "text/plain": [
       "Section documents:   0%|          | 0/21 [00:00<?, ?it/s]"
      ]
     },
     "metadata": {},
     "output_type": "display_data"
    },
    {
     "data": {
      "application/vnd.jupyter.widget-view+json": {
       "model_id": "5f56ca29301a413f94243515235215a8",
       "version_major": 2,
       "version_minor": 0
      },
      "text/plain": [
       "Section documents:   0%|          | 0/14 [00:00<?, ?it/s]"
      ]
     },
     "metadata": {},
     "output_type": "display_data"
    },
    {
     "data": {
      "application/vnd.jupyter.widget-view+json": {
       "model_id": "95adb2e52d864b69b452325f9ac95cf6",
       "version_major": 2,
       "version_minor": 0
      },
      "text/plain": [
       "Sections:   0%|          | 0/7 [00:00<?, ?it/s]"
      ]
     },
     "metadata": {},
     "output_type": "display_data"
    },
    {
     "data": {
      "application/vnd.jupyter.widget-view+json": {
       "model_id": "fcb3972e7bfb416fb170ed87da5894ee",
       "version_major": 2,
       "version_minor": 0
      },
      "text/plain": [
       "Section documents:   0%|          | 0/50 [00:00<?, ?it/s]"
      ]
     },
     "metadata": {},
     "output_type": "display_data"
    },
    {
     "data": {
      "application/vnd.jupyter.widget-view+json": {
       "model_id": "3ddce3cc0426460caa446d173e057b00",
       "version_major": 2,
       "version_minor": 0
      },
      "text/plain": [
       "Section documents:   0%|          | 0/29 [00:00<?, ?it/s]"
      ]
     },
     "metadata": {},
     "output_type": "display_data"
    },
    {
     "data": {
      "application/vnd.jupyter.widget-view+json": {
       "model_id": "de0e7ac5db334b2d902bd075508b10f5",
       "version_major": 2,
       "version_minor": 0
      },
      "text/plain": [
       "Section documents:   0%|          | 0/50 [00:00<?, ?it/s]"
      ]
     },
     "metadata": {},
     "output_type": "display_data"
    },
    {
     "data": {
      "application/vnd.jupyter.widget-view+json": {
       "model_id": "9c07adde7b8e40b68746c22ec0bc200a",
       "version_major": 2,
       "version_minor": 0
      },
      "text/plain": [
       "Section documents:   0%|          | 0/50 [00:00<?, ?it/s]"
      ]
     },
     "metadata": {},
     "output_type": "display_data"
    },
    {
     "data": {
      "application/vnd.jupyter.widget-view+json": {
       "model_id": "aceeca1baecf4ecd9bf8c0a63b710cb2",
       "version_major": 2,
       "version_minor": 0
      },
      "text/plain": [
       "Section documents:   0%|          | 0/2 [00:00<?, ?it/s]"
      ]
     },
     "metadata": {},
     "output_type": "display_data"
    },
    {
     "data": {
      "application/vnd.jupyter.widget-view+json": {
       "model_id": "9ee4e57d1da54c4297af2054e8c0a9c0",
       "version_major": 2,
       "version_minor": 0
      },
      "text/plain": [
       "Section documents:   0%|          | 0/5 [00:00<?, ?it/s]"
      ]
     },
     "metadata": {},
     "output_type": "display_data"
    },
    {
     "data": {
      "application/vnd.jupyter.widget-view+json": {
       "model_id": "2d330fbf1bd042da83d2a7c32e5c7532",
       "version_major": 2,
       "version_minor": 0
      },
      "text/plain": [
       "Sections:   0%|          | 0/4 [00:00<?, ?it/s]"
      ]
     },
     "metadata": {},
     "output_type": "display_data"
    },
    {
     "data": {
      "application/vnd.jupyter.widget-view+json": {
       "model_id": "dfb55442596c4abebdd45f2a2cabb7b2",
       "version_major": 2,
       "version_minor": 0
      },
      "text/plain": [
       "Section documents:   0%|          | 0/50 [00:00<?, ?it/s]"
      ]
     },
     "metadata": {},
     "output_type": "display_data"
    },
    {
     "data": {
      "application/vnd.jupyter.widget-view+json": {
       "model_id": "b7fa2fd2df294c4093ce69d5f83f4a2f",
       "version_major": 2,
       "version_minor": 0
      },
      "text/plain": [
       "Section documents:   0%|          | 0/3 [00:00<?, ?it/s]"
      ]
     },
     "metadata": {},
     "output_type": "display_data"
    },
    {
     "data": {
      "application/vnd.jupyter.widget-view+json": {
       "model_id": "b409c106368e482d94f98c982d7fc6e4",
       "version_major": 2,
       "version_minor": 0
      },
      "text/plain": [
       "Section documents:   0%|          | 0/36 [00:00<?, ?it/s]"
      ]
     },
     "metadata": {},
     "output_type": "display_data"
    },
    {
     "data": {
      "application/vnd.jupyter.widget-view+json": {
       "model_id": "b01f240646a143d58f0f039ba9c49c6b",
       "version_major": 2,
       "version_minor": 0
      },
      "text/plain": [
       "Section documents:   0%|          | 0/33 [00:00<?, ?it/s]"
      ]
     },
     "metadata": {},
     "output_type": "display_data"
    },
    {
     "data": {
      "application/vnd.jupyter.widget-view+json": {
       "model_id": "e493db1811d64b17aa843fab2b7668d0",
       "version_major": 2,
       "version_minor": 0
      },
      "text/plain": [
       "Sections:   0%|          | 0/14 [00:00<?, ?it/s]"
      ]
     },
     "metadata": {},
     "output_type": "display_data"
    },
    {
     "data": {
      "application/vnd.jupyter.widget-view+json": {
       "model_id": "e66250ffd686499892cdf2836e151ce4",
       "version_major": 2,
       "version_minor": 0
      },
      "text/plain": [
       "Section documents:   0%|          | 0/50 [00:00<?, ?it/s]"
      ]
     },
     "metadata": {},
     "output_type": "display_data"
    },
    {
     "data": {
      "application/vnd.jupyter.widget-view+json": {
       "model_id": "b39c9bf76bc44c1aa7e2d7d3923fabb6",
       "version_major": 2,
       "version_minor": 0
      },
      "text/plain": [
       "Section documents:   0%|          | 0/13 [00:00<?, ?it/s]"
      ]
     },
     "metadata": {},
     "output_type": "display_data"
    },
    {
     "data": {
      "application/vnd.jupyter.widget-view+json": {
       "model_id": "6525c89497e24e0891a75d5e7e4d3235",
       "version_major": 2,
       "version_minor": 0
      },
      "text/plain": [
       "Section documents:   0%|          | 0/2 [00:00<?, ?it/s]"
      ]
     },
     "metadata": {},
     "output_type": "display_data"
    },
    {
     "data": {
      "application/vnd.jupyter.widget-view+json": {
       "model_id": "fa395e27e1024f3da8d779301fc24dbf",
       "version_major": 2,
       "version_minor": 0
      },
      "text/plain": [
       "Section documents:   0%|          | 0/5 [00:00<?, ?it/s]"
      ]
     },
     "metadata": {},
     "output_type": "display_data"
    },
    {
     "data": {
      "application/vnd.jupyter.widget-view+json": {
       "model_id": "af8068584c23461eba528a0b1f60d1b9",
       "version_major": 2,
       "version_minor": 0
      },
      "text/plain": [
       "Section documents:   0%|          | 0/14 [00:00<?, ?it/s]"
      ]
     },
     "metadata": {},
     "output_type": "display_data"
    },
    {
     "data": {
      "application/vnd.jupyter.widget-view+json": {
       "model_id": "01e31da2ace643dda9ec4364f2aee782",
       "version_major": 2,
       "version_minor": 0
      },
      "text/plain": [
       "Section documents:   0%|          | 0/19 [00:00<?, ?it/s]"
      ]
     },
     "metadata": {},
     "output_type": "display_data"
    },
    {
     "data": {
      "application/vnd.jupyter.widget-view+json": {
       "model_id": "8611d43717184a7c8d0028564d6c5fdd",
       "version_major": 2,
       "version_minor": 0
      },
      "text/plain": [
       "Section documents:   0%|          | 0/9 [00:00<?, ?it/s]"
      ]
     },
     "metadata": {},
     "output_type": "display_data"
    },
    {
     "data": {
      "application/vnd.jupyter.widget-view+json": {
       "model_id": "3ccd9d03ed5e40ac83ab6972c544ba3d",
       "version_major": 2,
       "version_minor": 0
      },
      "text/plain": [
       "Section documents:   0%|          | 0/35 [00:00<?, ?it/s]"
      ]
     },
     "metadata": {},
     "output_type": "display_data"
    },
    {
     "data": {
      "application/vnd.jupyter.widget-view+json": {
       "model_id": "786fe87957b84ed8ae5be46b16dbcf13",
       "version_major": 2,
       "version_minor": 0
      },
      "text/plain": [
       "Section documents:   0%|          | 0/24 [00:00<?, ?it/s]"
      ]
     },
     "metadata": {},
     "output_type": "display_data"
    },
    {
     "data": {
      "application/vnd.jupyter.widget-view+json": {
       "model_id": "9aafd2d844ab4292aaae3eb59d640d00",
       "version_major": 2,
       "version_minor": 0
      },
      "text/plain": [
       "Section documents:   0%|          | 0/8 [00:00<?, ?it/s]"
      ]
     },
     "metadata": {},
     "output_type": "display_data"
    },
    {
     "data": {
      "application/vnd.jupyter.widget-view+json": {
       "model_id": "4ecb9542e71640e4bd1a1b56862de03f",
       "version_major": 2,
       "version_minor": 0
      },
      "text/plain": [
       "Section documents:   0%|          | 0/29 [00:00<?, ?it/s]"
      ]
     },
     "metadata": {},
     "output_type": "display_data"
    },
    {
     "data": {
      "application/vnd.jupyter.widget-view+json": {
       "model_id": "8e92d790588748b49b9c05ca6f384e9c",
       "version_major": 2,
       "version_minor": 0
      },
      "text/plain": [
       "Section documents:   0%|          | 0/7 [00:00<?, ?it/s]"
      ]
     },
     "metadata": {},
     "output_type": "display_data"
    },
    {
     "data": {
      "application/vnd.jupyter.widget-view+json": {
       "model_id": "abfd7f57214041b3b46f31f773f9c3a8",
       "version_major": 2,
       "version_minor": 0
      },
      "text/plain": [
       "Section documents:   0%|          | 0/43 [00:00<?, ?it/s]"
      ]
     },
     "metadata": {},
     "output_type": "display_data"
    },
    {
     "data": {
      "application/vnd.jupyter.widget-view+json": {
       "model_id": "e1707d22b3524ccd873ce562e3856a3e",
       "version_major": 2,
       "version_minor": 0
      },
      "text/plain": [
       "Sections:   0%|          | 0/6 [00:00<?, ?it/s]"
      ]
     },
     "metadata": {},
     "output_type": "display_data"
    },
    {
     "data": {
      "application/vnd.jupyter.widget-view+json": {
       "model_id": "2390245549b348f083b38ba2e3a39c8e",
       "version_major": 2,
       "version_minor": 0
      },
      "text/plain": [
       "Section documents:   0%|          | 0/50 [00:00<?, ?it/s]"
      ]
     },
     "metadata": {},
     "output_type": "display_data"
    },
    {
     "data": {
      "application/vnd.jupyter.widget-view+json": {
       "model_id": "e0e77412f6c142dd975747c4683ffcea",
       "version_major": 2,
       "version_minor": 0
      },
      "text/plain": [
       "Section documents:   0%|          | 0/50 [00:00<?, ?it/s]"
      ]
     },
     "metadata": {},
     "output_type": "display_data"
    },
    {
     "data": {
      "application/vnd.jupyter.widget-view+json": {
       "model_id": "28838f76ab1143b7bfa2f2318d3c850b",
       "version_major": 2,
       "version_minor": 0
      },
      "text/plain": [
       "Section documents:   0%|          | 0/26 [00:00<?, ?it/s]"
      ]
     },
     "metadata": {},
     "output_type": "display_data"
    },
    {
     "data": {
      "application/vnd.jupyter.widget-view+json": {
       "model_id": "a3e548fba1a14fd2aee9bc7fe764e4b4",
       "version_major": 2,
       "version_minor": 0
      },
      "text/plain": [
       "Section documents:   0%|          | 0/13 [00:00<?, ?it/s]"
      ]
     },
     "metadata": {},
     "output_type": "display_data"
    },
    {
     "data": {
      "application/vnd.jupyter.widget-view+json": {
       "model_id": "16780fee68cf4d9693ea87b043c2d3b2",
       "version_major": 2,
       "version_minor": 0
      },
      "text/plain": [
       "Section documents:   0%|          | 0/50 [00:00<?, ?it/s]"
      ]
     },
     "metadata": {},
     "output_type": "display_data"
    },
    {
     "data": {
      "application/vnd.jupyter.widget-view+json": {
       "model_id": "ae1859b8133a42ddb016d6303bfb6273",
       "version_major": 2,
       "version_minor": 0
      },
      "text/plain": [
       "Section documents:   0%|          | 0/15 [00:00<?, ?it/s]"
      ]
     },
     "metadata": {},
     "output_type": "display_data"
    },
    {
     "data": {
      "application/vnd.jupyter.widget-view+json": {
       "model_id": "b82c04202ac8457c9b2ca2ec6041dc41",
       "version_major": 2,
       "version_minor": 0
      },
      "text/plain": [
       "Sections:   0%|          | 0/13 [00:00<?, ?it/s]"
      ]
     },
     "metadata": {},
     "output_type": "display_data"
    },
    {
     "data": {
      "application/vnd.jupyter.widget-view+json": {
       "model_id": "c046b22bf01f4358bc66cad3d7c134dc",
       "version_major": 2,
       "version_minor": 0
      },
      "text/plain": [
       "Section documents:   0%|          | 0/50 [00:00<?, ?it/s]"
      ]
     },
     "metadata": {},
     "output_type": "display_data"
    },
    {
     "data": {
      "application/vnd.jupyter.widget-view+json": {
       "model_id": "f6894efb2c0748cc90d598245e79a078",
       "version_major": 2,
       "version_minor": 0
      },
      "text/plain": [
       "Section documents:   0%|          | 0/50 [00:00<?, ?it/s]"
      ]
     },
     "metadata": {},
     "output_type": "display_data"
    },
    {
     "data": {
      "application/vnd.jupyter.widget-view+json": {
       "model_id": "9d9d7942ac8d4bcab75781553f4cb096",
       "version_major": 2,
       "version_minor": 0
      },
      "text/plain": [
       "Section documents:   0%|          | 0/29 [00:00<?, ?it/s]"
      ]
     },
     "metadata": {},
     "output_type": "display_data"
    },
    {
     "data": {
      "application/vnd.jupyter.widget-view+json": {
       "model_id": "abff0b92321c4bbf826d0205b70e7332",
       "version_major": 2,
       "version_minor": 0
      },
      "text/plain": [
       "Section documents:   0%|          | 0/50 [00:00<?, ?it/s]"
      ]
     },
     "metadata": {},
     "output_type": "display_data"
    },
    {
     "data": {
      "application/vnd.jupyter.widget-view+json": {
       "model_id": "8a1105e0f27647bda1815b3fe8c45a05",
       "version_major": 2,
       "version_minor": 0
      },
      "text/plain": [
       "Section documents:   0%|          | 0/10 [00:00<?, ?it/s]"
      ]
     },
     "metadata": {},
     "output_type": "display_data"
    },
    {
     "data": {
      "application/vnd.jupyter.widget-view+json": {
       "model_id": "00b51d3a752e498e854487f1f252ae69",
       "version_major": 2,
       "version_minor": 0
      },
      "text/plain": [
       "Section documents:   0%|          | 0/6 [00:00<?, ?it/s]"
      ]
     },
     "metadata": {},
     "output_type": "display_data"
    },
    {
     "data": {
      "application/vnd.jupyter.widget-view+json": {
       "model_id": "b71ff0af85a84edaadb598d13b101a81",
       "version_major": 2,
       "version_minor": 0
      },
      "text/plain": [
       "Section documents:   0%|          | 0/29 [00:00<?, ?it/s]"
      ]
     },
     "metadata": {},
     "output_type": "display_data"
    },
    {
     "data": {
      "application/vnd.jupyter.widget-view+json": {
       "model_id": "7ebb9022f65a4290bb0e723e6a674bf7",
       "version_major": 2,
       "version_minor": 0
      },
      "text/plain": [
       "Section documents:   0%|          | 0/50 [00:00<?, ?it/s]"
      ]
     },
     "metadata": {},
     "output_type": "display_data"
    },
    {
     "data": {
      "application/vnd.jupyter.widget-view+json": {
       "model_id": "412103f3edbf453a9952a33658c8808d",
       "version_major": 2,
       "version_minor": 0
      },
      "text/plain": [
       "Section documents:   0%|          | 0/50 [00:00<?, ?it/s]"
      ]
     },
     "metadata": {},
     "output_type": "display_data"
    },
    {
     "data": {
      "application/vnd.jupyter.widget-view+json": {
       "model_id": "17d1160074f948ac8ecaad4cb010e8d6",
       "version_major": 2,
       "version_minor": 0
      },
      "text/plain": [
       "Section documents:   0%|          | 0/9 [00:00<?, ?it/s]"
      ]
     },
     "metadata": {},
     "output_type": "display_data"
    },
    {
     "data": {
      "application/vnd.jupyter.widget-view+json": {
       "model_id": "3a32bfda732c44bcaad4bb30877ded81",
       "version_major": 2,
       "version_minor": 0
      },
      "text/plain": [
       "Section documents:   0%|          | 0/4 [00:00<?, ?it/s]"
      ]
     },
     "metadata": {},
     "output_type": "display_data"
    },
    {
     "data": {
      "application/vnd.jupyter.widget-view+json": {
       "model_id": "9a1c30f308db45b8a414b8481a250836",
       "version_major": 2,
       "version_minor": 0
      },
      "text/plain": [
       "Section documents:   0%|          | 0/3 [00:00<?, ?it/s]"
      ]
     },
     "metadata": {},
     "output_type": "display_data"
    },
    {
     "data": {
      "application/vnd.jupyter.widget-view+json": {
       "model_id": "4ac41086465c4357952fbe68bbab3d24",
       "version_major": 2,
       "version_minor": 0
      },
      "text/plain": [
       "Sections:   0%|          | 0/7 [00:00<?, ?it/s]"
      ]
     },
     "metadata": {},
     "output_type": "display_data"
    },
    {
     "data": {
      "application/vnd.jupyter.widget-view+json": {
       "model_id": "fd1397f0f2964be28e4e83b019063eb3",
       "version_major": 2,
       "version_minor": 0
      },
      "text/plain": [
       "Section documents:   0%|          | 0/18 [00:00<?, ?it/s]"
      ]
     },
     "metadata": {},
     "output_type": "display_data"
    },
    {
     "data": {
      "application/vnd.jupyter.widget-view+json": {
       "model_id": "c52e6378ce914ebc8e568a7201b8de7f",
       "version_major": 2,
       "version_minor": 0
      },
      "text/plain": [
       "Section documents:   0%|          | 0/50 [00:00<?, ?it/s]"
      ]
     },
     "metadata": {},
     "output_type": "display_data"
    },
    {
     "data": {
      "application/vnd.jupyter.widget-view+json": {
       "model_id": "40ed20f802b4439ba3e0b8ee13111f6f",
       "version_major": 2,
       "version_minor": 0
      },
      "text/plain": [
       "Section documents:   0%|          | 0/50 [00:00<?, ?it/s]"
      ]
     },
     "metadata": {},
     "output_type": "display_data"
    },
    {
     "data": {
      "application/vnd.jupyter.widget-view+json": {
       "model_id": "d2437f6db3d140119acd668a5f0cd767",
       "version_major": 2,
       "version_minor": 0
      },
      "text/plain": [
       "Section documents:   0%|          | 0/50 [00:00<?, ?it/s]"
      ]
     },
     "metadata": {},
     "output_type": "display_data"
    },
    {
     "data": {
      "application/vnd.jupyter.widget-view+json": {
       "model_id": "7d7c0e3ee57646afb6e2e317996e8bd0",
       "version_major": 2,
       "version_minor": 0
      },
      "text/plain": [
       "Section documents:   0%|          | 0/50 [00:00<?, ?it/s]"
      ]
     },
     "metadata": {},
     "output_type": "display_data"
    },
    {
     "data": {
      "application/vnd.jupyter.widget-view+json": {
       "model_id": "66376849132947179718e06cb6d82b3f",
       "version_major": 2,
       "version_minor": 0
      },
      "text/plain": [
       "Section documents:   0%|          | 0/50 [00:00<?, ?it/s]"
      ]
     },
     "metadata": {},
     "output_type": "display_data"
    },
    {
     "data": {
      "application/vnd.jupyter.widget-view+json": {
       "model_id": "ad84a2d156f8453ca2d38e9dd5acb0e7",
       "version_major": 2,
       "version_minor": 0
      },
      "text/plain": [
       "Sections:   0%|          | 0/4 [00:00<?, ?it/s]"
      ]
     },
     "metadata": {},
     "output_type": "display_data"
    },
    {
     "data": {
      "application/vnd.jupyter.widget-view+json": {
       "model_id": "d394fddd64f8420e88251be1122c7661",
       "version_major": 2,
       "version_minor": 0
      },
      "text/plain": [
       "Section documents:   0%|          | 0/50 [00:00<?, ?it/s]"
      ]
     },
     "metadata": {},
     "output_type": "display_data"
    },
    {
     "data": {
      "application/vnd.jupyter.widget-view+json": {
       "model_id": "6960764eb2f749cc83758b17d5c1515e",
       "version_major": 2,
       "version_minor": 0
      },
      "text/plain": [
       "Section documents:   0%|          | 0/47 [00:00<?, ?it/s]"
      ]
     },
     "metadata": {},
     "output_type": "display_data"
    },
    {
     "data": {
      "application/vnd.jupyter.widget-view+json": {
       "model_id": "cbb1abe4cc674f36bf9e53f8ec0d218f",
       "version_major": 2,
       "version_minor": 0
      },
      "text/plain": [
       "Section documents:   0%|          | 0/50 [00:00<?, ?it/s]"
      ]
     },
     "metadata": {},
     "output_type": "display_data"
    },
    {
     "data": {
      "application/vnd.jupyter.widget-view+json": {
       "model_id": "b4fbfdaeb07f4b0e9fdbfbbefff59f16",
       "version_major": 2,
       "version_minor": 0
      },
      "text/plain": [
       "Section documents:   0%|          | 0/19 [00:00<?, ?it/s]"
      ]
     },
     "metadata": {},
     "output_type": "display_data"
    },
    {
     "data": {
      "application/vnd.jupyter.widget-view+json": {
       "model_id": "8d3ed5748a1a4d8c92ab3c7799ccae5f",
       "version_major": 2,
       "version_minor": 0
      },
      "text/plain": [
       "Sections:   0%|          | 0/10 [00:00<?, ?it/s]"
      ]
     },
     "metadata": {},
     "output_type": "display_data"
    },
    {
     "data": {
      "application/vnd.jupyter.widget-view+json": {
       "model_id": "dda66f3daaa84e6da4db0152562c5a03",
       "version_major": 2,
       "version_minor": 0
      },
      "text/plain": [
       "Section documents:   0%|          | 0/50 [00:00<?, ?it/s]"
      ]
     },
     "metadata": {},
     "output_type": "display_data"
    },
    {
     "data": {
      "application/vnd.jupyter.widget-view+json": {
       "model_id": "a42e255f0f504e9f8863d79a8a7212fb",
       "version_major": 2,
       "version_minor": 0
      },
      "text/plain": [
       "Section documents:   0%|          | 0/23 [00:00<?, ?it/s]"
      ]
     },
     "metadata": {},
     "output_type": "display_data"
    },
    {
     "data": {
      "application/vnd.jupyter.widget-view+json": {
       "model_id": "4955980ceb604a3caf2ae78ae0ca194a",
       "version_major": 2,
       "version_minor": 0
      },
      "text/plain": [
       "Section documents:   0%|          | 0/50 [00:00<?, ?it/s]"
      ]
     },
     "metadata": {},
     "output_type": "display_data"
    },
    {
     "data": {
      "application/vnd.jupyter.widget-view+json": {
       "model_id": "50b21faa1c694347aca6a6ae3395c9de",
       "version_major": 2,
       "version_minor": 0
      },
      "text/plain": [
       "Section documents:   0%|          | 0/50 [00:00<?, ?it/s]"
      ]
     },
     "metadata": {},
     "output_type": "display_data"
    },
    {
     "data": {
      "application/vnd.jupyter.widget-view+json": {
       "model_id": "6b264fb1d74746b9bfa106d5e41c19f4",
       "version_major": 2,
       "version_minor": 0
      },
      "text/plain": [
       "Section documents:   0%|          | 0/27 [00:00<?, ?it/s]"
      ]
     },
     "metadata": {},
     "output_type": "display_data"
    },
    {
     "data": {
      "application/vnd.jupyter.widget-view+json": {
       "model_id": "ad4b3febf2824acc81bdea6ef02d3291",
       "version_major": 2,
       "version_minor": 0
      },
      "text/plain": [
       "Section documents:   0%|          | 0/50 [00:00<?, ?it/s]"
      ]
     },
     "metadata": {},
     "output_type": "display_data"
    },
    {
     "data": {
      "application/vnd.jupyter.widget-view+json": {
       "model_id": "d25be9daba914b4e8e00693ad9808b1d",
       "version_major": 2,
       "version_minor": 0
      },
      "text/plain": [
       "Section documents:   0%|          | 0/36 [00:00<?, ?it/s]"
      ]
     },
     "metadata": {},
     "output_type": "display_data"
    },
    {
     "data": {
      "application/vnd.jupyter.widget-view+json": {
       "model_id": "3d791b6840e6404eab67580541461b11",
       "version_major": 2,
       "version_minor": 0
      },
      "text/plain": [
       "Section documents:   0%|          | 0/1 [00:00<?, ?it/s]"
      ]
     },
     "metadata": {},
     "output_type": "display_data"
    },
    {
     "data": {
      "application/vnd.jupyter.widget-view+json": {
       "model_id": "ced0e312f97d4784b1daa459ee16c087",
       "version_major": 2,
       "version_minor": 0
      },
      "text/plain": [
       "Section documents:   0%|          | 0/50 [00:00<?, ?it/s]"
      ]
     },
     "metadata": {},
     "output_type": "display_data"
    },
    {
     "data": {
      "application/vnd.jupyter.widget-view+json": {
       "model_id": "72fe544a891b4631880f340f241ae4f8",
       "version_major": 2,
       "version_minor": 0
      },
      "text/plain": [
       "Sections:   0%|          | 0/17 [00:00<?, ?it/s]"
      ]
     },
     "metadata": {},
     "output_type": "display_data"
    },
    {
     "data": {
      "application/vnd.jupyter.widget-view+json": {
       "model_id": "86649d9d122b44849749c6ac024b2082",
       "version_major": 2,
       "version_minor": 0
      },
      "text/plain": [
       "Section documents:   0%|          | 0/10 [00:00<?, ?it/s]"
      ]
     },
     "metadata": {},
     "output_type": "display_data"
    },
    {
     "data": {
      "application/vnd.jupyter.widget-view+json": {
       "model_id": "7e2e4fab84ad42a6bcd51a76e0f40ac3",
       "version_major": 2,
       "version_minor": 0
      },
      "text/plain": [
       "Section documents:   0%|          | 0/50 [00:00<?, ?it/s]"
      ]
     },
     "metadata": {},
     "output_type": "display_data"
    },
    {
     "data": {
      "application/vnd.jupyter.widget-view+json": {
       "model_id": "a4be164e31ee4eaf8c2e8efb6c4c3e37",
       "version_major": 2,
       "version_minor": 0
      },
      "text/plain": [
       "Section documents:   0%|          | 0/50 [00:00<?, ?it/s]"
      ]
     },
     "metadata": {},
     "output_type": "display_data"
    },
    {
     "data": {
      "application/vnd.jupyter.widget-view+json": {
       "model_id": "698c2decdeb14203951cb620056f5c96",
       "version_major": 2,
       "version_minor": 0
      },
      "text/plain": [
       "Section documents:   0%|          | 0/50 [00:00<?, ?it/s]"
      ]
     },
     "metadata": {},
     "output_type": "display_data"
    },
    {
     "data": {
      "application/vnd.jupyter.widget-view+json": {
       "model_id": "cca49f9797344b1e9215ffad5c36c4f0",
       "version_major": 2,
       "version_minor": 0
      },
      "text/plain": [
       "Section documents:   0%|          | 0/50 [00:00<?, ?it/s]"
      ]
     },
     "metadata": {},
     "output_type": "display_data"
    },
    {
     "data": {
      "application/vnd.jupyter.widget-view+json": {
       "model_id": "ee9208b7b5fe46768305ab74a6e349bb",
       "version_major": 2,
       "version_minor": 0
      },
      "text/plain": [
       "Section documents:   0%|          | 0/50 [00:00<?, ?it/s]"
      ]
     },
     "metadata": {},
     "output_type": "display_data"
    },
    {
     "data": {
      "application/vnd.jupyter.widget-view+json": {
       "model_id": "2d5c8c4cbf47447c9aee7bfb38b38c79",
       "version_major": 2,
       "version_minor": 0
      },
      "text/plain": [
       "Section documents:   0%|          | 0/50 [00:00<?, ?it/s]"
      ]
     },
     "metadata": {},
     "output_type": "display_data"
    },
    {
     "data": {
      "application/vnd.jupyter.widget-view+json": {
       "model_id": "2d29643280c44f688d49dff29d559da5",
       "version_major": 2,
       "version_minor": 0
      },
      "text/plain": [
       "Section documents:   0%|          | 0/50 [00:00<?, ?it/s]"
      ]
     },
     "metadata": {},
     "output_type": "display_data"
    },
    {
     "data": {
      "application/vnd.jupyter.widget-view+json": {
       "model_id": "b097c7929a224d7f888edd9c47e817ca",
       "version_major": 2,
       "version_minor": 0
      },
      "text/plain": [
       "Section documents:   0%|          | 0/50 [00:00<?, ?it/s]"
      ]
     },
     "metadata": {},
     "output_type": "display_data"
    },
    {
     "data": {
      "application/vnd.jupyter.widget-view+json": {
       "model_id": "4335cf4b581c4a0b907727fea8430ac0",
       "version_major": 2,
       "version_minor": 0
      },
      "text/plain": [
       "Section documents:   0%|          | 0/50 [00:00<?, ?it/s]"
      ]
     },
     "metadata": {},
     "output_type": "display_data"
    },
    {
     "data": {
      "application/vnd.jupyter.widget-view+json": {
       "model_id": "957455a486f64e84b976847b1d668e2b",
       "version_major": 2,
       "version_minor": 0
      },
      "text/plain": [
       "Section documents:   0%|          | 0/18 [00:00<?, ?it/s]"
      ]
     },
     "metadata": {},
     "output_type": "display_data"
    },
    {
     "data": {
      "application/vnd.jupyter.widget-view+json": {
       "model_id": "4144cf085b4a4b8894f5fea343eb718c",
       "version_major": 2,
       "version_minor": 0
      },
      "text/plain": [
       "Section documents:   0%|          | 0/50 [00:00<?, ?it/s]"
      ]
     },
     "metadata": {},
     "output_type": "display_data"
    },
    {
     "data": {
      "application/vnd.jupyter.widget-view+json": {
       "model_id": "6decb57facd440179bb8b1aa7ab5cff1",
       "version_major": 2,
       "version_minor": 0
      },
      "text/plain": [
       "Section documents:   0%|          | 0/50 [00:00<?, ?it/s]"
      ]
     },
     "metadata": {},
     "output_type": "display_data"
    },
    {
     "data": {
      "application/vnd.jupyter.widget-view+json": {
       "model_id": "2bb4b0d2ce12453bb8385e607a174be1",
       "version_major": 2,
       "version_minor": 0
      },
      "text/plain": [
       "Section documents:   0%|          | 0/10 [00:00<?, ?it/s]"
      ]
     },
     "metadata": {},
     "output_type": "display_data"
    },
    {
     "data": {
      "application/vnd.jupyter.widget-view+json": {
       "model_id": "f1050642ec394dce936eadae94c458df",
       "version_major": 2,
       "version_minor": 0
      },
      "text/plain": [
       "Section documents:   0%|          | 0/30 [00:00<?, ?it/s]"
      ]
     },
     "metadata": {},
     "output_type": "display_data"
    },
    {
     "data": {
      "application/vnd.jupyter.widget-view+json": {
       "model_id": "87394a2d5d5745c5b66c5eb69bce208e",
       "version_major": 2,
       "version_minor": 0
      },
      "text/plain": [
       "Section documents:   0%|          | 0/12 [00:00<?, ?it/s]"
      ]
     },
     "metadata": {},
     "output_type": "display_data"
    },
    {
     "data": {
      "application/vnd.jupyter.widget-view+json": {
       "model_id": "3433b95fc28a4eab8be287b750cc9e51",
       "version_major": 2,
       "version_minor": 0
      },
      "text/plain": [
       "Section documents:   0%|          | 0/50 [00:00<?, ?it/s]"
      ]
     },
     "metadata": {},
     "output_type": "display_data"
    },
    {
     "data": {
      "application/vnd.jupyter.widget-view+json": {
       "model_id": "729157f05d9041b69d8de57397cb4aa8",
       "version_major": 2,
       "version_minor": 0
      },
      "text/plain": [
       "Sections:   0%|          | 0/6 [00:00<?, ?it/s]"
      ]
     },
     "metadata": {},
     "output_type": "display_data"
    },
    {
     "data": {
      "application/vnd.jupyter.widget-view+json": {
       "model_id": "6c4652df937e42ab902d08570afca8df",
       "version_major": 2,
       "version_minor": 0
      },
      "text/plain": [
       "Section documents:   0%|          | 0/9 [00:00<?, ?it/s]"
      ]
     },
     "metadata": {},
     "output_type": "display_data"
    },
    {
     "data": {
      "application/vnd.jupyter.widget-view+json": {
       "model_id": "4389884b50cd4c48af80710bc5ffb104",
       "version_major": 2,
       "version_minor": 0
      },
      "text/plain": [
       "Section documents:   0%|          | 0/50 [00:00<?, ?it/s]"
      ]
     },
     "metadata": {},
     "output_type": "display_data"
    },
    {
     "data": {
      "application/vnd.jupyter.widget-view+json": {
       "model_id": "1381d1faf3a14d5cbf1797ff1b3b8b71",
       "version_major": 2,
       "version_minor": 0
      },
      "text/plain": [
       "Section documents:   0%|          | 0/50 [00:00<?, ?it/s]"
      ]
     },
     "metadata": {},
     "output_type": "display_data"
    },
    {
     "data": {
      "application/vnd.jupyter.widget-view+json": {
       "model_id": "56ef25ff6dc14e11a263cf92e224b353",
       "version_major": 2,
       "version_minor": 0
      },
      "text/plain": [
       "Section documents:   0%|          | 0/50 [00:00<?, ?it/s]"
      ]
     },
     "metadata": {},
     "output_type": "display_data"
    },
    {
     "data": {
      "application/vnd.jupyter.widget-view+json": {
       "model_id": "5fc456537ca54ce582c2462bba46470a",
       "version_major": 2,
       "version_minor": 0
      },
      "text/plain": [
       "Section documents:   0%|          | 0/50 [00:00<?, ?it/s]"
      ]
     },
     "metadata": {},
     "output_type": "display_data"
    },
    {
     "data": {
      "application/vnd.jupyter.widget-view+json": {
       "model_id": "99a5f8c58b5c416498a0e460fcd27d8b",
       "version_major": 2,
       "version_minor": 0
      },
      "text/plain": [
       "Section documents:   0%|          | 0/50 [00:00<?, ?it/s]"
      ]
     },
     "metadata": {},
     "output_type": "display_data"
    },
    {
     "data": {
      "application/vnd.jupyter.widget-view+json": {
       "model_id": "4df788deb3484dc9b9eaf02dee667012",
       "version_major": 2,
       "version_minor": 0
      },
      "text/plain": [
       "Sections:   0%|          | 0/6 [00:00<?, ?it/s]"
      ]
     },
     "metadata": {},
     "output_type": "display_data"
    },
    {
     "data": {
      "application/vnd.jupyter.widget-view+json": {
       "model_id": "4725de53e4b44b1781219bb65b762e80",
       "version_major": 2,
       "version_minor": 0
      },
      "text/plain": [
       "Section documents:   0%|          | 0/44 [00:00<?, ?it/s]"
      ]
     },
     "metadata": {},
     "output_type": "display_data"
    },
    {
     "data": {
      "application/vnd.jupyter.widget-view+json": {
       "model_id": "77645e72731241678c80901f3d2b3788",
       "version_major": 2,
       "version_minor": 0
      },
      "text/plain": [
       "Section documents:   0%|          | 0/50 [00:00<?, ?it/s]"
      ]
     },
     "metadata": {},
     "output_type": "display_data"
    },
    {
     "data": {
      "application/vnd.jupyter.widget-view+json": {
       "model_id": "579fdaaff9dc4e949fa3c63559e2a4ea",
       "version_major": 2,
       "version_minor": 0
      },
      "text/plain": [
       "Section documents:   0%|          | 0/50 [00:00<?, ?it/s]"
      ]
     },
     "metadata": {},
     "output_type": "display_data"
    },
    {
     "data": {
      "application/vnd.jupyter.widget-view+json": {
       "model_id": "2735ac3af04c4bacae5e24e2429b07b5",
       "version_major": 2,
       "version_minor": 0
      },
      "text/plain": [
       "Section documents:   0%|          | 0/50 [00:00<?, ?it/s]"
      ]
     },
     "metadata": {},
     "output_type": "display_data"
    },
    {
     "data": {
      "application/vnd.jupyter.widget-view+json": {
       "model_id": "0a6aa7c0b6a14519a0b88df8f1212cb4",
       "version_major": 2,
       "version_minor": 0
      },
      "text/plain": [
       "Section documents:   0%|          | 0/50 [00:00<?, ?it/s]"
      ]
     },
     "metadata": {},
     "output_type": "display_data"
    },
    {
     "data": {
      "application/vnd.jupyter.widget-view+json": {
       "model_id": "1a4521bf99ab44c898b9dee7a1fe1c62",
       "version_major": 2,
       "version_minor": 0
      },
      "text/plain": [
       "Section documents:   0%|          | 0/12 [00:00<?, ?it/s]"
      ]
     },
     "metadata": {},
     "output_type": "display_data"
    },
    {
     "data": {
      "application/vnd.jupyter.widget-view+json": {
       "model_id": "46d907c0f1574ddc894350bcd9d43356",
       "version_major": 2,
       "version_minor": 0
      },
      "text/plain": [
       "Sections:   0%|          | 0/10 [00:00<?, ?it/s]"
      ]
     },
     "metadata": {},
     "output_type": "display_data"
    },
    {
     "data": {
      "application/vnd.jupyter.widget-view+json": {
       "model_id": "574fc26851e84b0b8288f815c27693ae",
       "version_major": 2,
       "version_minor": 0
      },
      "text/plain": [
       "Section documents:   0%|          | 0/50 [00:00<?, ?it/s]"
      ]
     },
     "metadata": {},
     "output_type": "display_data"
    },
    {
     "data": {
      "application/vnd.jupyter.widget-view+json": {
       "model_id": "0da79633a0ce4c888f08aaceb131068f",
       "version_major": 2,
       "version_minor": 0
      },
      "text/plain": [
       "Section documents:   0%|          | 0/33 [00:00<?, ?it/s]"
      ]
     },
     "metadata": {},
     "output_type": "display_data"
    },
    {
     "data": {
      "application/vnd.jupyter.widget-view+json": {
       "model_id": "e655569bcdce43c6bf3888cd2f207a43",
       "version_major": 2,
       "version_minor": 0
      },
      "text/plain": [
       "Section documents:   0%|          | 0/50 [00:00<?, ?it/s]"
      ]
     },
     "metadata": {},
     "output_type": "display_data"
    },
    {
     "data": {
      "application/vnd.jupyter.widget-view+json": {
       "model_id": "556c4559edc14a98b52a6a4950063db3",
       "version_major": 2,
       "version_minor": 0
      },
      "text/plain": [
       "Section documents:   0%|          | 0/50 [00:00<?, ?it/s]"
      ]
     },
     "metadata": {},
     "output_type": "display_data"
    },
    {
     "data": {
      "application/vnd.jupyter.widget-view+json": {
       "model_id": "ef388f6314fd45b79340bdd0437c52e1",
       "version_major": 2,
       "version_minor": 0
      },
      "text/plain": [
       "Section documents:   0%|          | 0/50 [00:00<?, ?it/s]"
      ]
     },
     "metadata": {},
     "output_type": "display_data"
    },
    {
     "data": {
      "application/vnd.jupyter.widget-view+json": {
       "model_id": "ab4e30bab1af4ca795326b24e7cca9da",
       "version_major": 2,
       "version_minor": 0
      },
      "text/plain": [
       "Section documents:   0%|          | 0/9 [00:00<?, ?it/s]"
      ]
     },
     "metadata": {},
     "output_type": "display_data"
    },
    {
     "data": {
      "application/vnd.jupyter.widget-view+json": {
       "model_id": "11d056b10331420f8148cfd058b59e5c",
       "version_major": 2,
       "version_minor": 0
      },
      "text/plain": [
       "Section documents:   0%|          | 0/50 [00:00<?, ?it/s]"
      ]
     },
     "metadata": {},
     "output_type": "display_data"
    },
    {
     "data": {
      "application/vnd.jupyter.widget-view+json": {
       "model_id": "c203c18a10af4fdb8ff3da1a31fc4d75",
       "version_major": 2,
       "version_minor": 0
      },
      "text/plain": [
       "Section documents:   0%|          | 0/50 [00:00<?, ?it/s]"
      ]
     },
     "metadata": {},
     "output_type": "display_data"
    },
    {
     "data": {
      "application/vnd.jupyter.widget-view+json": {
       "model_id": "4cf1f58caeb74c65ad295f0241f9eab4",
       "version_major": 2,
       "version_minor": 0
      },
      "text/plain": [
       "Section documents:   0%|          | 0/50 [00:00<?, ?it/s]"
      ]
     },
     "metadata": {},
     "output_type": "display_data"
    },
    {
     "data": {
      "application/vnd.jupyter.widget-view+json": {
       "model_id": "647d43953f2a42928830199aa3680293",
       "version_major": 2,
       "version_minor": 0
      },
      "text/plain": [
       "Section documents:   0%|          | 0/48 [00:00<?, ?it/s]"
      ]
     },
     "metadata": {},
     "output_type": "display_data"
    },
    {
     "data": {
      "application/vnd.jupyter.widget-view+json": {
       "model_id": "d1fe6477a9c744019f8db51c0b63fd8d",
       "version_major": 2,
       "version_minor": 0
      },
      "text/plain": [
       "Sections:   0%|          | 0/10 [00:00<?, ?it/s]"
      ]
     },
     "metadata": {},
     "output_type": "display_data"
    },
    {
     "data": {
      "application/vnd.jupyter.widget-view+json": {
       "model_id": "d318f84553ef437c90c9a06b15e15e7b",
       "version_major": 2,
       "version_minor": 0
      },
      "text/plain": [
       "Section documents:   0%|          | 0/3 [00:00<?, ?it/s]"
      ]
     },
     "metadata": {},
     "output_type": "display_data"
    },
    {
     "data": {
      "application/vnd.jupyter.widget-view+json": {
       "model_id": "e72de4d5346440afb69e583dd1f71731",
       "version_major": 2,
       "version_minor": 0
      },
      "text/plain": [
       "Section documents:   0%|          | 0/50 [00:00<?, ?it/s]"
      ]
     },
     "metadata": {},
     "output_type": "display_data"
    },
    {
     "data": {
      "application/vnd.jupyter.widget-view+json": {
       "model_id": "ce6bfd4d56c94490b407a616b4a15ad4",
       "version_major": 2,
       "version_minor": 0
      },
      "text/plain": [
       "Section documents:   0%|          | 0/29 [00:00<?, ?it/s]"
      ]
     },
     "metadata": {},
     "output_type": "display_data"
    },
    {
     "data": {
      "application/vnd.jupyter.widget-view+json": {
       "model_id": "18c86306dde34b749a69d9d1b8cf3e7e",
       "version_major": 2,
       "version_minor": 0
      },
      "text/plain": [
       "Section documents:   0%|          | 0/50 [00:00<?, ?it/s]"
      ]
     },
     "metadata": {},
     "output_type": "display_data"
    },
    {
     "data": {
      "application/vnd.jupyter.widget-view+json": {
       "model_id": "02ea2f873a1e46198dc956a2b5c5772a",
       "version_major": 2,
       "version_minor": 0
      },
      "text/plain": [
       "Section documents:   0%|          | 0/50 [00:00<?, ?it/s]"
      ]
     },
     "metadata": {},
     "output_type": "display_data"
    },
    {
     "data": {
      "application/vnd.jupyter.widget-view+json": {
       "model_id": "a5ec5a61b7fe4b549072eb3d6eca1a1f",
       "version_major": 2,
       "version_minor": 0
      },
      "text/plain": [
       "Section documents:   0%|          | 0/50 [00:00<?, ?it/s]"
      ]
     },
     "metadata": {},
     "output_type": "display_data"
    },
    {
     "data": {
      "application/vnd.jupyter.widget-view+json": {
       "model_id": "9513901263a04f90bd468e17e81e445c",
       "version_major": 2,
       "version_minor": 0
      },
      "text/plain": [
       "Section documents:   0%|          | 0/50 [00:00<?, ?it/s]"
      ]
     },
     "metadata": {},
     "output_type": "display_data"
    },
    {
     "data": {
      "application/vnd.jupyter.widget-view+json": {
       "model_id": "c74d1dae1d1f413fbdee66ebad54623e",
       "version_major": 2,
       "version_minor": 0
      },
      "text/plain": [
       "Section documents:   0%|          | 0/50 [00:00<?, ?it/s]"
      ]
     },
     "metadata": {},
     "output_type": "display_data"
    },
    {
     "data": {
      "application/vnd.jupyter.widget-view+json": {
       "model_id": "23baac2fab1940e6896fa34adfd7af29",
       "version_major": 2,
       "version_minor": 0
      },
      "text/plain": [
       "Section documents:   0%|          | 0/50 [00:00<?, ?it/s]"
      ]
     },
     "metadata": {},
     "output_type": "display_data"
    },
    {
     "data": {
      "application/vnd.jupyter.widget-view+json": {
       "model_id": "1fc743c53d7a46c49e5454cc840a36b0",
       "version_major": 2,
       "version_minor": 0
      },
      "text/plain": [
       "Section documents:   0%|          | 0/15 [00:00<?, ?it/s]"
      ]
     },
     "metadata": {},
     "output_type": "display_data"
    },
    {
     "data": {
      "application/vnd.jupyter.widget-view+json": {
       "model_id": "093cc3649e9f4dedb1566cb8c5c308a3",
       "version_major": 2,
       "version_minor": 0
      },
      "text/plain": [
       "Sections:   0%|          | 0/6 [00:00<?, ?it/s]"
      ]
     },
     "metadata": {},
     "output_type": "display_data"
    },
    {
     "data": {
      "application/vnd.jupyter.widget-view+json": {
       "model_id": "f20df8b92100467b880c672100a8f6cc",
       "version_major": 2,
       "version_minor": 0
      },
      "text/plain": [
       "Section documents:   0%|          | 0/13 [00:00<?, ?it/s]"
      ]
     },
     "metadata": {},
     "output_type": "display_data"
    },
    {
     "data": {
      "application/vnd.jupyter.widget-view+json": {
       "model_id": "6690d184790f44a6a6dd52e12883ad6d",
       "version_major": 2,
       "version_minor": 0
      },
      "text/plain": [
       "Section documents:   0%|          | 0/50 [00:00<?, ?it/s]"
      ]
     },
     "metadata": {},
     "output_type": "display_data"
    },
    {
     "data": {
      "application/vnd.jupyter.widget-view+json": {
       "model_id": "7b683428e1784dad81c62e2581669f61",
       "version_major": 2,
       "version_minor": 0
      },
      "text/plain": [
       "Section documents:   0%|          | 0/50 [00:00<?, ?it/s]"
      ]
     },
     "metadata": {},
     "output_type": "display_data"
    },
    {
     "data": {
      "application/vnd.jupyter.widget-view+json": {
       "model_id": "8fc8edd659f144a78c27e1bc39d6f30a",
       "version_major": 2,
       "version_minor": 0
      },
      "text/plain": [
       "Section documents:   0%|          | 0/33 [00:00<?, ?it/s]"
      ]
     },
     "metadata": {},
     "output_type": "display_data"
    },
    {
     "data": {
      "application/vnd.jupyter.widget-view+json": {
       "model_id": "f58eba07faf64cd7b2a9afd84d4b73bb",
       "version_major": 2,
       "version_minor": 0
      },
      "text/plain": [
       "Section documents:   0%|          | 0/50 [00:00<?, ?it/s]"
      ]
     },
     "metadata": {},
     "output_type": "display_data"
    },
    {
     "data": {
      "application/vnd.jupyter.widget-view+json": {
       "model_id": "041a4079def14007bd9103e575693fe3",
       "version_major": 2,
       "version_minor": 0
      },
      "text/plain": [
       "Sections:   0%|          | 0/5 [00:00<?, ?it/s]"
      ]
     },
     "metadata": {},
     "output_type": "display_data"
    },
    {
     "data": {
      "application/vnd.jupyter.widget-view+json": {
       "model_id": "9c5558b4158048a4a75a2fc6ead1bada",
       "version_major": 2,
       "version_minor": 0
      },
      "text/plain": [
       "Section documents:   0%|          | 0/50 [00:00<?, ?it/s]"
      ]
     },
     "metadata": {},
     "output_type": "display_data"
    },
    {
     "data": {
      "application/vnd.jupyter.widget-view+json": {
       "model_id": "46c13901fea7454dbd544c6ae1e5b411",
       "version_major": 2,
       "version_minor": 0
      },
      "text/plain": [
       "Section documents:   0%|          | 0/50 [00:00<?, ?it/s]"
      ]
     },
     "metadata": {},
     "output_type": "display_data"
    },
    {
     "data": {
      "application/vnd.jupyter.widget-view+json": {
       "model_id": "b9284e547a3f426482d817ad68ba471e",
       "version_major": 2,
       "version_minor": 0
      },
      "text/plain": [
       "Section documents:   0%|          | 0/50 [00:00<?, ?it/s]"
      ]
     },
     "metadata": {},
     "output_type": "display_data"
    },
    {
     "data": {
      "application/vnd.jupyter.widget-view+json": {
       "model_id": "ffab7c94ecdf4de68d95efdaca4c25c4",
       "version_major": 2,
       "version_minor": 0
      },
      "text/plain": [
       "Section documents:   0%|          | 0/3 [00:00<?, ?it/s]"
      ]
     },
     "metadata": {},
     "output_type": "display_data"
    },
    {
     "data": {
      "application/vnd.jupyter.widget-view+json": {
       "model_id": "8da834b680d4459e8cbe282eb2348413",
       "version_major": 2,
       "version_minor": 0
      },
      "text/plain": [
       "Sections:   0%|          | 0/10 [00:00<?, ?it/s]"
      ]
     },
     "metadata": {},
     "output_type": "display_data"
    },
    {
     "data": {
      "application/vnd.jupyter.widget-view+json": {
       "model_id": "1775f1711a144a00a0145bb6b9f34975",
       "version_major": 2,
       "version_minor": 0
      },
      "text/plain": [
       "Section documents:   0%|          | 0/5 [00:00<?, ?it/s]"
      ]
     },
     "metadata": {},
     "output_type": "display_data"
    },
    {
     "data": {
      "application/vnd.jupyter.widget-view+json": {
       "model_id": "5f865952b99a47deac14d0b55901654c",
       "version_major": 2,
       "version_minor": 0
      },
      "text/plain": [
       "Section documents:   0%|          | 0/50 [00:00<?, ?it/s]"
      ]
     },
     "metadata": {},
     "output_type": "display_data"
    },
    {
     "data": {
      "application/vnd.jupyter.widget-view+json": {
       "model_id": "dd4863fd9e5c4c68b28b8e68dcf0be64",
       "version_major": 2,
       "version_minor": 0
      },
      "text/plain": [
       "Section documents:   0%|          | 0/50 [00:00<?, ?it/s]"
      ]
     },
     "metadata": {},
     "output_type": "display_data"
    },
    {
     "data": {
      "application/vnd.jupyter.widget-view+json": {
       "model_id": "d7b877039d3a4c2c98407fb2000e03de",
       "version_major": 2,
       "version_minor": 0
      },
      "text/plain": [
       "Section documents:   0%|          | 0/50 [00:00<?, ?it/s]"
      ]
     },
     "metadata": {},
     "output_type": "display_data"
    },
    {
     "data": {
      "application/vnd.jupyter.widget-view+json": {
       "model_id": "4e01202e2b834d6ab9cda96e6fbbbee9",
       "version_major": 2,
       "version_minor": 0
      },
      "text/plain": [
       "Section documents:   0%|          | 0/33 [00:00<?, ?it/s]"
      ]
     },
     "metadata": {},
     "output_type": "display_data"
    },
    {
     "data": {
      "application/vnd.jupyter.widget-view+json": {
       "model_id": "5bfea6700a624aca9a0f8024e1fd1d46",
       "version_major": 2,
       "version_minor": 0
      },
      "text/plain": [
       "Section documents:   0%|          | 0/50 [00:00<?, ?it/s]"
      ]
     },
     "metadata": {},
     "output_type": "display_data"
    },
    {
     "data": {
      "application/vnd.jupyter.widget-view+json": {
       "model_id": "d88f423f045746a39a17376a90729f38",
       "version_major": 2,
       "version_minor": 0
      },
      "text/plain": [
       "Section documents:   0%|          | 0/50 [00:00<?, ?it/s]"
      ]
     },
     "metadata": {},
     "output_type": "display_data"
    },
    {
     "data": {
      "application/vnd.jupyter.widget-view+json": {
       "model_id": "ebc2ef590dde44e29ad144953acfb526",
       "version_major": 2,
       "version_minor": 0
      },
      "text/plain": [
       "Section documents:   0%|          | 0/50 [00:00<?, ?it/s]"
      ]
     },
     "metadata": {},
     "output_type": "display_data"
    },
    {
     "data": {
      "application/vnd.jupyter.widget-view+json": {
       "model_id": "45a67a9d918d4170aafc31265634f5ea",
       "version_major": 2,
       "version_minor": 0
      },
      "text/plain": [
       "Section documents:   0%|          | 0/26 [00:00<?, ?it/s]"
      ]
     },
     "metadata": {},
     "output_type": "display_data"
    },
    {
     "data": {
      "application/vnd.jupyter.widget-view+json": {
       "model_id": "06fda3d08ea74bff99eade8916316b62",
       "version_major": 2,
       "version_minor": 0
      },
      "text/plain": [
       "Section documents:   0%|          | 0/50 [00:00<?, ?it/s]"
      ]
     },
     "metadata": {},
     "output_type": "display_data"
    },
    {
     "data": {
      "application/vnd.jupyter.widget-view+json": {
       "model_id": "26d4e7d0ee8c4c94a26a77989dc7cccc",
       "version_major": 2,
       "version_minor": 0
      },
      "text/plain": [
       "Sections:   0%|          | 0/5 [00:00<?, ?it/s]"
      ]
     },
     "metadata": {},
     "output_type": "display_data"
    },
    {
     "data": {
      "application/vnd.jupyter.widget-view+json": {
       "model_id": "9819499197fc4b34bc3e0d1d45fe4bb2",
       "version_major": 2,
       "version_minor": 0
      },
      "text/plain": [
       "Section documents:   0%|          | 0/6 [00:00<?, ?it/s]"
      ]
     },
     "metadata": {},
     "output_type": "display_data"
    },
    {
     "data": {
      "application/vnd.jupyter.widget-view+json": {
       "model_id": "0763d09e0a9746bdbbcd9cc1b58c1ede",
       "version_major": 2,
       "version_minor": 0
      },
      "text/plain": [
       "Section documents:   0%|          | 0/50 [00:00<?, ?it/s]"
      ]
     },
     "metadata": {},
     "output_type": "display_data"
    },
    {
     "data": {
      "application/vnd.jupyter.widget-view+json": {
       "model_id": "4c17d1a498304303a57d92038fc40ef4",
       "version_major": 2,
       "version_minor": 0
      },
      "text/plain": [
       "Section documents:   0%|          | 0/50 [00:00<?, ?it/s]"
      ]
     },
     "metadata": {},
     "output_type": "display_data"
    },
    {
     "data": {
      "application/vnd.jupyter.widget-view+json": {
       "model_id": "266d22ed4df346da8ab3aa6b8481890a",
       "version_major": 2,
       "version_minor": 0
      },
      "text/plain": [
       "Section documents:   0%|          | 0/29 [00:00<?, ?it/s]"
      ]
     },
     "metadata": {},
     "output_type": "display_data"
    },
    {
     "data": {
      "application/vnd.jupyter.widget-view+json": {
       "model_id": "eb22d26be4654c5aaf96229abb7cc9fd",
       "version_major": 2,
       "version_minor": 0
      },
      "text/plain": [
       "Section documents:   0%|          | 0/8 [00:00<?, ?it/s]"
      ]
     },
     "metadata": {},
     "output_type": "display_data"
    },
    {
     "data": {
      "application/vnd.jupyter.widget-view+json": {
       "model_id": "b2258753eb10497a9308e746d72172b4",
       "version_major": 2,
       "version_minor": 0
      },
      "text/plain": [
       "Sections:   0%|          | 0/5 [00:00<?, ?it/s]"
      ]
     },
     "metadata": {},
     "output_type": "display_data"
    },
    {
     "data": {
      "application/vnd.jupyter.widget-view+json": {
       "model_id": "b71118ab37a749009fa5c53d1bc60972",
       "version_major": 2,
       "version_minor": 0
      },
      "text/plain": [
       "Section documents:   0%|          | 0/11 [00:00<?, ?it/s]"
      ]
     },
     "metadata": {},
     "output_type": "display_data"
    },
    {
     "data": {
      "application/vnd.jupyter.widget-view+json": {
       "model_id": "f35f52114e244335a3117f4a7f014f80",
       "version_major": 2,
       "version_minor": 0
      },
      "text/plain": [
       "Section documents:   0%|          | 0/50 [00:00<?, ?it/s]"
      ]
     },
     "metadata": {},
     "output_type": "display_data"
    },
    {
     "data": {
      "application/vnd.jupyter.widget-view+json": {
       "model_id": "111285df07e74d4295bf94f29b15a4c4",
       "version_major": 2,
       "version_minor": 0
      },
      "text/plain": [
       "Section documents:   0%|          | 0/50 [00:00<?, ?it/s]"
      ]
     },
     "metadata": {},
     "output_type": "display_data"
    },
    {
     "data": {
      "application/vnd.jupyter.widget-view+json": {
       "model_id": "5dc0ef82b5f741849ddbf62afa13f4c4",
       "version_major": 2,
       "version_minor": 0
      },
      "text/plain": [
       "Section documents:   0%|          | 0/6 [00:00<?, ?it/s]"
      ]
     },
     "metadata": {},
     "output_type": "display_data"
    },
    {
     "data": {
      "application/vnd.jupyter.widget-view+json": {
       "model_id": "30a84b830d3940198618af4606357c7b",
       "version_major": 2,
       "version_minor": 0
      },
      "text/plain": [
       "Section documents:   0%|          | 0/3 [00:00<?, ?it/s]"
      ]
     },
     "metadata": {},
     "output_type": "display_data"
    },
    {
     "data": {
      "application/vnd.jupyter.widget-view+json": {
       "model_id": "320cd39e661d46be9a855a0f2608a32a",
       "version_major": 2,
       "version_minor": 0
      },
      "text/plain": [
       "Sections:   0%|          | 0/14 [00:00<?, ?it/s]"
      ]
     },
     "metadata": {},
     "output_type": "display_data"
    },
    {
     "data": {
      "application/vnd.jupyter.widget-view+json": {
       "model_id": "cc2af0e770144d7aa8703a49e0884c63",
       "version_major": 2,
       "version_minor": 0
      },
      "text/plain": [
       "Section documents:   0%|          | 0/32 [00:00<?, ?it/s]"
      ]
     },
     "metadata": {},
     "output_type": "display_data"
    },
    {
     "data": {
      "application/vnd.jupyter.widget-view+json": {
       "model_id": "f5c32096c939440b87cd9fe00e7c260d",
       "version_major": 2,
       "version_minor": 0
      },
      "text/plain": [
       "Section documents:   0%|          | 0/50 [00:00<?, ?it/s]"
      ]
     },
     "metadata": {},
     "output_type": "display_data"
    },
    {
     "data": {
      "application/vnd.jupyter.widget-view+json": {
       "model_id": "e6dfe4b0ce164f0cb4c256d71a15d799",
       "version_major": 2,
       "version_minor": 0
      },
      "text/plain": [
       "Section documents:   0%|          | 0/50 [00:00<?, ?it/s]"
      ]
     },
     "metadata": {},
     "output_type": "display_data"
    },
    {
     "data": {
      "application/vnd.jupyter.widget-view+json": {
       "model_id": "4ed56a04c98240e49a9863f9d848d626",
       "version_major": 2,
       "version_minor": 0
      },
      "text/plain": [
       "Section documents:   0%|          | 0/50 [00:00<?, ?it/s]"
      ]
     },
     "metadata": {},
     "output_type": "display_data"
    },
    {
     "data": {
      "application/vnd.jupyter.widget-view+json": {
       "model_id": "ed386710e08146579cdbc1868129a197",
       "version_major": 2,
       "version_minor": 0
      },
      "text/plain": [
       "Section documents:   0%|          | 0/2 [00:00<?, ?it/s]"
      ]
     },
     "metadata": {},
     "output_type": "display_data"
    },
    {
     "data": {
      "application/vnd.jupyter.widget-view+json": {
       "model_id": "d058743e312e4da79151ce777ff0e4f9",
       "version_major": 2,
       "version_minor": 0
      },
      "text/plain": [
       "Section documents:   0%|          | 0/50 [00:00<?, ?it/s]"
      ]
     },
     "metadata": {},
     "output_type": "display_data"
    },
    {
     "data": {
      "application/vnd.jupyter.widget-view+json": {
       "model_id": "955dd7ed21114e258839cb28f05636a2",
       "version_major": 2,
       "version_minor": 0
      },
      "text/plain": [
       "Section documents:   0%|          | 0/50 [00:00<?, ?it/s]"
      ]
     },
     "metadata": {},
     "output_type": "display_data"
    },
    {
     "data": {
      "application/vnd.jupyter.widget-view+json": {
       "model_id": "2e609a6699954753936b24854285afe6",
       "version_major": 2,
       "version_minor": 0
      },
      "text/plain": [
       "Section documents:   0%|          | 0/50 [00:00<?, ?it/s]"
      ]
     },
     "metadata": {},
     "output_type": "display_data"
    },
    {
     "data": {
      "application/vnd.jupyter.widget-view+json": {
       "model_id": "20fa5698f6aa4704ac64a0cb7e846b1f",
       "version_major": 2,
       "version_minor": 0
      },
      "text/plain": [
       "Section documents:   0%|          | 0/20 [00:00<?, ?it/s]"
      ]
     },
     "metadata": {},
     "output_type": "display_data"
    },
    {
     "data": {
      "application/vnd.jupyter.widget-view+json": {
       "model_id": "5ae58a255f334521bf28136cb95748b2",
       "version_major": 2,
       "version_minor": 0
      },
      "text/plain": [
       "Section documents:   0%|          | 0/1 [00:00<?, ?it/s]"
      ]
     },
     "metadata": {},
     "output_type": "display_data"
    },
    {
     "data": {
      "application/vnd.jupyter.widget-view+json": {
       "model_id": "b19d6480a197472fa1fd3de30d9d8a14",
       "version_major": 2,
       "version_minor": 0
      },
      "text/plain": [
       "Section documents:   0%|          | 0/33 [00:00<?, ?it/s]"
      ]
     },
     "metadata": {},
     "output_type": "display_data"
    },
    {
     "data": {
      "application/vnd.jupyter.widget-view+json": {
       "model_id": "52b5bab5e5964d0ca81d397417cd4de6",
       "version_major": 2,
       "version_minor": 0
      },
      "text/plain": [
       "Section documents:   0%|          | 0/18 [00:00<?, ?it/s]"
      ]
     },
     "metadata": {},
     "output_type": "display_data"
    },
    {
     "data": {
      "application/vnd.jupyter.widget-view+json": {
       "model_id": "a00fd599a7f2431fbb21c280538b7252",
       "version_major": 2,
       "version_minor": 0
      },
      "text/plain": [
       "Section documents:   0%|          | 0/50 [00:00<?, ?it/s]"
      ]
     },
     "metadata": {},
     "output_type": "display_data"
    },
    {
     "data": {
      "application/vnd.jupyter.widget-view+json": {
       "model_id": "7326abc0139f4e5ab4202b951ff517a6",
       "version_major": 2,
       "version_minor": 0
      },
      "text/plain": [
       "Sections:   0%|          | 0/12 [00:00<?, ?it/s]"
      ]
     },
     "metadata": {},
     "output_type": "display_data"
    },
    {
     "data": {
      "application/vnd.jupyter.widget-view+json": {
       "model_id": "04943efdc42a40d18f2637bc8ba43cd2",
       "version_major": 2,
       "version_minor": 0
      },
      "text/plain": [
       "Section documents:   0%|          | 0/6 [00:00<?, ?it/s]"
      ]
     },
     "metadata": {},
     "output_type": "display_data"
    },
    {
     "data": {
      "application/vnd.jupyter.widget-view+json": {
       "model_id": "384b134eaf834b4eb86af3280004e62b",
       "version_major": 2,
       "version_minor": 0
      },
      "text/plain": [
       "Section documents:   0%|          | 0/50 [00:00<?, ?it/s]"
      ]
     },
     "metadata": {},
     "output_type": "display_data"
    },
    {
     "data": {
      "application/vnd.jupyter.widget-view+json": {
       "model_id": "5c3069363eff45ba9ff5b690dd06ec9d",
       "version_major": 2,
       "version_minor": 0
      },
      "text/plain": [
       "Section documents:   0%|          | 0/6 [00:00<?, ?it/s]"
      ]
     },
     "metadata": {},
     "output_type": "display_data"
    },
    {
     "data": {
      "application/vnd.jupyter.widget-view+json": {
       "model_id": "ef796d95f02248e8a77518efa8d4fa3e",
       "version_major": 2,
       "version_minor": 0
      },
      "text/plain": [
       "Section documents:   0%|          | 0/36 [00:00<?, ?it/s]"
      ]
     },
     "metadata": {},
     "output_type": "display_data"
    },
    {
     "data": {
      "application/vnd.jupyter.widget-view+json": {
       "model_id": "b234b7d8aa26451f83cd9d6455f7ef3a",
       "version_major": 2,
       "version_minor": 0
      },
      "text/plain": [
       "Section documents:   0%|          | 0/13 [00:00<?, ?it/s]"
      ]
     },
     "metadata": {},
     "output_type": "display_data"
    },
    {
     "data": {
      "application/vnd.jupyter.widget-view+json": {
       "model_id": "c09b1a8f13bb4e3d8e539d685b693874",
       "version_major": 2,
       "version_minor": 0
      },
      "text/plain": [
       "Section documents:   0%|          | 0/50 [00:00<?, ?it/s]"
      ]
     },
     "metadata": {},
     "output_type": "display_data"
    },
    {
     "data": {
      "application/vnd.jupyter.widget-view+json": {
       "model_id": "d89859973e66437da649263977893673",
       "version_major": 2,
       "version_minor": 0
      },
      "text/plain": [
       "Section documents:   0%|          | 0/20 [00:00<?, ?it/s]"
      ]
     },
     "metadata": {},
     "output_type": "display_data"
    },
    {
     "data": {
      "application/vnd.jupyter.widget-view+json": {
       "model_id": "52cefdf19598463bb104c6356deb7a40",
       "version_major": 2,
       "version_minor": 0
      },
      "text/plain": [
       "Section documents:   0%|          | 0/5 [00:00<?, ?it/s]"
      ]
     },
     "metadata": {},
     "output_type": "display_data"
    },
    {
     "data": {
      "application/vnd.jupyter.widget-view+json": {
       "model_id": "8c9549730d8549089ba4b850da8c8808",
       "version_major": 2,
       "version_minor": 0
      },
      "text/plain": [
       "Section documents:   0%|          | 0/2 [00:00<?, ?it/s]"
      ]
     },
     "metadata": {},
     "output_type": "display_data"
    },
    {
     "data": {
      "application/vnd.jupyter.widget-view+json": {
       "model_id": "2e98d94db60f4e66adf90fff79a16035",
       "version_major": 2,
       "version_minor": 0
      },
      "text/plain": [
       "Section documents:   0%|          | 0/8 [00:00<?, ?it/s]"
      ]
     },
     "metadata": {},
     "output_type": "display_data"
    },
    {
     "data": {
      "application/vnd.jupyter.widget-view+json": {
       "model_id": "24658667d1d54a7abc3cd34cb21ae42c",
       "version_major": 2,
       "version_minor": 0
      },
      "text/plain": [
       "Sections:   0%|          | 0/3 [00:00<?, ?it/s]"
      ]
     },
     "metadata": {},
     "output_type": "display_data"
    },
    {
     "data": {
      "application/vnd.jupyter.widget-view+json": {
       "model_id": "0c1bba2835654c89bfba7df705da00f9",
       "version_major": 2,
       "version_minor": 0
      },
      "text/plain": [
       "Section documents:   0%|          | 0/15 [00:00<?, ?it/s]"
      ]
     },
     "metadata": {},
     "output_type": "display_data"
    },
    {
     "data": {
      "application/vnd.jupyter.widget-view+json": {
       "model_id": "9928d6ca4e804818a55f9366e1de4bef",
       "version_major": 2,
       "version_minor": 0
      },
      "text/plain": [
       "Sections:   0%|          | 0/18 [00:00<?, ?it/s]"
      ]
     },
     "metadata": {},
     "output_type": "display_data"
    },
    {
     "data": {
      "application/vnd.jupyter.widget-view+json": {
       "model_id": "2130a83c31b7461daf0abeb2cab897f2",
       "version_major": 2,
       "version_minor": 0
      },
      "text/plain": [
       "Section documents:   0%|          | 0/6 [00:00<?, ?it/s]"
      ]
     },
     "metadata": {},
     "output_type": "display_data"
    },
    {
     "data": {
      "application/vnd.jupyter.widget-view+json": {
       "model_id": "95c34038ae33428b9d5e95dc72a50e85",
       "version_major": 2,
       "version_minor": 0
      },
      "text/plain": [
       "Section documents:   0%|          | 0/23 [00:00<?, ?it/s]"
      ]
     },
     "metadata": {},
     "output_type": "display_data"
    },
    {
     "data": {
      "application/vnd.jupyter.widget-view+json": {
       "model_id": "8e2bbd3ba6c94b98a0fd7ba5aa74b224",
       "version_major": 2,
       "version_minor": 0
      },
      "text/plain": [
       "Section documents:   0%|          | 0/50 [00:00<?, ?it/s]"
      ]
     },
     "metadata": {},
     "output_type": "display_data"
    },
    {
     "data": {
      "application/vnd.jupyter.widget-view+json": {
       "model_id": "a5a496de6c9044dd9c2f8058c9f7fcb4",
       "version_major": 2,
       "version_minor": 0
      },
      "text/plain": [
       "Section documents:   0%|          | 0/43 [00:00<?, ?it/s]"
      ]
     },
     "metadata": {},
     "output_type": "display_data"
    },
    {
     "data": {
      "application/vnd.jupyter.widget-view+json": {
       "model_id": "4a9262759fb84962802c4a3ece0bc686",
       "version_major": 2,
       "version_minor": 0
      },
      "text/plain": [
       "Section documents:   0%|          | 0/10 [00:00<?, ?it/s]"
      ]
     },
     "metadata": {},
     "output_type": "display_data"
    },
    {
     "data": {
      "application/vnd.jupyter.widget-view+json": {
       "model_id": "636e4e1831364ac99d7689ab0db7bb71",
       "version_major": 2,
       "version_minor": 0
      },
      "text/plain": [
       "Section documents:   0%|          | 0/50 [00:00<?, ?it/s]"
      ]
     },
     "metadata": {},
     "output_type": "display_data"
    },
    {
     "data": {
      "application/vnd.jupyter.widget-view+json": {
       "model_id": "33ce0d09b42042429e8a231b8221bbaf",
       "version_major": 2,
       "version_minor": 0
      },
      "text/plain": [
       "Section documents:   0%|          | 0/49 [00:00<?, ?it/s]"
      ]
     },
     "metadata": {},
     "output_type": "display_data"
    },
    {
     "data": {
      "application/vnd.jupyter.widget-view+json": {
       "model_id": "f76885bb7cc8400597ffb499b0543169",
       "version_major": 2,
       "version_minor": 0
      },
      "text/plain": [
       "Section documents:   0%|          | 0/5 [00:00<?, ?it/s]"
      ]
     },
     "metadata": {},
     "output_type": "display_data"
    },
    {
     "data": {
      "application/vnd.jupyter.widget-view+json": {
       "model_id": "d6ac3850711742b2840f670736569203",
       "version_major": 2,
       "version_minor": 0
      },
      "text/plain": [
       "Section documents:   0%|          | 0/50 [00:00<?, ?it/s]"
      ]
     },
     "metadata": {},
     "output_type": "display_data"
    },
    {
     "data": {
      "application/vnd.jupyter.widget-view+json": {
       "model_id": "b07a51ee3df84e179e8d5883dcaaf0cc",
       "version_major": 2,
       "version_minor": 0
      },
      "text/plain": [
       "Section documents:   0%|          | 0/11 [00:00<?, ?it/s]"
      ]
     },
     "metadata": {},
     "output_type": "display_data"
    },
    {
     "data": {
      "application/vnd.jupyter.widget-view+json": {
       "model_id": "cf0f43ef2da04fe0bd1baa77bad28081",
       "version_major": 2,
       "version_minor": 0
      },
      "text/plain": [
       "Section documents:   0%|          | 0/12 [00:00<?, ?it/s]"
      ]
     },
     "metadata": {},
     "output_type": "display_data"
    },
    {
     "data": {
      "application/vnd.jupyter.widget-view+json": {
       "model_id": "547a7bc4f57843348b769d0e6b50558e",
       "version_major": 2,
       "version_minor": 0
      },
      "text/plain": [
       "Section documents:   0%|          | 0/18 [00:00<?, ?it/s]"
      ]
     },
     "metadata": {},
     "output_type": "display_data"
    },
    {
     "data": {
      "application/vnd.jupyter.widget-view+json": {
       "model_id": "3c3839ad8a2049a0aead2320dd4eb261",
       "version_major": 2,
       "version_minor": 0
      },
      "text/plain": [
       "Section documents:   0%|          | 0/24 [00:00<?, ?it/s]"
      ]
     },
     "metadata": {},
     "output_type": "display_data"
    },
    {
     "data": {
      "application/vnd.jupyter.widget-view+json": {
       "model_id": "44e83389ffd74723b08e83f96f6ce9a5",
       "version_major": 2,
       "version_minor": 0
      },
      "text/plain": [
       "Section documents:   0%|          | 0/13 [00:00<?, ?it/s]"
      ]
     },
     "metadata": {},
     "output_type": "display_data"
    },
    {
     "data": {
      "application/vnd.jupyter.widget-view+json": {
       "model_id": "ea5a14d605f34c10bdd629e5324dfb7d",
       "version_major": 2,
       "version_minor": 0
      },
      "text/plain": [
       "Section documents:   0%|          | 0/46 [00:00<?, ?it/s]"
      ]
     },
     "metadata": {},
     "output_type": "display_data"
    },
    {
     "data": {
      "application/vnd.jupyter.widget-view+json": {
       "model_id": "230aee9e861c4b2299fd55dfaaf9df55",
       "version_major": 2,
       "version_minor": 0
      },
      "text/plain": [
       "Section documents:   0%|          | 0/50 [00:00<?, ?it/s]"
      ]
     },
     "metadata": {},
     "output_type": "display_data"
    },
    {
     "data": {
      "application/vnd.jupyter.widget-view+json": {
       "model_id": "d6b8b6074c6942adb44137545b76ea4e",
       "version_major": 2,
       "version_minor": 0
      },
      "text/plain": [
       "Section documents:   0%|          | 0/50 [00:00<?, ?it/s]"
      ]
     },
     "metadata": {},
     "output_type": "display_data"
    }
   ],
   "source": [
    "chrome_options = webdriver.ChromeOptions()\n",
    "chrome_options.add_argument(\"--blink-settings=imagesEnabled=false\")\n",
    "chrome_options.add_argument(\"--disable-crash-reporter\")\n",
    "chrome_options.add_argument(\"--disable-low-res-tiling\")\n",
    "chrome_options.add_argument(\"--disable-renderer-backgrounding\")\n",
    "chrome_options.add_argument(\"--disable-oopr-debug-crash-dump\")\n",
    "chrome_options.add_argument(\"--no-crash-upload\")\n",
    "driver = uc.Chrome(headless=False, use_subprocess=False, user_multi_procs=False, options=chrome_options)\n",
    "\n",
    "not_downloaded = list()\n",
    "max_wait_time = 10\n",
    "sleep_time = 1\n",
    "\n",
    "for main_href, main_name in tqdm(main_list[main_start:], desc='Global list'):\n",
    "    section = requests.get(url + main_href)\n",
    "    section = [\n",
    "        (li.find('a')['href'], li.find('a').text)\n",
    "        for li in bs(section.text, 'lxml').find('ul', class_='content-list').findAll('li', class_='content-list_item')\n",
    "    ]\n",
    "    for section_href, section_name in tqdm(section[section_start:], leave=False, desc='Sections'):\n",
    "        global_dict[main_name][section_name] = list()\n",
    "        section_docs = requests.get(url + section_href)\n",
    "        if section_docs.status_code == 404:\n",
    "            continue\n",
    "\n",
    "        lis = bs(section_docs.text, 'lxml').find('ul', class_='content-list').findAll('li', class_='content-list_item')\n",
    "        if lis:\n",
    "            section_docs = [(li.find('a')['href'], li.find('a').text) for li in lis]\n",
    "        else:\n",
    "            section_docs = []\n",
    "        for doc_href, doc_title in tqdm(section_docs[doc_start:N_MAX_DOC], leave=False, desc='Section documents'):\n",
    "            doc_link = url + doc_href\n",
    "            doc = requests.get(doc_link)\n",
    "            if doc.status_code == 404:\n",
    "                continue\n",
    "\n",
    "            doc = bs(doc.text, 'lxml')\n",
    "            upper_doc_section = doc.find('div', class_='section')\n",
    "            rows_raw = upper_doc_section.findAll('div', class_='row')\n",
    "            rows = {\n",
    "                row.find('div', class_='label').text.strip()[:-1]: row.find('div', class_='value').text.strip()\n",
    "                for row in rows_raw\n",
    "            }\n",
    "            link_row = [row for row in rows_raw if 'Скачать:' in row.find('div', class_='label').text]\n",
    "            filename = ''\n",
    "            if link_row:\n",
    "                file_type = link_row[0].find('a', {'id': 'pdf_download'})['id'] or link_row[0].find('a', {'id': 'doc_download'})['id']\n",
    "                download_name = link_row[0].find('a', {'id': 'pdf_download'})['href'] or link_row[0].find('a', {'id': 'doc_download'})['href']\n",
    "                if file_type:\n",
    "                    download_name = download_name.split('/')[-1]\n",
    "                    driver.get(doc_link)\n",
    "                    WebDriverWait(driver, 5) \\\n",
    "                        .until(EC.presence_of_element_located((By.ID, file_type)))\n",
    "                    driver.find_element(By.ID, file_type).click()\n",
    "                    download_path = f'C:/Users/1645286/Downloads/{download_name}'\n",
    "                    c = 1\n",
    "                    max_retries = max_wait_time / sleep_time\n",
    "                    while not os.path.exists(download_path) and c < max_retries:\n",
    "                        time.sleep(sleep_time)\n",
    "                        c += 1\n",
    "                    if c < max_retries:\n",
    "                        filename = move_file(download_path, NEW_DOWNLOAD_FOLDER)\n",
    "                    else:\n",
    "                        not_downloaded.append(doc_link)\n",
    "            # date_start = date_cancel = ''\n",
    "            # if rows['Дата введения'] != '-' and rows['Дата введения']:\n",
    "            #     date_start = datetime.strptime(rows['Дата введения'], '%d.%m.%Y').strftime('%Y-%m-%d')\n",
    "            # if rows['Дата отмены'] != '-' and rows['Дата отмены']:\n",
    "            #     date_cancel = datetime.strptime(rows['Дата отмены'], '%d.%m.%Y').strftime('%Y-%m-%d')\n",
    "            doc_dict = {\n",
    "                'number': rows['Обозначение'],\n",
    "                'title': rows['Наименование'],\n",
    "                'status': status_dict[rows['Статус']] if rows['Статус'] in status_dict else rows['Статус'],\n",
    "                'date_start': rows['Дата введения'] if rows['Дата введения'] != '-' else '',\n",
    "                'date_cancel': rows['Дата отмены'] if rows['Дата отмены'] != '-' else '',\n",
    "                'replaced_by': rows['Заменен на'] if rows['Заменен на'] != '-' else '',\n",
    "                'OKS': rows['Код ОКС'],\n",
    "                'file_path': filename,\n",
    "                'file_markdown': str(doc.find('article', {'id': 'article'})),\n",
    "                'file_url': doc_link\n",
    "            }\n",
    "            \n",
    "            global_dict[main_name][section_name].append(deepcopy(doc_dict))\n",
    "            #print(doc_dict)\n",
    "            #driver.quit()\n",
    "            #break\n",
    "        #break\n",
    "    #break\n",
    "driver.quit()"
   ]
  },
  {
   "cell_type": "code",
   "execution_count": null,
   "id": "4d2e31da-486f-472b-b763-dd116ce85664",
   "metadata": {},
   "outputs": [],
   "source": [
    "with open('result_dict.pickle', 'wb') as file:\n",
    "    pickle.dump(global_dict, file)"
   ]
  },
  {
   "cell_type": "code",
   "execution_count": null,
   "id": "776c0e3f-4f86-4bc6-8dd0-d86f6e8a99e1",
   "metadata": {},
   "outputs": [],
   "source": [
    "!shutdown -s -t 30"
   ]
  },
  {
   "cell_type": "code",
   "execution_count": 10,
   "id": "9a43a6b9-3efe-4fba-b071-f8b046534698",
   "metadata": {},
   "outputs": [
    {
     "data": {
      "application/vnd.jupyter.widget-view+json": {
       "model_id": "914794c216c44f828ce39fa9da01b845",
       "version_major": 2,
       "version_minor": 0
      },
      "text/plain": [
       "Global list:   0%|          | 0/40 [00:00<?, ?it/s]"
      ]
     },
     "metadata": {},
     "output_type": "display_data"
    },
    {
     "data": {
      "application/vnd.jupyter.widget-view+json": {
       "model_id": "",
       "version_major": 2,
       "version_minor": 0
      },
      "text/plain": [
       "Sections:   0%|          | 0/10 [00:00<?, ?it/s]"
      ]
     },
     "metadata": {},
     "output_type": "display_data"
    },
    {
     "data": {
      "application/vnd.jupyter.widget-view+json": {
       "model_id": "",
       "version_major": 2,
       "version_minor": 0
      },
      "text/plain": [
       "Sections:   0%|          | 0/12 [00:00<?, ?it/s]"
      ]
     },
     "metadata": {},
     "output_type": "display_data"
    },
    {
     "data": {
      "application/vnd.jupyter.widget-view+json": {
       "model_id": "",
       "version_major": 2,
       "version_minor": 0
      },
      "text/plain": [
       "Sections:   0%|          | 0/8 [00:00<?, ?it/s]"
      ]
     },
     "metadata": {},
     "output_type": "display_data"
    },
    {
     "data": {
      "application/vnd.jupyter.widget-view+json": {
       "model_id": "",
       "version_major": 2,
       "version_minor": 0
      },
      "text/plain": [
       "Sections:   0%|          | 0/11 [00:00<?, ?it/s]"
      ]
     },
     "metadata": {},
     "output_type": "display_data"
    },
    {
     "data": {
      "application/vnd.jupyter.widget-view+json": {
       "model_id": "",
       "version_major": 2,
       "version_minor": 0
      },
      "text/plain": [
       "Sections:   0%|          | 0/21 [00:00<?, ?it/s]"
      ]
     },
     "metadata": {},
     "output_type": "display_data"
    },
    {
     "data": {
      "application/vnd.jupyter.widget-view+json": {
       "model_id": "",
       "version_major": 2,
       "version_minor": 0
      },
      "text/plain": [
       "Sections:   0%|          | 0/12 [00:00<?, ?it/s]"
      ]
     },
     "metadata": {},
     "output_type": "display_data"
    },
    {
     "data": {
      "application/vnd.jupyter.widget-view+json": {
       "model_id": "",
       "version_major": 2,
       "version_minor": 0
      },
      "text/plain": [
       "Sections:   0%|          | 0/6 [00:00<?, ?it/s]"
      ]
     },
     "metadata": {},
     "output_type": "display_data"
    },
    {
     "data": {
      "application/vnd.jupyter.widget-view+json": {
       "model_id": "",
       "version_major": 2,
       "version_minor": 0
      },
      "text/plain": [
       "Sections:   0%|          | 0/13 [00:00<?, ?it/s]"
      ]
     },
     "metadata": {},
     "output_type": "display_data"
    },
    {
     "data": {
      "application/vnd.jupyter.widget-view+json": {
       "model_id": "",
       "version_major": 2,
       "version_minor": 0
      },
      "text/plain": [
       "Sections:   0%|          | 0/8 [00:00<?, ?it/s]"
      ]
     },
     "metadata": {},
     "output_type": "display_data"
    },
    {
     "data": {
      "application/vnd.jupyter.widget-view+json": {
       "model_id": "",
       "version_major": 2,
       "version_minor": 0
      },
      "text/plain": [
       "Sections:   0%|          | 0/12 [00:00<?, ?it/s]"
      ]
     },
     "metadata": {},
     "output_type": "display_data"
    },
    {
     "data": {
      "application/vnd.jupyter.widget-view+json": {
       "model_id": "",
       "version_major": 2,
       "version_minor": 0
      },
      "text/plain": [
       "Sections:   0%|          | 0/16 [00:00<?, ?it/s]"
      ]
     },
     "metadata": {},
     "output_type": "display_data"
    },
    {
     "data": {
      "application/vnd.jupyter.widget-view+json": {
       "model_id": "",
       "version_major": 2,
       "version_minor": 0
      },
      "text/plain": [
       "Sections:   0%|          | 0/19 [00:00<?, ?it/s]"
      ]
     },
     "metadata": {},
     "output_type": "display_data"
    },
    {
     "data": {
      "application/vnd.jupyter.widget-view+json": {
       "model_id": "",
       "version_major": 2,
       "version_minor": 0
      },
      "text/plain": [
       "Sections:   0%|          | 0/14 [00:00<?, ?it/s]"
      ]
     },
     "metadata": {},
     "output_type": "display_data"
    },
    {
     "data": {
      "application/vnd.jupyter.widget-view+json": {
       "model_id": "",
       "version_major": 2,
       "version_minor": 0
      },
      "text/plain": [
       "Sections:   0%|          | 0/14 [00:00<?, ?it/s]"
      ]
     },
     "metadata": {},
     "output_type": "display_data"
    },
    {
     "data": {
      "application/vnd.jupyter.widget-view+json": {
       "model_id": "",
       "version_major": 2,
       "version_minor": 0
      },
      "text/plain": [
       "Sections:   0%|          | 0/15 [00:00<?, ?it/s]"
      ]
     },
     "metadata": {},
     "output_type": "display_data"
    },
    {
     "data": {
      "application/vnd.jupyter.widget-view+json": {
       "model_id": "",
       "version_major": 2,
       "version_minor": 0
      },
      "text/plain": [
       "Sections:   0%|          | 0/5 [00:00<?, ?it/s]"
      ]
     },
     "metadata": {},
     "output_type": "display_data"
    },
    {
     "data": {
      "application/vnd.jupyter.widget-view+json": {
       "model_id": "",
       "version_major": 2,
       "version_minor": 0
      },
      "text/plain": [
       "Sections:   0%|          | 0/3 [00:00<?, ?it/s]"
      ]
     },
     "metadata": {},
     "output_type": "display_data"
    },
    {
     "data": {
      "application/vnd.jupyter.widget-view+json": {
       "model_id": "",
       "version_major": 2,
       "version_minor": 0
      },
      "text/plain": [
       "Sections:   0%|          | 0/10 [00:00<?, ?it/s]"
      ]
     },
     "metadata": {},
     "output_type": "display_data"
    },
    {
     "data": {
      "application/vnd.jupyter.widget-view+json": {
       "model_id": "",
       "version_major": 2,
       "version_minor": 0
      },
      "text/plain": [
       "Sections:   0%|          | 0/7 [00:00<?, ?it/s]"
      ]
     },
     "metadata": {},
     "output_type": "display_data"
    },
    {
     "data": {
      "application/vnd.jupyter.widget-view+json": {
       "model_id": "",
       "version_major": 2,
       "version_minor": 0
      },
      "text/plain": [
       "Sections:   0%|          | 0/4 [00:00<?, ?it/s]"
      ]
     },
     "metadata": {},
     "output_type": "display_data"
    },
    {
     "data": {
      "application/vnd.jupyter.widget-view+json": {
       "model_id": "",
       "version_major": 2,
       "version_minor": 0
      },
      "text/plain": [
       "Sections:   0%|          | 0/14 [00:00<?, ?it/s]"
      ]
     },
     "metadata": {},
     "output_type": "display_data"
    },
    {
     "data": {
      "application/vnd.jupyter.widget-view+json": {
       "model_id": "",
       "version_major": 2,
       "version_minor": 0
      },
      "text/plain": [
       "Sections:   0%|          | 0/6 [00:00<?, ?it/s]"
      ]
     },
     "metadata": {},
     "output_type": "display_data"
    },
    {
     "data": {
      "application/vnd.jupyter.widget-view+json": {
       "model_id": "",
       "version_major": 2,
       "version_minor": 0
      },
      "text/plain": [
       "Sections:   0%|          | 0/13 [00:00<?, ?it/s]"
      ]
     },
     "metadata": {},
     "output_type": "display_data"
    },
    {
     "data": {
      "application/vnd.jupyter.widget-view+json": {
       "model_id": "",
       "version_major": 2,
       "version_minor": 0
      },
      "text/plain": [
       "Sections:   0%|          | 0/7 [00:00<?, ?it/s]"
      ]
     },
     "metadata": {},
     "output_type": "display_data"
    },
    {
     "data": {
      "application/vnd.jupyter.widget-view+json": {
       "model_id": "",
       "version_major": 2,
       "version_minor": 0
      },
      "text/plain": [
       "Sections:   0%|          | 0/4 [00:00<?, ?it/s]"
      ]
     },
     "metadata": {},
     "output_type": "display_data"
    },
    {
     "data": {
      "application/vnd.jupyter.widget-view+json": {
       "model_id": "",
       "version_major": 2,
       "version_minor": 0
      },
      "text/plain": [
       "Sections:   0%|          | 0/10 [00:00<?, ?it/s]"
      ]
     },
     "metadata": {},
     "output_type": "display_data"
    },
    {
     "data": {
      "application/vnd.jupyter.widget-view+json": {
       "model_id": "",
       "version_major": 2,
       "version_minor": 0
      },
      "text/plain": [
       "Sections:   0%|          | 0/17 [00:00<?, ?it/s]"
      ]
     },
     "metadata": {},
     "output_type": "display_data"
    },
    {
     "data": {
      "application/vnd.jupyter.widget-view+json": {
       "model_id": "",
       "version_major": 2,
       "version_minor": 0
      },
      "text/plain": [
       "Sections:   0%|          | 0/6 [00:00<?, ?it/s]"
      ]
     },
     "metadata": {},
     "output_type": "display_data"
    },
    {
     "data": {
      "application/vnd.jupyter.widget-view+json": {
       "model_id": "",
       "version_major": 2,
       "version_minor": 0
      },
      "text/plain": [
       "Sections:   0%|          | 0/6 [00:00<?, ?it/s]"
      ]
     },
     "metadata": {},
     "output_type": "display_data"
    },
    {
     "data": {
      "application/vnd.jupyter.widget-view+json": {
       "model_id": "",
       "version_major": 2,
       "version_minor": 0
      },
      "text/plain": [
       "Sections:   0%|          | 0/10 [00:00<?, ?it/s]"
      ]
     },
     "metadata": {},
     "output_type": "display_data"
    },
    {
     "data": {
      "application/vnd.jupyter.widget-view+json": {
       "model_id": "",
       "version_major": 2,
       "version_minor": 0
      },
      "text/plain": [
       "Sections:   0%|          | 0/10 [00:00<?, ?it/s]"
      ]
     },
     "metadata": {},
     "output_type": "display_data"
    },
    {
     "data": {
      "application/vnd.jupyter.widget-view+json": {
       "model_id": "",
       "version_major": 2,
       "version_minor": 0
      },
      "text/plain": [
       "Sections:   0%|          | 0/6 [00:00<?, ?it/s]"
      ]
     },
     "metadata": {},
     "output_type": "display_data"
    },
    {
     "data": {
      "application/vnd.jupyter.widget-view+json": {
       "model_id": "",
       "version_major": 2,
       "version_minor": 0
      },
      "text/plain": [
       "Sections:   0%|          | 0/5 [00:00<?, ?it/s]"
      ]
     },
     "metadata": {},
     "output_type": "display_data"
    },
    {
     "data": {
      "application/vnd.jupyter.widget-view+json": {
       "model_id": "",
       "version_major": 2,
       "version_minor": 0
      },
      "text/plain": [
       "Sections:   0%|          | 0/10 [00:00<?, ?it/s]"
      ]
     },
     "metadata": {},
     "output_type": "display_data"
    },
    {
     "data": {
      "application/vnd.jupyter.widget-view+json": {
       "model_id": "",
       "version_major": 2,
       "version_minor": 0
      },
      "text/plain": [
       "Sections:   0%|          | 0/5 [00:00<?, ?it/s]"
      ]
     },
     "metadata": {},
     "output_type": "display_data"
    },
    {
     "data": {
      "application/vnd.jupyter.widget-view+json": {
       "model_id": "",
       "version_major": 2,
       "version_minor": 0
      },
      "text/plain": [
       "Sections:   0%|          | 0/5 [00:00<?, ?it/s]"
      ]
     },
     "metadata": {},
     "output_type": "display_data"
    },
    {
     "data": {
      "application/vnd.jupyter.widget-view+json": {
       "model_id": "",
       "version_major": 2,
       "version_minor": 0
      },
      "text/plain": [
       "Sections:   0%|          | 0/14 [00:00<?, ?it/s]"
      ]
     },
     "metadata": {},
     "output_type": "display_data"
    },
    {
     "data": {
      "application/vnd.jupyter.widget-view+json": {
       "model_id": "",
       "version_major": 2,
       "version_minor": 0
      },
      "text/plain": [
       "Sections:   0%|          | 0/12 [00:00<?, ?it/s]"
      ]
     },
     "metadata": {},
     "output_type": "display_data"
    },
    {
     "data": {
      "application/vnd.jupyter.widget-view+json": {
       "model_id": "",
       "version_major": 2,
       "version_minor": 0
      },
      "text/plain": [
       "Sections:   0%|          | 0/3 [00:00<?, ?it/s]"
      ]
     },
     "metadata": {},
     "output_type": "display_data"
    },
    {
     "data": {
      "application/vnd.jupyter.widget-view+json": {
       "model_id": "",
       "version_major": 2,
       "version_minor": 0
      },
      "text/plain": [
       "Sections:   0%|          | 0/18 [00:00<?, ?it/s]"
      ]
     },
     "metadata": {},
     "output_type": "display_data"
    }
   ],
   "source": [
    "for main_href, main_name in tqdm(main_list[main_start:], desc='Global list'):\n",
    "    section = requests.get(url + main_href)\n",
    "    time.sleep(.2)\n",
    "    section = [\n",
    "        (li.find('a')['href'], li.find('a').text)\n",
    "        for li in bs(section.text, 'lxml').find('ul', class_='content-list').findAll('li', class_='content-list_item')\n",
    "    ]\n",
    "    for section_href, section_name in tqdm(section[section_start:], leave=False, desc='Sections'):\n",
    "        section_docs = requests.get(url + section_href)\n",
    "        time.sleep(.2)\n",
    "        if section_docs.status_code == 404:\n",
    "            global_dict[main_name][section_name] = 0\n",
    "            continue\n",
    "        lis = bs(section_docs.text, 'lxml').find('ul', class_='content-list').findAll('li', class_='content-list_item')\n",
    "        if lis:\n",
    "            section_docs = [(li.find('a')['href'], li.find('a').text) for li in lis]\n",
    "        else:\n",
    "            section_docs = []\n",
    "        global_dict[main_name][section_name] = deepcopy(len(section_docs))"
   ]
  },
  {
   "cell_type": "code",
   "execution_count": 11,
   "id": "9c9a29da-ca7c-4148-9d10-45d2fd1d6a83",
   "metadata": {},
   "outputs": [
    {
     "data": {
      "text/plain": [
       "{'01 ОБЩИЕ ПОЛОЖЕНИЯ. ТЕРМИНОЛОГИЯ. СТАНДАРТИЗАЦИЯ. ДОКУМЕНТАЦИЯ': {'01.020 Терминология (принципы и координация)': 50,\n",
       "  '01.040 Словари': 1221,\n",
       "  '01.060 Величины и единицы измерения': 8,\n",
       "  '01.070 Цветовое кодирование': 10,\n",
       "  '01.075 Знаковые обозначения': 16,\n",
       "  '01.080 Графические обозначения': 194,\n",
       "  '01.100 Технические чертежи': 180,\n",
       "  '01.110 Техническая документация на продукцию': 199,\n",
       "  '01.120 Стандартизация. Общие правила': 141,\n",
       "  '01.140 Информатика. Издательское дело': 246},\n",
       " '03 УСЛУГИ. ОРГАНИЗАЦИЯ ФИРМ И УПРАВЛЕНИЕ ИМИ. АДМИНИСТРАЦИЯ. ТРАНСПОРТ. СОЦИОЛОГИЯ': {'03.020 Социология. Демография': 0,\n",
       "  '03.040 Труд. Занятость': 6,\n",
       "  '03.060 Финансы. Банковское дело. Денежные системы. Страхование': 14,\n",
       "  '03.080 Услуги': 448,\n",
       "  '03.100 Организация фирм и управление ими. Системы менеджмента': 257,\n",
       "  '03.120 Качество': 939,\n",
       "  '03.140 Патенты. Интеллектуальная собственность': 25,\n",
       "  '03.160 Законодательство. Администрация': 7,\n",
       "  '03.180 Образование': 3,\n",
       "  '03.200 Досуг. Туризм': 25,\n",
       "  '03.220 Транспорт': 183,\n",
       "  '03.240 Почтовые услуги': 6},\n",
       " '07 ЕСТЕСТВЕННЫЕ И ПРИКЛАДНЫЕ НАУКИ': {'07.020 Математика': 1,\n",
       "  '07.030 Физика. Химия': 49,\n",
       "  '07.040 Астрономия. Геодезия. География': 95,\n",
       "  '07.060 Геология. Метеорология. Гидрология': 12,\n",
       "  '07.080 Биология. Ботаника. Зоология': 31,\n",
       "  '07.100 Микробиология': 212,\n",
       "  '07.120 Нанотехнологии': 0,\n",
       "  '07.140 Судебная наука': 0},\n",
       " '11 ТЕХНОЛОГИЯ ЗДРАВООХРАНЕНИЯ': {'11.020 Медицинские науки и учреждения здравоохранения в целом': 64,\n",
       "  '11.040 Медицинское оборудование': 904,\n",
       "  '11.060 Стоматология': 144,\n",
       "  '11.080 Стерилизация и дезинфекция': 105,\n",
       "  '11.100 Лабораторные препараты': 126,\n",
       "  '11.120 Фармацевтика': 111,\n",
       "  '11.140 Больничное оборудование': 40,\n",
       "  '11.160 Первая помощь': 22,\n",
       "  '11.180 Средства помощи для инвалидов и других лиц с ограничениями жизнедеятельности': 364,\n",
       "  '11.200 Регулирование рождаемости. Механические контрацептивы': 12,\n",
       "  '11.220 Ветеринария': 126},\n",
       " '13 ОКРУЖАЮЩАЯ СРЕДА. ЗАЩИТА ЧЕЛОВЕКА ОТ ВОЗДЕЙСТВИЯ ОКРУЖАЮЩЕЙ СРЕДЫ. БЕЗОПАСНОСТЬ': {'13.020 Охрана окружающей среды': 400,\n",
       "  '13.030 Отходы': 156,\n",
       "  '13.040 Качество воздуха': 273,\n",
       "  '13.060 Качество воды': 227,\n",
       "  '13.080 Качество грунта. Почвоведение': 173,\n",
       "  '13.100 Безопасность профессиональной деятельности. Промышленная гигиена': 295,\n",
       "  '13.110 Безопасность механизмов': 175,\n",
       "  '13.120 Безопасность в быту': 148,\n",
       "  '13.140 Воздействие шума на человека': 63,\n",
       "  '13.160 Воздействие вибрации и удара на человека': 77,\n",
       "  '13.180 Эргономика': 173,\n",
       "  '13.200 Борьба с несчастными случаями и катастрофами': 220,\n",
       "  '13.220 Защита от пожара': 313,\n",
       "  '13.230 Взрывозащита': 32,\n",
       "  '13.240 Защита от избыточного давления': 0,\n",
       "  '13.260 Защита от электрического удара. Работа с проводкой, находящейся под током': 39,\n",
       "  '13.280 Защита от радиационного излучения': 51,\n",
       "  '13.300 Защита от опасных грузов': 12,\n",
       "  '13.310 Защита от преступлений': 117,\n",
       "  '13.320 Системы аварийной сигнализации и оповещения': 48,\n",
       "  '13.340 Защитные средства': 625},\n",
       " '17 МЕТРОЛОГИЯ И ИЗМЕРЕНИЯ. ФИЗИЧЕСКИЕ ЯВЛЕНИЯ': {'17.020 Метрология и измерения в целом': 617,\n",
       "  '17.040 Линейные и угловые измерения': 304,\n",
       "  '17.060 Измерение объема, массы, плотности, вязкости': 111,\n",
       "  '17.080 Измерения времени, скорости, ускорения, угловой скорости': 29,\n",
       "  '17.100 Измерение силы, веса и давления': 58,\n",
       "  '17.120 Измерения параметров потока жидкости': 60,\n",
       "  '17.140 Акустика и акустические измерения': 233,\n",
       "  '17.160 Вибрации, измерения удара и вибрации': 156,\n",
       "  '17.180 Оптика и оптические измерения': 106,\n",
       "  '17.200 Термодинамика и измерения температуры': 104,\n",
       "  '17.220 Электричество. Магнетизм. Электрические и магнитные измерения': 295,\n",
       "  '17.240 Измерение излучений': 118},\n",
       " '19 ИСПЫТАНИЯ': {'19.020 Условия и методика испытаний в целом': 50,\n",
       "  '19.040 Климатические испытания': 122,\n",
       "  '19.060 Механические испытания': 73,\n",
       "  '19.080 Электрические и электронные испытания': 26,\n",
       "  '19.100 Неразрушающие испытания': 137,\n",
       "  '19.120 Ситовый анализ. Просеивание': 3},\n",
       " '21 МЕХАНИЧЕСКИЕ СИСТЕМЫ И УСТРОЙСТВА ОБЩЕГО НАЗНАЧЕНИЯ': {'21.020 Характеристики и конструкция механизмов, приборов и оборудования': 56,\n",
       "  '21.040 Винтовые резьбы': 44,\n",
       "  '21.060 Крепежные изделия': 451,\n",
       "  '21.080 Шарниры, проушины и другие шарнирные соединения': 1,\n",
       "  '21.100 Подшипники': 195,\n",
       "  '21.120 Валы и муфты': 64,\n",
       "  '21.140 Уплотнения, сальники': 19,\n",
       "  '21.160 Пружины': 22,\n",
       "  '21.180 Кожухи, корпуса и другие детали машин': 7,\n",
       "  '21.200 Зубчатые передачи': 71,\n",
       "  '21.220 Гибкие приводы и передачи': 44,\n",
       "  '21.240 Вращательно-поступательные механизмы и их детали': 0,\n",
       "  '21.260 Смазочные системы': 15},\n",
       " '23 ГИДРАВЛИЧЕСКИЕ И ПНЕВМАТИЧЕСКИЕ СИСТЕМЫ И КОМПОНЕНТЫ ОБЩЕГО НАЗНАЧЕНИЯ': {'23.020 Резервуары для хранения жидкостей': 43,\n",
       "  '23.040 Трубопроводы и их компоненты': 736,\n",
       "  '23.060 Арматура трубопроводная': 123,\n",
       "  '23.080 Насосы': 67,\n",
       "  '23.100 Объемные гидроприводы и пневмоприводы': 113,\n",
       "  '23.120 Вентиляторы. Фены. Кондиционеры': 52,\n",
       "  '23.140 Компрессоры и пневматические машины': 14,\n",
       "  '23.160 Вакуумная технология': 42},\n",
       " '25 МАШИНОСТРОЕНИЕ': {'25.020 Производственные формовочные процессы': 2,\n",
       "  '25.030 Аддитивные технологии': 1,\n",
       "  '25.040 Промышленные автоматизированные системы': 727,\n",
       "  '25.060 Станочные системы': 456,\n",
       "  '25.080 Металлорежущие станки': 179,\n",
       "  '25.100 Режущие инструменты': 629,\n",
       "  '25.120 Оборудование для бесстружечной обработки': 960,\n",
       "  '25.140 Ручные инструменты': 190,\n",
       "  '25.160 Сварка, пайка твердым и мягким припоем': 357,\n",
       "  '25.180 Промышленные печи': 56,\n",
       "  '25.200 Термическая обработка': 22,\n",
       "  '25.220 Обработка и покрытие поверхности': 131},\n",
       " '27 ЭНЕРГЕТИКА И ТЕПЛОТЕХНИКА': {'27.010 Энергетика и теплотехника в целом': 114,\n",
       "  '27.015 Энергоэффективность. Энергосбережение в целом': 4,\n",
       "  '27.020 Двигатели внутреннего сгорания': 89,\n",
       "  '27.040 Газовые и паровые турбины. Паровые двигатели': 66,\n",
       "  '27.060 Горелки. Котлы': 65,\n",
       "  '27.070 Топливные элементы': 15,\n",
       "  '27.075 Водородные технологии': 19,\n",
       "  '27.080 Тепловые насосы': 41,\n",
       "  '27.100 Электростанции в целом': 16,\n",
       "  '27.120 Атомная энергетика': 230,\n",
       "  '27.140 Гидроэнергетика': 48,\n",
       "  '27.160 Гелиоэнергетика': 82,\n",
       "  '27.180 Системы ветровых энергетических турбин': 33,\n",
       "  '27.190 Биологические и альтернативные источники энергии': 0,\n",
       "  '27.200 Холодильная технология': 12,\n",
       "  '27.220 Регенерация тепла. Теплоизоляция': 3},\n",
       " '29 ЭЛЕКТРОТЕХНИКА': {'29.020 Электротехника в целом': 116,\n",
       "  '29.030 Магнитные материалы': 11,\n",
       "  '29.035 Изоляционные материалы': 150,\n",
       "  '29.040 Изоляционные жидкости и газы (текучие среды)': 12,\n",
       "  '29.045 Полупроводниковые материалы': 15,\n",
       "  '29.050 Сверхпроводимость и проводниковые материалы': 0,\n",
       "  '29.060 Электрические провода и кабели': 448,\n",
       "  '29.080 Изоляция': 71,\n",
       "  '29.100 Компоненты электрооборудования': 40,\n",
       "  '29.120 Электрическая арматура': 400,\n",
       "  '29.130 Коммутационная аппаратура и аппаратура управления': 93,\n",
       "  '29.140 Лампы и сопутствующие изделия': 250,\n",
       "  '29.160 Машины вращающиеся': 162,\n",
       "  '29.180 Трансформаторы. Реакторы': 77,\n",
       "  '29.200 Выпрямители. Преобразователи. Стабилизированные источники питания': 57,\n",
       "  '29.220 Гальванические элементы и батареи': 152,\n",
       "  '29.240 Сети электропередачи и распределительные сети': 71,\n",
       "  '29.260 Электрическое оборудование для работы в особых условиях': 242,\n",
       "  '29.280 Электрическое тяговое оборудование': 17},\n",
       " '31 ЭЛЕКТРОНИКА': {'31.020 Электронные компоненты в целом': 61,\n",
       "  '31.040 Резисторы': 74,\n",
       "  '31.060 Конденсаторы': 42,\n",
       "  '31.080 Полупроводниковые приборы': 128,\n",
       "  '31.100 Электронные лампы': 153,\n",
       "  '31.120 Электронные дисплеи': 42,\n",
       "  '31.140 Пьезоэлектрические приборы': 8,\n",
       "  '31.160 Электрические фильтры': 4,\n",
       "  '31.180 Печатные схемы и платы': 49,\n",
       "  '31.190 Электронные компоненты в сборе': 45,\n",
       "  '31.200 Интегральные схемы. Микроэлектроника': 76,\n",
       "  '31.220 Электромеханические компоненты электронного оборудования и телекоммуникационного оборудования': 75,\n",
       "  '31.240 Механические конструкции электронного оборудования': 47,\n",
       "  '31.260 Оптоэлектроника. Лазерное оборудование': 158},\n",
       " '33 ТЕЛЕКОММУНИКАЦИИ. АУДИО- И ВИДЕОТЕХНИКА': {'33.020 Телекоммуникации в целом': 20,\n",
       "  '33.030 Телекоммуникационные услуги. Применение': 0,\n",
       "  '33.040 Телекоммуникационные системы': 125,\n",
       "  '33.050 Телекоммуникационная оконечная аппаратура': 48,\n",
       "  '33.060 Радиосвязь': 69,\n",
       "  '33.070 Подвижные службы': 33,\n",
       "  '33.080 Цифровая сеть связи с интеграцией служб (ISDN)': 7,\n",
       "  '33.100 Электромагнитная совместимость (EMC)': 324,\n",
       "  '33.120 Компоненты и вспомогательные приспособления телекоммуникационного оборудования': 15,\n",
       "  '33.140 Специальное измерительное оборудование для систем телекоммуникаций': 8,\n",
       "  '33.160 Аудио-, видео- и аудиовизуальная техника': 125,\n",
       "  '33.170 Теле- и радиовещание': 127,\n",
       "  '33.180 Волоконно-оптическая связь': 57,\n",
       "  '33.200 Телемеханика. Телеметрия': 34},\n",
       " '35 ИНФОРМАЦИОННЫЕ ТЕХНОЛОГИИ': {'35.020 Информационные технологии (ИТ) в целом': 282,\n",
       "  '35.030 Безопасность ИТ': 2,\n",
       "  '35.040 Кодирование информации': 259,\n",
       "  '35.060 Языки, используемые в информационных технологиях': 16,\n",
       "  '35.080 Программное обеспечение': 122,\n",
       "  '35.100 Взаимосвязь открытых систем': 198,\n",
       "  '35.110 Организация сети': 41,\n",
       "  '35.140 Компьютерная графика': 4,\n",
       "  '35.160 Микропроцессорные системы': 33,\n",
       "  '35.180 Информационно-технологические терминалы и другие периферийные устройства': 19,\n",
       "  '35.200 Интерфейсы и межсоединительные устройства': 32,\n",
       "  '35.210 \"Облачная\" обработка данных': 2,\n",
       "  '35.220 Запоминающие устройства': 14,\n",
       "  '35.240 Применение информационных технологий': 664,\n",
       "  '35.260 Машины конторские': 12},\n",
       " '37 ТЕХНОЛОГИЯ ПОЛУЧЕНИЯ ИЗОБРАЖЕНИЙ': {'37.020 Оптическое оборудование': 36,\n",
       "  '37.040 Фотография': 106,\n",
       "  '37.060 Кинематография': 46,\n",
       "  '37.080 Способы формирования изображения документов': 80,\n",
       "  '37.100 Технология полиграфии': 17},\n",
       " '39 ТОЧНАЯ МЕХАНИКА. ЮВЕЛИРНОЕ ДЕЛО': {'39.020 Точная механика': 0,\n",
       "  '39.040 Часовое дело': 23,\n",
       "  '39.060 Ювелирное дело': 46},\n",
       " '43 ДОРОЖНО-ТРАНСПОРТНАЯ ТЕХНИКА': {'43.020 Дорожно-транспортные средства в целом': 71,\n",
       "  '43.040 Системы дорожно-транспортных средств': 283,\n",
       "  '43.060 Двигатели внутреннего сгорания для дорожно-транспортных средств': 108,\n",
       "  '43.080 Грузовые транспортные средства': 39,\n",
       "  '43.100 Легковые автомобили. Караваны и легкие прицепы': 5,\n",
       "  '43.120 Электрические дорожно-транспортные средства': 34,\n",
       "  '43.140 Мотоциклы и мопеды': 33,\n",
       "  '43.150 Велосипеды': 22,\n",
       "  '43.160 Транспорт специального назначения': 21,\n",
       "  '43.180 Диагностическое и испытательное оборудование и оборудование для технического обслуживания': 14},\n",
       " '45 ЖЕЛЕЗНОДОРОЖНАЯ ТЕХНИКА': {'45.020 Железнодорожная техника в целом': 85,\n",
       "  '45.040 Материалы и компоненты для железнодорожной техники': 29,\n",
       "  '45.060 Подвижной состав железных дорог': 341,\n",
       "  '45.080 Рельсы и компоненты железных дорог': 102,\n",
       "  '45.100 Оборудование для канатных дорог': 2,\n",
       "  '45.120 Оборудование для сооружения и технического обслуживания железных/канатных дорог': 5,\n",
       "  '45.140 Оборудование метро, трамваев и легкорельсового транспорта': 0},\n",
       " '47 СУДОСТРОЕНИЕ И МОРСКИЕ СООРУЖЕНИЯ': {'47.020 Судостроение и морские сооружения в целом': 187,\n",
       "  '47.040 Морские суда': 3,\n",
       "  '47.060 Суда внутренней навигации': 36,\n",
       "  '47.080 Малые суда': 33},\n",
       " '49 АВИАЦИОННАЯ И КОСМИЧЕСКАЯ ТЕХНИКА': {'49.020 Авиационные и космические аппараты в целом': 66,\n",
       "  '49.025 Материалы для авиационно-космических конструкций': 13,\n",
       "  '49.030 Крепежные изделия для авиационно-космических конструкций': 2,\n",
       "  '49.035 Компоненты для авиационно-космических конструкций': 5,\n",
       "  '49.040 Покрытия и связанные с ними процессы в авиационно-космической промышленности': 0,\n",
       "  '49.045 Конструкции и элементы конструкций': 14,\n",
       "  '49.050 Авиационно-космические двигатели и силовые установки': 19,\n",
       "  '49.060 Авиационно-космическое электрооборудование и системы': 9,\n",
       "  '49.080 Авиационно-космические гидравлические и пневматические системы и их компоненты': 35,\n",
       "  '49.090 Бортовое оборудование и приборы': 24,\n",
       "  '49.095 Оборудование для пассажиров и кабин': 8,\n",
       "  '49.100 Оборудование наземного обслуживания и ремонта': 29,\n",
       "  '49.120 Грузовое оборудование': 7,\n",
       "  '49.140 Космические системы и операции': 43},\n",
       " '53 ПОДЪЕМНО-ТРАНСПОРТНОЕ ОБОРУДОВАНИЕ': {'53.020 Подъемное оборудование': 213,\n",
       "  '53.040 Подъемно-транспортное оборудование непрерывного действия': 58,\n",
       "  '53.060 Грузовые тележки': 26,\n",
       "  '53.080 Оборудование для хранения': 13,\n",
       "  '53.100 Землеройные машины': 159,\n",
       "  '53.120 Оборудование для ручных работ': 15},\n",
       " '55 УПАКОВКА И РАЗМЕЩЕНИЕ ГРУЗОВ': {'55.020 Упаковка и размещение грузов в целом': 98,\n",
       "  '55.040 Упаковочные материалы и приспособления': 78,\n",
       "  '55.060 Катушки. Бобины': 0,\n",
       "  '55.080 Мешки, сумки': 29,\n",
       "  '55.100 Бутыли. Горшки. Банки': 73,\n",
       "  '55.120 Консервные банки. Баллоны. Тубы': 10,\n",
       "  '55.130 Аэрозольная тара': 6,\n",
       "  '55.140 Бочки. Барабаны. Канистры': 29,\n",
       "  '55.160 Ящики. Коробки. Решетчатая тара': 69,\n",
       "  '55.180 Размещение грузов для перевозок': 102,\n",
       "  '55.200 Упаковочное оборудование': 9,\n",
       "  '55.220 Хранение. Складирование': 4,\n",
       "  '55.230 Размещение и торговые автоматы': 3},\n",
       " '59 ТЕКСТИЛЬНОЕ И КОЖЕВЕННОЕ ПРОИЗВОДСТВО': {'59.020 Процессы в текстильной промышленности': 0,\n",
       "  '59.040 Вспомогательные материалы для отделки текстиля': 18,\n",
       "  '59.060 Текстильные волокна': 220,\n",
       "  '59.080 Изделия текстильной промышленности': 763,\n",
       "  '59.100 Материалы для усиления композитов': 80,\n",
       "  '59.120 Текстильные машины': 87,\n",
       "  '59.140 Технология производства кожи': 398},\n",
       " '61 ШВЕЙНАЯ ПРОМЫШЛЕННОСТЬ': {'61.020 Одежда': 167,\n",
       "  '61.040 Головные уборы. Аксессуары. Застежки для одежды': 47,\n",
       "  '61.060 Обувь': 132,\n",
       "  '61.080 Швейные машины и другое оборудование для швейной промышленности': 19},\n",
       " '65 СЕЛЬСКОЕ ХОЗЯЙСТВО': {'65.020 Земледелие и лесоводство': 319,\n",
       "  '65.040 Сельскохозяйственные постройки, сооружения и установки': 23,\n",
       "  '65.060 Сельскохозяйственные машины, инвентарь и оборудование': 398,\n",
       "  '65.080 Удобрения': 159,\n",
       "  '65.100 Пестициды и другие агрохимикаты': 27,\n",
       "  '65.120 Корма для животных': 409,\n",
       "  '65.140 Пчеловодство': 36,\n",
       "  '65.145 Охота': 1,\n",
       "  '65.150 Рыболовство и рыбоводство': 0,\n",
       "  '65.160 Табак, табачные изделия и соответствующее оборудование': 88},\n",
       " '67 ПРОИЗВОДСТВО ПИЩЕВЫХ ПРОДУКТОВ': {'67.020 Процессы в пищевой промышленности': 10,\n",
       "  '67.040 Пищевые продукты в целом': 50,\n",
       "  '67.050 Общие методы проверки и анализа пищевых продуктов': 166,\n",
       "  '67.060 Зерновые, бобовые и продукты их переработки': 399,\n",
       "  '67.080 Фрукты. Овощи': 547,\n",
       "  '67.100 Молоко и молочные продукты': 399,\n",
       "  '67.120 Мясо, мясные продукты и другие продукты животного происхождения': 835,\n",
       "  '67.140 Чай. Кофе. Какао': 105,\n",
       "  '67.160 Напитки': 395,\n",
       "  '67.180 Сахар. Продукты из сахара. Крахмал': 185,\n",
       "  '67.190 Шоколад': 18,\n",
       "  '67.200 Пищевые масла и жиры. Семена масличных культур': 230,\n",
       "  '67.220 Пряности и приправы. Пищевые добавки': 174,\n",
       "  '67.230 Расфасованные пищевые продукты и пищевые продукты, подвергнутые кулинарной обработке': 10,\n",
       "  '67.240 Органолептический анализ': 30,\n",
       "  '67.250 Материалы и предметы в контакте с пищевыми продуктами': 12,\n",
       "  '67.260 Установки и оборудование для пищевой промышленности': 97},\n",
       " '71 ХИМИЧЕСКАЯ ПРОМЫШЛЕННОСТЬ': {'71.020 Производство в химической промышленности': 9,\n",
       "  '71.040 Аналитическая химия': 462,\n",
       "  '71.060 Неорганические химические вещества': 192,\n",
       "  '71.080 Органические химические вещества': 281,\n",
       "  '71.100 Продукты химической промышленности': 592,\n",
       "  '71.120 Оборудование для химической промышленности': 125},\n",
       " '73 ГОРНОЕ ДЕЛО И ПОЛЕЗНЫЕ ИСКОПАЕМЫЕ': {'73.020 Горное дело и открытые горные работы': 44,\n",
       "  '73.040 Угли': 172,\n",
       "  '73.060 Рудные минералы и их концентраты': 332,\n",
       "  '73.080 Нерудные минералы': 283,\n",
       "  '73.100 Горное оборудование': 148,\n",
       "  '73.120 Оборудование для обработки минералов': 12},\n",
       " '75 ДОБЫЧА И ПЕРЕРАБОТКА НЕФТИ, ГАЗА И СМЕЖНЫЕ ПРОИЗВОДСТВА': {'75.020 Добыча и переработка нефти и природного газа': 171,\n",
       "  '75.040 Нефть': 33,\n",
       "  '75.060 Газ горючий природный': 97,\n",
       "  '75.080 Нефтяные продукты в целом': 234,\n",
       "  '75.100 Смазки, индустриальные масла и связанные с ними продукты': 253,\n",
       "  '75.120 Гидравлические жидкости': 9,\n",
       "  '75.140 Парафины, битумные материалы и другие нефтепродукты': 91,\n",
       "  '75.160 Топливо': 741,\n",
       "  '75.180 Оборудование для нефтяной и газовой промышленности': 189,\n",
       "  '75.200 Оборудование для переработки нефти, нефтяных продуктов и природного газа': 48},\n",
       " '77 МЕТАЛЛУРГИЯ': {'77.020 Производство металлов': 3,\n",
       "  '77.040 Испытания металлов': 171,\n",
       "  '77.060 Коррозия металлов': 29,\n",
       "  '77.080 Черные металлы': 142,\n",
       "  '77.100 Ферросплавы': 156,\n",
       "  '77.120 Цветные металлы': 973,\n",
       "  '77.140 Продукция из чугуна и стали': 484,\n",
       "  '77.150 Продукция из цветных металлов': 283,\n",
       "  '77.160 Порошковая металлургия': 136,\n",
       "  '77.180 Оборудование для металлургической промышленности': 15},\n",
       " '79 ТЕХНОЛОГИЯ ПЕРЕРАБОТКИ ДРЕВЕСИНЫ': {'79.020 Процессы обработки древесины': 13,\n",
       "  '79.040 Древесина, пиловочные бревна, пиломатериалы': 182,\n",
       "  '79.060 Древесные плиты': 113,\n",
       "  '79.080 Полуфабрикаты из древесины': 33,\n",
       "  '79.100 Пробка и изделия из пробки': 0,\n",
       "  '79.120 Деревообрабатывающее оборудование': 106},\n",
       " '81 СТЕКОЛЬНАЯ И КЕРАМИЧЕСКАЯ ПРОМЫШЛЕННОСТЬ': {'81.020 Процессы в стекольной и керамической промышленности': 0,\n",
       "  '81.040 Стекло': 223,\n",
       "  '81.060 Керамика': 68,\n",
       "  '81.080 Огнеупоры': 314,\n",
       "  '81.100 Оборудование для стекольной и керамической промышленности': 3},\n",
       " '83 РЕЗИНОВАЯ И ПЛАСТМАССОВАЯ ПРОМЫШЛЕННОСТЬ': {'83.020 Процессы производства резины и пластмасс': 5,\n",
       "  '83.040 Сырье для производства резины и пластмасс': 161,\n",
       "  '83.060 Резина': 134,\n",
       "  '83.080 Пластмассы': 332,\n",
       "  '83.100 Поропласты': 33,\n",
       "  '83.120 Армированные пластмассы': 197,\n",
       "  '83.140 Резиновые и пластмассовые изделия': 183,\n",
       "  '83.160 Шины': 73,\n",
       "  '83.180 Клеи': 26,\n",
       "  '83.200 Оборудование для производства резины и пластмасс': 92},\n",
       " '85 ТЕХНОЛОГИЯ ПРОИЗВОДСТВА БУМАГИ': {'85.020 Процессы производства бумаги': 6,\n",
       "  '85.040 Целлюлоза': 64,\n",
       "  '85.060 Бумага и картон': 235,\n",
       "  '85.080 Бумажные изделия': 29,\n",
       "  '85.100 Оборудование для производства бумаги': 8},\n",
       " '87 ЛАКОКРАСОЧНАЯ ПРОМЫШЛЕННОСТЬ': {'87.020 Процессы производства лакокрасочных покрытий': 11,\n",
       "  '87.040 Краски и лаки': 279,\n",
       "  '87.060 Ингредиенты красок': 60,\n",
       "  '87.080 Типографские краски. Печатные краски': 6,\n",
       "  '87.100 Оборудование для производства лакокрасочных покрытий': 3},\n",
       " '91 СТРОИТЕЛЬНЫЕ МАТЕРИАЛЫ И СТРОИТЕЛЬСТВО': {'91.010 Строительная промышленность': 32,\n",
       "  '91.020 Территориальное планирование. Планировка городов': 0,\n",
       "  '91.040 Строительство': 76,\n",
       "  '91.060 Строительные элементы': 164,\n",
       "  '91.080 Конструкции зданий': 363,\n",
       "  '91.090 Наружные конструкции': 2,\n",
       "  '91.100 Строительные материалы': 820,\n",
       "  '91.120 Защита зданий снаружи и внутри': 100,\n",
       "  '91.140 Установки в зданиях': 362,\n",
       "  '91.160 Освещение': 20,\n",
       "  '91.180 Внутренняя отделка': 1,\n",
       "  '91.190 Арматура для зданий': 33,\n",
       "  '91.200 Технология строительства': 18,\n",
       "  '91.220 Строительное оборудование': 127},\n",
       " '93 ГРАЖДАНСКОЕ СТРОИТЕЛЬСТВО': {'93.010 Гражданское строительство в целом': 6,\n",
       "  '93.020 Земляные работы. Выемка грунта. Сооружение фундаментов. Подземные работы': 106,\n",
       "  '93.025 Наружные системы подачи воды': 0,\n",
       "  '93.030 Наружные канализационные системы': 6,\n",
       "  '93.040 Сооружение мостов': 36,\n",
       "  '93.060 Сооружение тоннелей': 13,\n",
       "  '93.080 Строительство дорог': 550,\n",
       "  '93.100 Сооружение железных дорог': 20,\n",
       "  '93.110 Сооружение канатных транспортных систем': 0,\n",
       "  '93.120 Сооружение аэропортов': 5,\n",
       "  '93.140 Сооружение водных путей, портов и дамб': 2,\n",
       "  '93.160 Сооружение гидротехнических объектов': 8},\n",
       " '95 ВОЕННОЕ ДЕЛО. ВОЕННО-ИНЖЕНЕРНОЕ ДЕЛО. ВООРУЖЕНИЕ': {'95.020 Военные вопросы в целом': 15,\n",
       "  '95.040 Военно-инженерное дело': 0,\n",
       "  '95.060 Вооружение': 0},\n",
       " '97 БЫТОВАЯ ТЕХНИКА И ТОРГОВОЕ ОБОРУДОВАНИЕ. ОТДЫХ. СПОРТ': {'97.020 Домашнее хозяйство в целом': 6,\n",
       "  '97.030 Бытовые электрические приборы в целом': 23,\n",
       "  '97.040 Кухонное оборудование': 192,\n",
       "  '97.060 Прачечное оборудование': 43,\n",
       "  '97.080 Чистящие устройства': 10,\n",
       "  '97.100 Бытовые, торговые и промышленные нагревательные приборы': 66,\n",
       "  '97.120 Автоматические регуляторы бытового назначения': 49,\n",
       "  '97.130 Аксессуары для магазинов': 5,\n",
       "  '97.140 Мебель': 137,\n",
       "  '97.145 Лестницы-стремянки': 0,\n",
       "  '97.150 Нетекстильные покрытия для полов': 11,\n",
       "  '97.160 Бытовые швейные изделия. Белье': 12,\n",
       "  '97.170 Бытовые приборы для ухода за телом': 18,\n",
       "  '97.180 Различная бытовая техника и торговое оборудование': 24,\n",
       "  '97.190 Техника для детей': 13,\n",
       "  '97.195 Предметы искусства и ремесел. Культурные ценности и наследие': 46,\n",
       "  '97.200 Оборудование для отдыха': 88,\n",
       "  '97.220 Спортивный инвентарь и сооружения': 234}}"
      ]
     },
     "execution_count": 11,
     "metadata": {},
     "output_type": "execute_result"
    }
   ],
   "source": [
    "global_dict"
   ]
  },
  {
   "cell_type": "code",
   "execution_count": 22,
   "id": "1450c6c1-b46a-4629-8513-049001f16849",
   "metadata": {},
   "outputs": [],
   "source": [
    "with open('result_dict.pickle', 'rb') as file:\n",
    "    result_dict = pickle.load(file)"
   ]
  },
  {
   "cell_type": "code",
   "execution_count": 1,
   "id": "e0c27307-f2cd-4309-8749-92468ac718a5",
   "metadata": {},
   "outputs": [
    {
     "ename": "NameError",
     "evalue": "name 'pickle' is not defined",
     "output_type": "error",
     "traceback": [
      "\u001b[1;31m---------------------------------------------------------------------------\u001b[0m",
      "\u001b[1;31mNameError\u001b[0m                                 Traceback (most recent call last)",
      "Cell \u001b[1;32mIn[1], line 2\u001b[0m\n\u001b[0;32m      1\u001b[0m \u001b[38;5;28;01mwith\u001b[39;00m \u001b[38;5;28mopen\u001b[39m(\u001b[38;5;124m'\u001b[39m\u001b[38;5;124mnums.pickle\u001b[39m\u001b[38;5;124m'\u001b[39m, \u001b[38;5;124m'\u001b[39m\u001b[38;5;124mwb\u001b[39m\u001b[38;5;124m'\u001b[39m) \u001b[38;5;28;01mas\u001b[39;00m file:\n\u001b[1;32m----> 2\u001b[0m     \u001b[43mpickle\u001b[49m\u001b[38;5;241m.\u001b[39mdump(nums, file)\n",
      "\u001b[1;31mNameError\u001b[0m: name 'pickle' is not defined"
     ]
    }
   ],
   "source": [
    "with open('nums.pickle', 'wb') as file:\n",
    "    pickle.dump(nums, file)"
   ]
  },
  {
   "cell_type": "code",
   "execution_count": 11,
   "id": "c2be443f-71fa-4fec-bad2-d7718f3a3768",
   "metadata": {},
   "outputs": [
    {
     "data": {
      "application/vnd.jupyter.widget-view+json": {
       "model_id": "91cd5bc2f76b45d8a7bbbb46eff44346",
       "version_major": 2,
       "version_minor": 0
      },
      "text/plain": [
       "  0%|          | 0/40 [00:00<?, ?it/s]"
      ]
     },
     "metadata": {},
     "output_type": "display_data"
    },
    {
     "name": "stdout",
     "output_type": "stream",
     "text": [
      "3519\n"
     ]
    }
   ],
   "source": [
    "max_n = 10\n",
    "\n",
    "overall_sum = 0\n",
    "for _, main_section in tqdm(nums.items()):\n",
    "    for sec_name, sec_num in main_section.items():\n",
    "        overall_sum += min(max_n, sec_num)\n",
    "print(overall_sum)"
   ]
  },
  {
   "cell_type": "code",
   "execution_count": 18,
   "id": "c3d7c4e0-8163-4e6e-9eac-2365dac3520a",
   "metadata": {},
   "outputs": [],
   "source": [
    "new_max_n = 10"
   ]
  },
  {
   "cell_type": "code",
   "execution_count": 25,
   "id": "d47fb93d-6194-4cca-ba2d-596741f048f4",
   "metadata": {},
   "outputs": [
    {
     "data": {
      "application/vnd.jupyter.widget-view+json": {
       "model_id": "76cbb196dd594c688999b26e77c59455",
       "version_major": 2,
       "version_minor": 0
      },
      "text/plain": [
       "  0%|          | 0/40 [00:00<?, ?it/s]"
      ]
     },
     "metadata": {},
     "output_type": "display_data"
    }
   ],
   "source": [
    "for main_name, sections in tqdm(result_dict.items()):\n",
    "    for section_name, doc_list in sections.items():\n",
    "        del doc_list[new_max_n:]\n",
    "    #         break\n",
    "    #     break\n",
    "    # break"
   ]
  },
  {
   "cell_type": "code",
   "execution_count": 28,
   "id": "08eb6859-7b43-43da-bbae-8de902796817",
   "metadata": {},
   "outputs": [],
   "source": [
    "with open('res_dict_10.pickle', 'wb') as file:\n",
    "    pickle.dump(result_dict, file)"
   ]
  },
  {
   "cell_type": "code",
   "execution_count": 26,
   "id": "a830bb3a-7e17-4cb5-9f50-6e0de3c55867",
   "metadata": {},
   "outputs": [
    {
     "data": {
      "application/vnd.jupyter.widget-view+json": {
       "model_id": "6e71f685ae414e09abae0ad534aabc27",
       "version_major": 2,
       "version_minor": 0
      },
      "text/plain": [
       "  0%|          | 0/40 [00:00<?, ?it/s]"
      ]
     },
     "metadata": {},
     "output_type": "display_data"
    },
    {
     "data": {
      "text/plain": [
       "3519"
      ]
     },
     "execution_count": 26,
     "metadata": {},
     "output_type": "execute_result"
    }
   ],
   "source": [
    "new_nums = {}\n",
    "overall_sum = 0\n",
    "for main_name, sections in tqdm(result_dict.items()):\n",
    "    new_nums[main_name] = {}\n",
    "    for section_name, doc_list in sections.items():\n",
    "        new_nums[main_name][section_name] = len(doc_list)\n",
    "        overall_sum += len(doc_list)\n",
    "overall_sum\n",
    "    #         break\n",
    "    #     break\n",
    "    # break"
   ]
  },
  {
   "cell_type": "code",
   "execution_count": 29,
   "id": "232780d2-1830-4831-b600-a3df54bc2ba1",
   "metadata": {},
   "outputs": [],
   "source": [
    "old_folder = 'files'\n",
    "new_folder = 'files_cropped'"
   ]
  },
  {
   "cell_type": "code",
   "execution_count": 38,
   "id": "e770dde0-6dab-44e6-9fc8-b26622a126da",
   "metadata": {},
   "outputs": [
    {
     "data": {
      "application/vnd.jupyter.widget-view+json": {
       "model_id": "b569feaeba974ebe982aa697269d17a7",
       "version_major": 2,
       "version_minor": 0
      },
      "text/plain": [
       "  0%|          | 0/40 [00:00<?, ?it/s]"
      ]
     },
     "metadata": {},
     "output_type": "display_data"
    }
   ],
   "source": [
    "for main_name, sections in tqdm(result_dict.items()):\n",
    "    for section_name, doc_list in sections.items():\n",
    "        for doc in doc_list:\n",
    "            #shutil.copy(r'C:\\Users\\1645286\\Desktop\\ubuntu.txt', r'C:\\Users\\1645286\\Desktop\\ubuntu2.txt')\n",
    "            if doc['file_path']:\n",
    "                #print(f\"{old_folder}/{doc['file_path']} -> {new_folder}/{doc['file_path']}\")\n",
    "                shutil.copy(f\"{old_folder}/{doc['file_path']}\", f\"{new_folder}/{doc['file_path']}\")\n",
    "            #print(doc.keys())"
   ]
  },
  {
   "cell_type": "code",
   "execution_count": 43,
   "id": "12651783-40f3-4e2e-a8ec-ba921471881f",
   "metadata": {},
   "outputs": [
    {
     "data": {
      "application/vnd.jupyter.widget-view+json": {
       "model_id": "27c657ea416441a1981e9ba2af9d7441",
       "version_major": 2,
       "version_minor": 0
      },
      "text/plain": [
       "  0%|          | 0/40 [00:00<?, ?it/s]"
      ]
     },
     "metadata": {},
     "output_type": "display_data"
    },
    {
     "name": "stdout",
     "output_type": "stream",
     "text": [
      "- Изделия медицинские. Оценка биологического действия медицинских изделий. Часть 33. Руководство по испытаниям на генотоксичность. Дополнение к ISO 10993-3 / https://allgosts.ru/01/020/gost_iso!tr_10993-33-2018\n",
      "- Единая система конструкторской документации. Нанесение размеров и предельных отклонений / https://allgosts.ru/01/080/gost_2.307-2011\n",
      "- Безопасность финансовых (банковских) операций. Защита информации финансовых организаций. Методика оценки соответствия / https://allgosts.ru/03/060/gost_r_57580.2-2018\n",
      "- Система разработки и постановки продукции на производство. Испытания и приемка выпускаемой продукции. Основные положения / https://allgosts.ru/03/100/gost_15.309-98\n"
     ]
    }
   ],
   "source": [
    "for main_name, sections in tqdm(result_dict.items()):\n",
    "    for section_name, doc_list in sections.items():\n",
    "        for doc in doc_list:\n",
    "            if not doc['file_path']:\n",
    "                print('-', doc['title'], '/', doc['file_url'])"
   ]
  },
  {
   "cell_type": "raw",
   "id": "1c61a0e1-0020-49f6-896c-d428fd62a030",
   "metadata": {},
   "source": [
    "50: 13717 (13707 downloaded)\n",
    "10: 3519 (3515 downloaded)"
   ]
  },
  {
   "cell_type": "code",
   "execution_count": 13,
   "id": "e8e87dda-f495-4ecb-858f-a5d5294bc6eb",
   "metadata": {},
   "outputs": [
    {
     "data": {
      "text/plain": [
       "{'01 ОБЩИЕ ПОЛОЖЕНИЯ. ТЕРМИНОЛОГИЯ. СТАНДАРТИЗАЦИЯ. ДОКУМЕНТАЦИЯ': {'01.020 Терминология (принципы и координация)': 50,\n",
       "  '01.040 Словари': 50,\n",
       "  '01.060 Величины и единицы измерения': 8,\n",
       "  '01.070 Цветовое кодирование': 10,\n",
       "  '01.075 Знаковые обозначения': 16,\n",
       "  '01.080 Графические обозначения': 50,\n",
       "  '01.100 Технические чертежи': 50,\n",
       "  '01.110 Техническая документация на продукцию': 50,\n",
       "  '01.120 Стандартизация. Общие правила': 50,\n",
       "  '01.140 Информатика. Издательское дело': 50},\n",
       " '03 УСЛУГИ. ОРГАНИЗАЦИЯ ФИРМ И УПРАВЛЕНИЕ ИМИ. АДМИНИСТРАЦИЯ. ТРАНСПОРТ. СОЦИОЛОГИЯ': {'03.020 Социология. Демография': 0,\n",
       "  '03.040 Труд. Занятость': 6,\n",
       "  '03.060 Финансы. Банковское дело. Денежные системы. Страхование': 14,\n",
       "  '03.080 Услуги': 50,\n",
       "  '03.100 Организация фирм и управление ими. Системы менеджмента': 50,\n",
       "  '03.120 Качество': 50,\n",
       "  '03.140 Патенты. Интеллектуальная собственность': 25,\n",
       "  '03.160 Законодательство. Администрация': 7,\n",
       "  '03.180 Образование': 3,\n",
       "  '03.200 Досуг. Туризм': 25,\n",
       "  '03.220 Транспорт': 50,\n",
       "  '03.240 Почтовые услуги': 6},\n",
       " '07 ЕСТЕСТВЕННЫЕ И ПРИКЛАДНЫЕ НАУКИ': {'07.020 Математика': 1,\n",
       "  '07.030 Физика. Химия': 49,\n",
       "  '07.040 Астрономия. Геодезия. География': 50,\n",
       "  '07.060 Геология. Метеорология. Гидрология': 12,\n",
       "  '07.080 Биология. Ботаника. Зоология': 31,\n",
       "  '07.100 Микробиология': 50,\n",
       "  '07.120 Нанотехнологии': 0,\n",
       "  '07.140 Судебная наука': 0},\n",
       " '11 ТЕХНОЛОГИЯ ЗДРАВООХРАНЕНИЯ': {'11.020 Медицинские науки и учреждения здравоохранения в целом': 50,\n",
       "  '11.040 Медицинское оборудование': 50,\n",
       "  '11.060 Стоматология': 50,\n",
       "  '11.080 Стерилизация и дезинфекция': 50,\n",
       "  '11.100 Лабораторные препараты': 50,\n",
       "  '11.120 Фармацевтика': 50,\n",
       "  '11.140 Больничное оборудование': 40,\n",
       "  '11.160 Первая помощь': 22,\n",
       "  '11.180 Средства помощи для инвалидов и других лиц с ограничениями жизнедеятельности': 50,\n",
       "  '11.200 Регулирование рождаемости. Механические контрацептивы': 12,\n",
       "  '11.220 Ветеринария': 50},\n",
       " '13 ОКРУЖАЮЩАЯ СРЕДА. ЗАЩИТА ЧЕЛОВЕКА ОТ ВОЗДЕЙСТВИЯ ОКРУЖАЮЩЕЙ СРЕДЫ. БЕЗОПАСНОСТЬ': {'13.020 Охрана окружающей среды': 50,\n",
       "  '13.030 Отходы': 50,\n",
       "  '13.040 Качество воздуха': 50,\n",
       "  '13.060 Качество воды': 50,\n",
       "  '13.080 Качество грунта. Почвоведение': 50,\n",
       "  '13.100 Безопасность профессиональной деятельности. Промышленная гигиена': 50,\n",
       "  '13.110 Безопасность механизмов': 50,\n",
       "  '13.120 Безопасность в быту': 50,\n",
       "  '13.140 Воздействие шума на человека': 50,\n",
       "  '13.160 Воздействие вибрации и удара на человека': 50,\n",
       "  '13.180 Эргономика': 50,\n",
       "  '13.200 Борьба с несчастными случаями и катастрофами': 50,\n",
       "  '13.220 Защита от пожара': 50,\n",
       "  '13.230 Взрывозащита': 32,\n",
       "  '13.240 Защита от избыточного давления': 0,\n",
       "  '13.260 Защита от электрического удара. Работа с проводкой, находящейся под током': 39,\n",
       "  '13.280 Защита от радиационного излучения': 50,\n",
       "  '13.300 Защита от опасных грузов': 12,\n",
       "  '13.310 Защита от преступлений': 50,\n",
       "  '13.320 Системы аварийной сигнализации и оповещения': 48,\n",
       "  '13.340 Защитные средства': 50},\n",
       " '17 МЕТРОЛОГИЯ И ИЗМЕРЕНИЯ. ФИЗИЧЕСКИЕ ЯВЛЕНИЯ': {'17.020 Метрология и измерения в целом': 50,\n",
       "  '17.040 Линейные и угловые измерения': 50,\n",
       "  '17.060 Измерение объема, массы, плотности, вязкости': 50,\n",
       "  '17.080 Измерения времени, скорости, ускорения, угловой скорости': 29,\n",
       "  '17.100 Измерение силы, веса и давления': 50,\n",
       "  '17.120 Измерения параметров потока жидкости': 50,\n",
       "  '17.140 Акустика и акустические измерения': 50,\n",
       "  '17.160 Вибрации, измерения удара и вибрации': 50,\n",
       "  '17.180 Оптика и оптические измерения': 50,\n",
       "  '17.200 Термодинамика и измерения температуры': 50,\n",
       "  '17.220 Электричество. Магнетизм. Электрические и магнитные измерения': 50,\n",
       "  '17.240 Измерение излучений': 50},\n",
       " '19 ИСПЫТАНИЯ': {'19.020 Условия и методика испытаний в целом': 50,\n",
       "  '19.040 Климатические испытания': 50,\n",
       "  '19.060 Механические испытания': 50,\n",
       "  '19.080 Электрические и электронные испытания': 26,\n",
       "  '19.100 Неразрушающие испытания': 50,\n",
       "  '19.120 Ситовый анализ. Просеивание': 3},\n",
       " '21 МЕХАНИЧЕСКИЕ СИСТЕМЫ И УСТРОЙСТВА ОБЩЕГО НАЗНАЧЕНИЯ': {'21.020 Характеристики и конструкция механизмов, приборов и оборудования': 50,\n",
       "  '21.040 Винтовые резьбы': 44,\n",
       "  '21.060 Крепежные изделия': 50,\n",
       "  '21.080 Шарниры, проушины и другие шарнирные соединения': 1,\n",
       "  '21.100 Подшипники': 50,\n",
       "  '21.120 Валы и муфты': 50,\n",
       "  '21.140 Уплотнения, сальники': 19,\n",
       "  '21.160 Пружины': 22,\n",
       "  '21.180 Кожухи, корпуса и другие детали машин': 7,\n",
       "  '21.200 Зубчатые передачи': 50,\n",
       "  '21.220 Гибкие приводы и передачи': 44,\n",
       "  '21.240 Вращательно-поступательные механизмы и их детали': 0,\n",
       "  '21.260 Смазочные системы': 15},\n",
       " '23 ГИДРАВЛИЧЕСКИЕ И ПНЕВМАТИЧЕСКИЕ СИСТЕМЫ И КОМПОНЕНТЫ ОБЩЕГО НАЗНАЧЕНИЯ': {'23.020 Резервуары для хранения жидкостей': 43,\n",
       "  '23.040 Трубопроводы и их компоненты': 50,\n",
       "  '23.060 Арматура трубопроводная': 50,\n",
       "  '23.080 Насосы': 50,\n",
       "  '23.100 Объемные гидроприводы и пневмоприводы': 50,\n",
       "  '23.120 Вентиляторы. Фены. Кондиционеры': 50,\n",
       "  '23.140 Компрессоры и пневматические машины': 14,\n",
       "  '23.160 Вакуумная технология': 42},\n",
       " '25 МАШИНОСТРОЕНИЕ': {'25.020 Производственные формовочные процессы': 2,\n",
       "  '25.030 Аддитивные технологии': 1,\n",
       "  '25.040 Промышленные автоматизированные системы': 50,\n",
       "  '25.060 Станочные системы': 50,\n",
       "  '25.080 Металлорежущие станки': 50,\n",
       "  '25.100 Режущие инструменты': 50,\n",
       "  '25.120 Оборудование для бесстружечной обработки': 50,\n",
       "  '25.140 Ручные инструменты': 50,\n",
       "  '25.160 Сварка, пайка твердым и мягким припоем': 50,\n",
       "  '25.180 Промышленные печи': 50,\n",
       "  '25.200 Термическая обработка': 22,\n",
       "  '25.220 Обработка и покрытие поверхности': 50},\n",
       " '27 ЭНЕРГЕТИКА И ТЕПЛОТЕХНИКА': {'27.010 Энергетика и теплотехника в целом': 50,\n",
       "  '27.015 Энергоэффективность. Энергосбережение в целом': 4,\n",
       "  '27.020 Двигатели внутреннего сгорания': 50,\n",
       "  '27.040 Газовые и паровые турбины. Паровые двигатели': 50,\n",
       "  '27.060 Горелки. Котлы': 50,\n",
       "  '27.070 Топливные элементы': 15,\n",
       "  '27.075 Водородные технологии': 19,\n",
       "  '27.080 Тепловые насосы': 41,\n",
       "  '27.100 Электростанции в целом': 16,\n",
       "  '27.120 Атомная энергетика': 50,\n",
       "  '27.140 Гидроэнергетика': 48,\n",
       "  '27.160 Гелиоэнергетика': 50,\n",
       "  '27.180 Системы ветровых энергетических турбин': 33,\n",
       "  '27.190 Биологические и альтернативные источники энергии': 0,\n",
       "  '27.200 Холодильная технология': 12,\n",
       "  '27.220 Регенерация тепла. Теплоизоляция': 3},\n",
       " '29 ЭЛЕКТРОТЕХНИКА': {'29.020 Электротехника в целом': 50,\n",
       "  '29.030 Магнитные материалы': 11,\n",
       "  '29.035 Изоляционные материалы': 50,\n",
       "  '29.040 Изоляционные жидкости и газы (текучие среды)': 12,\n",
       "  '29.045 Полупроводниковые материалы': 15,\n",
       "  '29.050 Сверхпроводимость и проводниковые материалы': 0,\n",
       "  '29.060 Электрические провода и кабели': 50,\n",
       "  '29.080 Изоляция': 50,\n",
       "  '29.100 Компоненты электрооборудования': 40,\n",
       "  '29.120 Электрическая арматура': 50,\n",
       "  '29.130 Коммутационная аппаратура и аппаратура управления': 50,\n",
       "  '29.140 Лампы и сопутствующие изделия': 50,\n",
       "  '29.160 Машины вращающиеся': 50,\n",
       "  '29.180 Трансформаторы. Реакторы': 50,\n",
       "  '29.200 Выпрямители. Преобразователи. Стабилизированные источники питания': 50,\n",
       "  '29.220 Гальванические элементы и батареи': 50,\n",
       "  '29.240 Сети электропередачи и распределительные сети': 50,\n",
       "  '29.260 Электрическое оборудование для работы в особых условиях': 50,\n",
       "  '29.280 Электрическое тяговое оборудование': 17},\n",
       " '31 ЭЛЕКТРОНИКА': {'31.020 Электронные компоненты в целом': 50,\n",
       "  '31.040 Резисторы': 50,\n",
       "  '31.060 Конденсаторы': 42,\n",
       "  '31.080 Полупроводниковые приборы': 50,\n",
       "  '31.100 Электронные лампы': 50,\n",
       "  '31.120 Электронные дисплеи': 42,\n",
       "  '31.140 Пьезоэлектрические приборы': 8,\n",
       "  '31.160 Электрические фильтры': 4,\n",
       "  '31.180 Печатные схемы и платы': 49,\n",
       "  '31.190 Электронные компоненты в сборе': 45,\n",
       "  '31.200 Интегральные схемы. Микроэлектроника': 50,\n",
       "  '31.220 Электромеханические компоненты электронного оборудования и телекоммуникационного оборудования': 50,\n",
       "  '31.240 Механические конструкции электронного оборудования': 47,\n",
       "  '31.260 Оптоэлектроника. Лазерное оборудование': 50},\n",
       " '33 ТЕЛЕКОММУНИКАЦИИ. АУДИО- И ВИДЕОТЕХНИКА': {'33.020 Телекоммуникации в целом': 20,\n",
       "  '33.030 Телекоммуникационные услуги. Применение': 0,\n",
       "  '33.040 Телекоммуникационные системы': 50,\n",
       "  '33.050 Телекоммуникационная оконечная аппаратура': 48,\n",
       "  '33.060 Радиосвязь': 50,\n",
       "  '33.070 Подвижные службы': 33,\n",
       "  '33.080 Цифровая сеть связи с интеграцией служб (ISDN)': 7,\n",
       "  '33.100 Электромагнитная совместимость (EMC)': 50,\n",
       "  '33.120 Компоненты и вспомогательные приспособления телекоммуникационного оборудования': 15,\n",
       "  '33.140 Специальное измерительное оборудование для систем телекоммуникаций': 8,\n",
       "  '33.160 Аудио-, видео- и аудиовизуальная техника': 50,\n",
       "  '33.170 Теле- и радиовещание': 50,\n",
       "  '33.180 Волоконно-оптическая связь': 50,\n",
       "  '33.200 Телемеханика. Телеметрия': 34},\n",
       " '35 ИНФОРМАЦИОННЫЕ ТЕХНОЛОГИИ': {'35.020 Информационные технологии (ИТ) в целом': 50,\n",
       "  '35.030 Безопасность ИТ': 2,\n",
       "  '35.040 Кодирование информации': 50,\n",
       "  '35.060 Языки, используемые в информационных технологиях': 16,\n",
       "  '35.080 Программное обеспечение': 50,\n",
       "  '35.100 Взаимосвязь открытых систем': 50,\n",
       "  '35.110 Организация сети': 41,\n",
       "  '35.140 Компьютерная графика': 4,\n",
       "  '35.160 Микропроцессорные системы': 33,\n",
       "  '35.180 Информационно-технологические терминалы и другие периферийные устройства': 19,\n",
       "  '35.200 Интерфейсы и межсоединительные устройства': 32,\n",
       "  '35.210 \"Облачная\" обработка данных': 2,\n",
       "  '35.220 Запоминающие устройства': 14,\n",
       "  '35.240 Применение информационных технологий': 50,\n",
       "  '35.260 Машины конторские': 12},\n",
       " '37 ТЕХНОЛОГИЯ ПОЛУЧЕНИЯ ИЗОБРАЖЕНИЙ': {'37.020 Оптическое оборудование': 36,\n",
       "  '37.040 Фотография': 50,\n",
       "  '37.060 Кинематография': 46,\n",
       "  '37.080 Способы формирования изображения документов': 50,\n",
       "  '37.100 Технология полиграфии': 17},\n",
       " '39 ТОЧНАЯ МЕХАНИКА. ЮВЕЛИРНОЕ ДЕЛО': {'39.020 Точная механика': 0,\n",
       "  '39.040 Часовое дело': 23,\n",
       "  '39.060 Ювелирное дело': 46},\n",
       " '43 ДОРОЖНО-ТРАНСПОРТНАЯ ТЕХНИКА': {'43.020 Дорожно-транспортные средства в целом': 50,\n",
       "  '43.040 Системы дорожно-транспортных средств': 50,\n",
       "  '43.060 Двигатели внутреннего сгорания для дорожно-транспортных средств': 50,\n",
       "  '43.080 Грузовые транспортные средства': 39,\n",
       "  '43.100 Легковые автомобили. Караваны и легкие прицепы': 5,\n",
       "  '43.120 Электрические дорожно-транспортные средства': 34,\n",
       "  '43.140 Мотоциклы и мопеды': 33,\n",
       "  '43.150 Велосипеды': 22,\n",
       "  '43.160 Транспорт специального назначения': 21,\n",
       "  '43.180 Диагностическое и испытательное оборудование и оборудование для технического обслуживания': 14},\n",
       " '45 ЖЕЛЕЗНОДОРОЖНАЯ ТЕХНИКА': {'45.020 Железнодорожная техника в целом': 50,\n",
       "  '45.040 Материалы и компоненты для железнодорожной техники': 29,\n",
       "  '45.060 Подвижной состав железных дорог': 50,\n",
       "  '45.080 Рельсы и компоненты железных дорог': 50,\n",
       "  '45.100 Оборудование для канатных дорог': 2,\n",
       "  '45.120 Оборудование для сооружения и технического обслуживания железных/канатных дорог': 5,\n",
       "  '45.140 Оборудование метро, трамваев и легкорельсового транспорта': 0},\n",
       " '47 СУДОСТРОЕНИЕ И МОРСКИЕ СООРУЖЕНИЯ': {'47.020 Судостроение и морские сооружения в целом': 50,\n",
       "  '47.040 Морские суда': 3,\n",
       "  '47.060 Суда внутренней навигации': 36,\n",
       "  '47.080 Малые суда': 33},\n",
       " '49 АВИАЦИОННАЯ И КОСМИЧЕСКАЯ ТЕХНИКА': {'49.020 Авиационные и космические аппараты в целом': 50,\n",
       "  '49.025 Материалы для авиационно-космических конструкций': 13,\n",
       "  '49.030 Крепежные изделия для авиационно-космических конструкций': 2,\n",
       "  '49.035 Компоненты для авиационно-космических конструкций': 5,\n",
       "  '49.040 Покрытия и связанные с ними процессы в авиационно-космической промышленности': 0,\n",
       "  '49.045 Конструкции и элементы конструкций': 14,\n",
       "  '49.050 Авиационно-космические двигатели и силовые установки': 19,\n",
       "  '49.060 Авиационно-космическое электрооборудование и системы': 9,\n",
       "  '49.080 Авиационно-космические гидравлические и пневматические системы и их компоненты': 35,\n",
       "  '49.090 Бортовое оборудование и приборы': 24,\n",
       "  '49.095 Оборудование для пассажиров и кабин': 8,\n",
       "  '49.100 Оборудование наземного обслуживания и ремонта': 29,\n",
       "  '49.120 Грузовое оборудование': 7,\n",
       "  '49.140 Космические системы и операции': 43},\n",
       " '53 ПОДЪЕМНО-ТРАНСПОРТНОЕ ОБОРУДОВАНИЕ': {'53.020 Подъемное оборудование': 50,\n",
       "  '53.040 Подъемно-транспортное оборудование непрерывного действия': 50,\n",
       "  '53.060 Грузовые тележки': 26,\n",
       "  '53.080 Оборудование для хранения': 13,\n",
       "  '53.100 Землеройные машины': 50,\n",
       "  '53.120 Оборудование для ручных работ': 15},\n",
       " '55 УПАКОВКА И РАЗМЕЩЕНИЕ ГРУЗОВ': {'55.020 Упаковка и размещение грузов в целом': 50,\n",
       "  '55.040 Упаковочные материалы и приспособления': 50,\n",
       "  '55.060 Катушки. Бобины': 0,\n",
       "  '55.080 Мешки, сумки': 29,\n",
       "  '55.100 Бутыли. Горшки. Банки': 50,\n",
       "  '55.120 Консервные банки. Баллоны. Тубы': 10,\n",
       "  '55.130 Аэрозольная тара': 6,\n",
       "  '55.140 Бочки. Барабаны. Канистры': 29,\n",
       "  '55.160 Ящики. Коробки. Решетчатая тара': 50,\n",
       "  '55.180 Размещение грузов для перевозок': 50,\n",
       "  '55.200 Упаковочное оборудование': 9,\n",
       "  '55.220 Хранение. Складирование': 4,\n",
       "  '55.230 Размещение и торговые автоматы': 3},\n",
       " '59 ТЕКСТИЛЬНОЕ И КОЖЕВЕННОЕ ПРОИЗВОДСТВО': {'59.020 Процессы в текстильной промышленности': 0,\n",
       "  '59.040 Вспомогательные материалы для отделки текстиля': 18,\n",
       "  '59.060 Текстильные волокна': 50,\n",
       "  '59.080 Изделия текстильной промышленности': 50,\n",
       "  '59.100 Материалы для усиления композитов': 50,\n",
       "  '59.120 Текстильные машины': 50,\n",
       "  '59.140 Технология производства кожи': 50},\n",
       " '61 ШВЕЙНАЯ ПРОМЫШЛЕННОСТЬ': {'61.020 Одежда': 50,\n",
       "  '61.040 Головные уборы. Аксессуары. Застежки для одежды': 47,\n",
       "  '61.060 Обувь': 50,\n",
       "  '61.080 Швейные машины и другое оборудование для швейной промышленности': 19},\n",
       " '65 СЕЛЬСКОЕ ХОЗЯЙСТВО': {'65.020 Земледелие и лесоводство': 50,\n",
       "  '65.040 Сельскохозяйственные постройки, сооружения и установки': 23,\n",
       "  '65.060 Сельскохозяйственные машины, инвентарь и оборудование': 50,\n",
       "  '65.080 Удобрения': 50,\n",
       "  '65.100 Пестициды и другие агрохимикаты': 27,\n",
       "  '65.120 Корма для животных': 50,\n",
       "  '65.140 Пчеловодство': 36,\n",
       "  '65.145 Охота': 1,\n",
       "  '65.150 Рыболовство и рыбоводство': 0,\n",
       "  '65.160 Табак, табачные изделия и соответствующее оборудование': 50},\n",
       " '67 ПРОИЗВОДСТВО ПИЩЕВЫХ ПРОДУКТОВ': {'67.020 Процессы в пищевой промышленности': 10,\n",
       "  '67.040 Пищевые продукты в целом': 50,\n",
       "  '67.050 Общие методы проверки и анализа пищевых продуктов': 50,\n",
       "  '67.060 Зерновые, бобовые и продукты их переработки': 50,\n",
       "  '67.080 Фрукты. Овощи': 50,\n",
       "  '67.100 Молоко и молочные продукты': 50,\n",
       "  '67.120 Мясо, мясные продукты и другие продукты животного происхождения': 50,\n",
       "  '67.140 Чай. Кофе. Какао': 50,\n",
       "  '67.160 Напитки': 50,\n",
       "  '67.180 Сахар. Продукты из сахара. Крахмал': 50,\n",
       "  '67.190 Шоколад': 18,\n",
       "  '67.200 Пищевые масла и жиры. Семена масличных культур': 50,\n",
       "  '67.220 Пряности и приправы. Пищевые добавки': 50,\n",
       "  '67.230 Расфасованные пищевые продукты и пищевые продукты, подвергнутые кулинарной обработке': 10,\n",
       "  '67.240 Органолептический анализ': 30,\n",
       "  '67.250 Материалы и предметы в контакте с пищевыми продуктами': 12,\n",
       "  '67.260 Установки и оборудование для пищевой промышленности': 50},\n",
       " '71 ХИМИЧЕСКАЯ ПРОМЫШЛЕННОСТЬ': {'71.020 Производство в химической промышленности': 9,\n",
       "  '71.040 Аналитическая химия': 50,\n",
       "  '71.060 Неорганические химические вещества': 50,\n",
       "  '71.080 Органические химические вещества': 50,\n",
       "  '71.100 Продукты химической промышленности': 50,\n",
       "  '71.120 Оборудование для химической промышленности': 50},\n",
       " '73 ГОРНОЕ ДЕЛО И ПОЛЕЗНЫЕ ИСКОПАЕМЫЕ': {'73.020 Горное дело и открытые горные работы': 44,\n",
       "  '73.040 Угли': 50,\n",
       "  '73.060 Рудные минералы и их концентраты': 50,\n",
       "  '73.080 Нерудные минералы': 50,\n",
       "  '73.100 Горное оборудование': 50,\n",
       "  '73.120 Оборудование для обработки минералов': 12},\n",
       " '75 ДОБЫЧА И ПЕРЕРАБОТКА НЕФТИ, ГАЗА И СМЕЖНЫЕ ПРОИЗВОДСТВА': {'75.020 Добыча и переработка нефти и природного газа': 50,\n",
       "  '75.040 Нефть': 33,\n",
       "  '75.060 Газ горючий природный': 50,\n",
       "  '75.080 Нефтяные продукты в целом': 50,\n",
       "  '75.100 Смазки, индустриальные масла и связанные с ними продукты': 50,\n",
       "  '75.120 Гидравлические жидкости': 9,\n",
       "  '75.140 Парафины, битумные материалы и другие нефтепродукты': 50,\n",
       "  '75.160 Топливо': 50,\n",
       "  '75.180 Оборудование для нефтяной и газовой промышленности': 50,\n",
       "  '75.200 Оборудование для переработки нефти, нефтяных продуктов и природного газа': 48},\n",
       " '77 МЕТАЛЛУРГИЯ': {'77.020 Производство металлов': 3,\n",
       "  '77.040 Испытания металлов': 50,\n",
       "  '77.060 Коррозия металлов': 29,\n",
       "  '77.080 Черные металлы': 50,\n",
       "  '77.100 Ферросплавы': 50,\n",
       "  '77.120 Цветные металлы': 50,\n",
       "  '77.140 Продукция из чугуна и стали': 50,\n",
       "  '77.150 Продукция из цветных металлов': 50,\n",
       "  '77.160 Порошковая металлургия': 50,\n",
       "  '77.180 Оборудование для металлургической промышленности': 15},\n",
       " '79 ТЕХНОЛОГИЯ ПЕРЕРАБОТКИ ДРЕВЕСИНЫ': {'79.020 Процессы обработки древесины': 13,\n",
       "  '79.040 Древесина, пиловочные бревна, пиломатериалы': 50,\n",
       "  '79.060 Древесные плиты': 50,\n",
       "  '79.080 Полуфабрикаты из древесины': 33,\n",
       "  '79.100 Пробка и изделия из пробки': 0,\n",
       "  '79.120 Деревообрабатывающее оборудование': 50},\n",
       " '81 СТЕКОЛЬНАЯ И КЕРАМИЧЕСКАЯ ПРОМЫШЛЕННОСТЬ': {'81.020 Процессы в стекольной и керамической промышленности': 0,\n",
       "  '81.040 Стекло': 50,\n",
       "  '81.060 Керамика': 50,\n",
       "  '81.080 Огнеупоры': 50,\n",
       "  '81.100 Оборудование для стекольной и керамической промышленности': 3},\n",
       " '83 РЕЗИНОВАЯ И ПЛАСТМАССОВАЯ ПРОМЫШЛЕННОСТЬ': {'83.020 Процессы производства резины и пластмасс': 5,\n",
       "  '83.040 Сырье для производства резины и пластмасс': 50,\n",
       "  '83.060 Резина': 50,\n",
       "  '83.080 Пластмассы': 50,\n",
       "  '83.100 Поропласты': 33,\n",
       "  '83.120 Армированные пластмассы': 50,\n",
       "  '83.140 Резиновые и пластмассовые изделия': 50,\n",
       "  '83.160 Шины': 50,\n",
       "  '83.180 Клеи': 26,\n",
       "  '83.200 Оборудование для производства резины и пластмасс': 50},\n",
       " '85 ТЕХНОЛОГИЯ ПРОИЗВОДСТВА БУМАГИ': {'85.020 Процессы производства бумаги': 6,\n",
       "  '85.040 Целлюлоза': 50,\n",
       "  '85.060 Бумага и картон': 50,\n",
       "  '85.080 Бумажные изделия': 29,\n",
       "  '85.100 Оборудование для производства бумаги': 8},\n",
       " '87 ЛАКОКРАСОЧНАЯ ПРОМЫШЛЕННОСТЬ': {'87.020 Процессы производства лакокрасочных покрытий': 11,\n",
       "  '87.040 Краски и лаки': 50,\n",
       "  '87.060 Ингредиенты красок': 50,\n",
       "  '87.080 Типографские краски. Печатные краски': 6,\n",
       "  '87.100 Оборудование для производства лакокрасочных покрытий': 3},\n",
       " '91 СТРОИТЕЛЬНЫЕ МАТЕРИАЛЫ И СТРОИТЕЛЬСТВО': {'91.010 Строительная промышленность': 32,\n",
       "  '91.020 Территориальное планирование. Планировка городов': 0,\n",
       "  '91.040 Строительство': 50,\n",
       "  '91.060 Строительные элементы': 50,\n",
       "  '91.080 Конструкции зданий': 50,\n",
       "  '91.090 Наружные конструкции': 2,\n",
       "  '91.100 Строительные материалы': 50,\n",
       "  '91.120 Защита зданий снаружи и внутри': 50,\n",
       "  '91.140 Установки в зданиях': 50,\n",
       "  '91.160 Освещение': 20,\n",
       "  '91.180 Внутренняя отделка': 1,\n",
       "  '91.190 Арматура для зданий': 33,\n",
       "  '91.200 Технология строительства': 18,\n",
       "  '91.220 Строительное оборудование': 50},\n",
       " '93 ГРАЖДАНСКОЕ СТРОИТЕЛЬСТВО': {'93.010 Гражданское строительство в целом': 6,\n",
       "  '93.020 Земляные работы. Выемка грунта. Сооружение фундаментов. Подземные работы': 50,\n",
       "  '93.025 Наружные системы подачи воды': 0,\n",
       "  '93.030 Наружные канализационные системы': 6,\n",
       "  '93.040 Сооружение мостов': 36,\n",
       "  '93.060 Сооружение тоннелей': 13,\n",
       "  '93.080 Строительство дорог': 50,\n",
       "  '93.100 Сооружение железных дорог': 20,\n",
       "  '93.110 Сооружение канатных транспортных систем': 0,\n",
       "  '93.120 Сооружение аэропортов': 5,\n",
       "  '93.140 Сооружение водных путей, портов и дамб': 2,\n",
       "  '93.160 Сооружение гидротехнических объектов': 8},\n",
       " '95 ВОЕННОЕ ДЕЛО. ВОЕННО-ИНЖЕНЕРНОЕ ДЕЛО. ВООРУЖЕНИЕ': {'95.020 Военные вопросы в целом': 15,\n",
       "  '95.040 Военно-инженерное дело': 0,\n",
       "  '95.060 Вооружение': 0},\n",
       " '97 БЫТОВАЯ ТЕХНИКА И ТОРГОВОЕ ОБОРУДОВАНИЕ. ОТДЫХ. СПОРТ': {'97.020 Домашнее хозяйство в целом': 6,\n",
       "  '97.030 Бытовые электрические приборы в целом': 23,\n",
       "  '97.040 Кухонное оборудование': 50,\n",
       "  '97.060 Прачечное оборудование': 43,\n",
       "  '97.080 Чистящие устройства': 10,\n",
       "  '97.100 Бытовые, торговые и промышленные нагревательные приборы': 50,\n",
       "  '97.120 Автоматические регуляторы бытового назначения': 49,\n",
       "  '97.130 Аксессуары для магазинов': 5,\n",
       "  '97.140 Мебель': 50,\n",
       "  '97.145 Лестницы-стремянки': 0,\n",
       "  '97.150 Нетекстильные покрытия для полов': 11,\n",
       "  '97.160 Бытовые швейные изделия. Белье': 12,\n",
       "  '97.170 Бытовые приборы для ухода за телом': 18,\n",
       "  '97.180 Различная бытовая техника и торговое оборудование': 24,\n",
       "  '97.190 Техника для детей': 13,\n",
       "  '97.195 Предметы искусства и ремесел. Культурные ценности и наследие': 46,\n",
       "  '97.200 Оборудование для отдыха': 50,\n",
       "  '97.220 Спортивный инвентарь и сооружения': 50}}"
      ]
     },
     "execution_count": 13,
     "metadata": {},
     "output_type": "execute_result"
    }
   ],
   "source": [
    "cur_nums"
   ]
  },
  {
   "cell_type": "code",
   "execution_count": 27,
   "id": "8d263cdb-03c1-4bfc-8226-2f5b940c1915",
   "metadata": {},
   "outputs": [
    {
     "data": {
      "text/plain": [
       "{'01 ОБЩИЕ ПОЛОЖЕНИЯ. ТЕРМИНОЛОГИЯ. СТАНДАРТИЗАЦИЯ. ДОКУМЕНТАЦИЯ': {'01.020 Терминология (принципы и координация)': 10,\n",
       "  '01.040 Словари': 10,\n",
       "  '01.060 Величины и единицы измерения': 8,\n",
       "  '01.070 Цветовое кодирование': 10,\n",
       "  '01.075 Знаковые обозначения': 10,\n",
       "  '01.080 Графические обозначения': 10,\n",
       "  '01.100 Технические чертежи': 10,\n",
       "  '01.110 Техническая документация на продукцию': 10,\n",
       "  '01.120 Стандартизация. Общие правила': 10,\n",
       "  '01.140 Информатика. Издательское дело': 10},\n",
       " '03 УСЛУГИ. ОРГАНИЗАЦИЯ ФИРМ И УПРАВЛЕНИЕ ИМИ. АДМИНИСТРАЦИЯ. ТРАНСПОРТ. СОЦИОЛОГИЯ': {'03.020 Социология. Демография': 0,\n",
       "  '03.040 Труд. Занятость': 6,\n",
       "  '03.060 Финансы. Банковское дело. Денежные системы. Страхование': 10,\n",
       "  '03.080 Услуги': 10,\n",
       "  '03.100 Организация фирм и управление ими. Системы менеджмента': 10,\n",
       "  '03.120 Качество': 10,\n",
       "  '03.140 Патенты. Интеллектуальная собственность': 10,\n",
       "  '03.160 Законодательство. Администрация': 7,\n",
       "  '03.180 Образование': 3,\n",
       "  '03.200 Досуг. Туризм': 10,\n",
       "  '03.220 Транспорт': 10,\n",
       "  '03.240 Почтовые услуги': 6},\n",
       " '07 ЕСТЕСТВЕННЫЕ И ПРИКЛАДНЫЕ НАУКИ': {'07.020 Математика': 1,\n",
       "  '07.030 Физика. Химия': 10,\n",
       "  '07.040 Астрономия. Геодезия. География': 10,\n",
       "  '07.060 Геология. Метеорология. Гидрология': 10,\n",
       "  '07.080 Биология. Ботаника. Зоология': 10,\n",
       "  '07.100 Микробиология': 10,\n",
       "  '07.120 Нанотехнологии': 0,\n",
       "  '07.140 Судебная наука': 0},\n",
       " '11 ТЕХНОЛОГИЯ ЗДРАВООХРАНЕНИЯ': {'11.020 Медицинские науки и учреждения здравоохранения в целом': 10,\n",
       "  '11.040 Медицинское оборудование': 10,\n",
       "  '11.060 Стоматология': 10,\n",
       "  '11.080 Стерилизация и дезинфекция': 10,\n",
       "  '11.100 Лабораторные препараты': 10,\n",
       "  '11.120 Фармацевтика': 10,\n",
       "  '11.140 Больничное оборудование': 10,\n",
       "  '11.160 Первая помощь': 10,\n",
       "  '11.180 Средства помощи для инвалидов и других лиц с ограничениями жизнедеятельности': 10,\n",
       "  '11.200 Регулирование рождаемости. Механические контрацептивы': 10,\n",
       "  '11.220 Ветеринария': 10},\n",
       " '13 ОКРУЖАЮЩАЯ СРЕДА. ЗАЩИТА ЧЕЛОВЕКА ОТ ВОЗДЕЙСТВИЯ ОКРУЖАЮЩЕЙ СРЕДЫ. БЕЗОПАСНОСТЬ': {'13.020 Охрана окружающей среды': 10,\n",
       "  '13.030 Отходы': 10,\n",
       "  '13.040 Качество воздуха': 10,\n",
       "  '13.060 Качество воды': 10,\n",
       "  '13.080 Качество грунта. Почвоведение': 10,\n",
       "  '13.100 Безопасность профессиональной деятельности. Промышленная гигиена': 10,\n",
       "  '13.110 Безопасность механизмов': 10,\n",
       "  '13.120 Безопасность в быту': 10,\n",
       "  '13.140 Воздействие шума на человека': 10,\n",
       "  '13.160 Воздействие вибрации и удара на человека': 10,\n",
       "  '13.180 Эргономика': 10,\n",
       "  '13.200 Борьба с несчастными случаями и катастрофами': 10,\n",
       "  '13.220 Защита от пожара': 10,\n",
       "  '13.230 Взрывозащита': 10,\n",
       "  '13.240 Защита от избыточного давления': 0,\n",
       "  '13.260 Защита от электрического удара. Работа с проводкой, находящейся под током': 10,\n",
       "  '13.280 Защита от радиационного излучения': 10,\n",
       "  '13.300 Защита от опасных грузов': 10,\n",
       "  '13.310 Защита от преступлений': 10,\n",
       "  '13.320 Системы аварийной сигнализации и оповещения': 10,\n",
       "  '13.340 Защитные средства': 10},\n",
       " '17 МЕТРОЛОГИЯ И ИЗМЕРЕНИЯ. ФИЗИЧЕСКИЕ ЯВЛЕНИЯ': {'17.020 Метрология и измерения в целом': 10,\n",
       "  '17.040 Линейные и угловые измерения': 10,\n",
       "  '17.060 Измерение объема, массы, плотности, вязкости': 10,\n",
       "  '17.080 Измерения времени, скорости, ускорения, угловой скорости': 10,\n",
       "  '17.100 Измерение силы, веса и давления': 10,\n",
       "  '17.120 Измерения параметров потока жидкости': 10,\n",
       "  '17.140 Акустика и акустические измерения': 10,\n",
       "  '17.160 Вибрации, измерения удара и вибрации': 10,\n",
       "  '17.180 Оптика и оптические измерения': 10,\n",
       "  '17.200 Термодинамика и измерения температуры': 10,\n",
       "  '17.220 Электричество. Магнетизм. Электрические и магнитные измерения': 10,\n",
       "  '17.240 Измерение излучений': 10},\n",
       " '19 ИСПЫТАНИЯ': {'19.020 Условия и методика испытаний в целом': 10,\n",
       "  '19.040 Климатические испытания': 10,\n",
       "  '19.060 Механические испытания': 10,\n",
       "  '19.080 Электрические и электронные испытания': 10,\n",
       "  '19.100 Неразрушающие испытания': 10,\n",
       "  '19.120 Ситовый анализ. Просеивание': 3},\n",
       " '21 МЕХАНИЧЕСКИЕ СИСТЕМЫ И УСТРОЙСТВА ОБЩЕГО НАЗНАЧЕНИЯ': {'21.020 Характеристики и конструкция механизмов, приборов и оборудования': 10,\n",
       "  '21.040 Винтовые резьбы': 10,\n",
       "  '21.060 Крепежные изделия': 10,\n",
       "  '21.080 Шарниры, проушины и другие шарнирные соединения': 1,\n",
       "  '21.100 Подшипники': 10,\n",
       "  '21.120 Валы и муфты': 10,\n",
       "  '21.140 Уплотнения, сальники': 10,\n",
       "  '21.160 Пружины': 10,\n",
       "  '21.180 Кожухи, корпуса и другие детали машин': 7,\n",
       "  '21.200 Зубчатые передачи': 10,\n",
       "  '21.220 Гибкие приводы и передачи': 10,\n",
       "  '21.240 Вращательно-поступательные механизмы и их детали': 0,\n",
       "  '21.260 Смазочные системы': 10},\n",
       " '23 ГИДРАВЛИЧЕСКИЕ И ПНЕВМАТИЧЕСКИЕ СИСТЕМЫ И КОМПОНЕНТЫ ОБЩЕГО НАЗНАЧЕНИЯ': {'23.020 Резервуары для хранения жидкостей': 10,\n",
       "  '23.040 Трубопроводы и их компоненты': 10,\n",
       "  '23.060 Арматура трубопроводная': 10,\n",
       "  '23.080 Насосы': 10,\n",
       "  '23.100 Объемные гидроприводы и пневмоприводы': 10,\n",
       "  '23.120 Вентиляторы. Фены. Кондиционеры': 10,\n",
       "  '23.140 Компрессоры и пневматические машины': 10,\n",
       "  '23.160 Вакуумная технология': 10},\n",
       " '25 МАШИНОСТРОЕНИЕ': {'25.020 Производственные формовочные процессы': 2,\n",
       "  '25.030 Аддитивные технологии': 1,\n",
       "  '25.040 Промышленные автоматизированные системы': 10,\n",
       "  '25.060 Станочные системы': 10,\n",
       "  '25.080 Металлорежущие станки': 10,\n",
       "  '25.100 Режущие инструменты': 10,\n",
       "  '25.120 Оборудование для бесстружечной обработки': 10,\n",
       "  '25.140 Ручные инструменты': 10,\n",
       "  '25.160 Сварка, пайка твердым и мягким припоем': 10,\n",
       "  '25.180 Промышленные печи': 10,\n",
       "  '25.200 Термическая обработка': 10,\n",
       "  '25.220 Обработка и покрытие поверхности': 10},\n",
       " '27 ЭНЕРГЕТИКА И ТЕПЛОТЕХНИКА': {'27.010 Энергетика и теплотехника в целом': 10,\n",
       "  '27.015 Энергоэффективность. Энергосбережение в целом': 4,\n",
       "  '27.020 Двигатели внутреннего сгорания': 10,\n",
       "  '27.040 Газовые и паровые турбины. Паровые двигатели': 10,\n",
       "  '27.060 Горелки. Котлы': 10,\n",
       "  '27.070 Топливные элементы': 10,\n",
       "  '27.075 Водородные технологии': 10,\n",
       "  '27.080 Тепловые насосы': 10,\n",
       "  '27.100 Электростанции в целом': 10,\n",
       "  '27.120 Атомная энергетика': 10,\n",
       "  '27.140 Гидроэнергетика': 10,\n",
       "  '27.160 Гелиоэнергетика': 10,\n",
       "  '27.180 Системы ветровых энергетических турбин': 10,\n",
       "  '27.190 Биологические и альтернативные источники энергии': 0,\n",
       "  '27.200 Холодильная технология': 10,\n",
       "  '27.220 Регенерация тепла. Теплоизоляция': 3},\n",
       " '29 ЭЛЕКТРОТЕХНИКА': {'29.020 Электротехника в целом': 10,\n",
       "  '29.030 Магнитные материалы': 10,\n",
       "  '29.035 Изоляционные материалы': 10,\n",
       "  '29.040 Изоляционные жидкости и газы (текучие среды)': 10,\n",
       "  '29.045 Полупроводниковые материалы': 10,\n",
       "  '29.050 Сверхпроводимость и проводниковые материалы': 0,\n",
       "  '29.060 Электрические провода и кабели': 10,\n",
       "  '29.080 Изоляция': 10,\n",
       "  '29.100 Компоненты электрооборудования': 10,\n",
       "  '29.120 Электрическая арматура': 10,\n",
       "  '29.130 Коммутационная аппаратура и аппаратура управления': 10,\n",
       "  '29.140 Лампы и сопутствующие изделия': 10,\n",
       "  '29.160 Машины вращающиеся': 10,\n",
       "  '29.180 Трансформаторы. Реакторы': 10,\n",
       "  '29.200 Выпрямители. Преобразователи. Стабилизированные источники питания': 10,\n",
       "  '29.220 Гальванические элементы и батареи': 10,\n",
       "  '29.240 Сети электропередачи и распределительные сети': 10,\n",
       "  '29.260 Электрическое оборудование для работы в особых условиях': 10,\n",
       "  '29.280 Электрическое тяговое оборудование': 10},\n",
       " '31 ЭЛЕКТРОНИКА': {'31.020 Электронные компоненты в целом': 10,\n",
       "  '31.040 Резисторы': 10,\n",
       "  '31.060 Конденсаторы': 10,\n",
       "  '31.080 Полупроводниковые приборы': 10,\n",
       "  '31.100 Электронные лампы': 10,\n",
       "  '31.120 Электронные дисплеи': 10,\n",
       "  '31.140 Пьезоэлектрические приборы': 8,\n",
       "  '31.160 Электрические фильтры': 4,\n",
       "  '31.180 Печатные схемы и платы': 10,\n",
       "  '31.190 Электронные компоненты в сборе': 10,\n",
       "  '31.200 Интегральные схемы. Микроэлектроника': 10,\n",
       "  '31.220 Электромеханические компоненты электронного оборудования и телекоммуникационного оборудования': 10,\n",
       "  '31.240 Механические конструкции электронного оборудования': 10,\n",
       "  '31.260 Оптоэлектроника. Лазерное оборудование': 10},\n",
       " '33 ТЕЛЕКОММУНИКАЦИИ. АУДИО- И ВИДЕОТЕХНИКА': {'33.020 Телекоммуникации в целом': 10,\n",
       "  '33.030 Телекоммуникационные услуги. Применение': 0,\n",
       "  '33.040 Телекоммуникационные системы': 10,\n",
       "  '33.050 Телекоммуникационная оконечная аппаратура': 10,\n",
       "  '33.060 Радиосвязь': 10,\n",
       "  '33.070 Подвижные службы': 10,\n",
       "  '33.080 Цифровая сеть связи с интеграцией служб (ISDN)': 7,\n",
       "  '33.100 Электромагнитная совместимость (EMC)': 10,\n",
       "  '33.120 Компоненты и вспомогательные приспособления телекоммуникационного оборудования': 10,\n",
       "  '33.140 Специальное измерительное оборудование для систем телекоммуникаций': 8,\n",
       "  '33.160 Аудио-, видео- и аудиовизуальная техника': 10,\n",
       "  '33.170 Теле- и радиовещание': 10,\n",
       "  '33.180 Волоконно-оптическая связь': 10,\n",
       "  '33.200 Телемеханика. Телеметрия': 10},\n",
       " '35 ИНФОРМАЦИОННЫЕ ТЕХНОЛОГИИ': {'35.020 Информационные технологии (ИТ) в целом': 10,\n",
       "  '35.030 Безопасность ИТ': 2,\n",
       "  '35.040 Кодирование информации': 10,\n",
       "  '35.060 Языки, используемые в информационных технологиях': 10,\n",
       "  '35.080 Программное обеспечение': 10,\n",
       "  '35.100 Взаимосвязь открытых систем': 10,\n",
       "  '35.110 Организация сети': 10,\n",
       "  '35.140 Компьютерная графика': 4,\n",
       "  '35.160 Микропроцессорные системы': 10,\n",
       "  '35.180 Информационно-технологические терминалы и другие периферийные устройства': 10,\n",
       "  '35.200 Интерфейсы и межсоединительные устройства': 10,\n",
       "  '35.210 \"Облачная\" обработка данных': 2,\n",
       "  '35.220 Запоминающие устройства': 10,\n",
       "  '35.240 Применение информационных технологий': 10,\n",
       "  '35.260 Машины конторские': 10},\n",
       " '37 ТЕХНОЛОГИЯ ПОЛУЧЕНИЯ ИЗОБРАЖЕНИЙ': {'37.020 Оптическое оборудование': 10,\n",
       "  '37.040 Фотография': 10,\n",
       "  '37.060 Кинематография': 10,\n",
       "  '37.080 Способы формирования изображения документов': 10,\n",
       "  '37.100 Технология полиграфии': 10},\n",
       " '39 ТОЧНАЯ МЕХАНИКА. ЮВЕЛИРНОЕ ДЕЛО': {'39.020 Точная механика': 0,\n",
       "  '39.040 Часовое дело': 10,\n",
       "  '39.060 Ювелирное дело': 10},\n",
       " '43 ДОРОЖНО-ТРАНСПОРТНАЯ ТЕХНИКА': {'43.020 Дорожно-транспортные средства в целом': 10,\n",
       "  '43.040 Системы дорожно-транспортных средств': 10,\n",
       "  '43.060 Двигатели внутреннего сгорания для дорожно-транспортных средств': 10,\n",
       "  '43.080 Грузовые транспортные средства': 10,\n",
       "  '43.100 Легковые автомобили. Караваны и легкие прицепы': 5,\n",
       "  '43.120 Электрические дорожно-транспортные средства': 10,\n",
       "  '43.140 Мотоциклы и мопеды': 10,\n",
       "  '43.150 Велосипеды': 10,\n",
       "  '43.160 Транспорт специального назначения': 10,\n",
       "  '43.180 Диагностическое и испытательное оборудование и оборудование для технического обслуживания': 10},\n",
       " '45 ЖЕЛЕЗНОДОРОЖНАЯ ТЕХНИКА': {'45.020 Железнодорожная техника в целом': 10,\n",
       "  '45.040 Материалы и компоненты для железнодорожной техники': 10,\n",
       "  '45.060 Подвижной состав железных дорог': 10,\n",
       "  '45.080 Рельсы и компоненты железных дорог': 10,\n",
       "  '45.100 Оборудование для канатных дорог': 2,\n",
       "  '45.120 Оборудование для сооружения и технического обслуживания железных/канатных дорог': 5,\n",
       "  '45.140 Оборудование метро, трамваев и легкорельсового транспорта': 0},\n",
       " '47 СУДОСТРОЕНИЕ И МОРСКИЕ СООРУЖЕНИЯ': {'47.020 Судостроение и морские сооружения в целом': 10,\n",
       "  '47.040 Морские суда': 3,\n",
       "  '47.060 Суда внутренней навигации': 10,\n",
       "  '47.080 Малые суда': 10},\n",
       " '49 АВИАЦИОННАЯ И КОСМИЧЕСКАЯ ТЕХНИКА': {'49.020 Авиационные и космические аппараты в целом': 10,\n",
       "  '49.025 Материалы для авиационно-космических конструкций': 10,\n",
       "  '49.030 Крепежные изделия для авиационно-космических конструкций': 2,\n",
       "  '49.035 Компоненты для авиационно-космических конструкций': 5,\n",
       "  '49.040 Покрытия и связанные с ними процессы в авиационно-космической промышленности': 0,\n",
       "  '49.045 Конструкции и элементы конструкций': 10,\n",
       "  '49.050 Авиационно-космические двигатели и силовые установки': 10,\n",
       "  '49.060 Авиационно-космическое электрооборудование и системы': 9,\n",
       "  '49.080 Авиационно-космические гидравлические и пневматические системы и их компоненты': 10,\n",
       "  '49.090 Бортовое оборудование и приборы': 10,\n",
       "  '49.095 Оборудование для пассажиров и кабин': 8,\n",
       "  '49.100 Оборудование наземного обслуживания и ремонта': 10,\n",
       "  '49.120 Грузовое оборудование': 7,\n",
       "  '49.140 Космические системы и операции': 10},\n",
       " '53 ПОДЪЕМНО-ТРАНСПОРТНОЕ ОБОРУДОВАНИЕ': {'53.020 Подъемное оборудование': 10,\n",
       "  '53.040 Подъемно-транспортное оборудование непрерывного действия': 10,\n",
       "  '53.060 Грузовые тележки': 10,\n",
       "  '53.080 Оборудование для хранения': 10,\n",
       "  '53.100 Землеройные машины': 10,\n",
       "  '53.120 Оборудование для ручных работ': 10},\n",
       " '55 УПАКОВКА И РАЗМЕЩЕНИЕ ГРУЗОВ': {'55.020 Упаковка и размещение грузов в целом': 10,\n",
       "  '55.040 Упаковочные материалы и приспособления': 10,\n",
       "  '55.060 Катушки. Бобины': 0,\n",
       "  '55.080 Мешки, сумки': 10,\n",
       "  '55.100 Бутыли. Горшки. Банки': 10,\n",
       "  '55.120 Консервные банки. Баллоны. Тубы': 10,\n",
       "  '55.130 Аэрозольная тара': 6,\n",
       "  '55.140 Бочки. Барабаны. Канистры': 10,\n",
       "  '55.160 Ящики. Коробки. Решетчатая тара': 10,\n",
       "  '55.180 Размещение грузов для перевозок': 10,\n",
       "  '55.200 Упаковочное оборудование': 9,\n",
       "  '55.220 Хранение. Складирование': 4,\n",
       "  '55.230 Размещение и торговые автоматы': 3},\n",
       " '59 ТЕКСТИЛЬНОЕ И КОЖЕВЕННОЕ ПРОИЗВОДСТВО': {'59.020 Процессы в текстильной промышленности': 0,\n",
       "  '59.040 Вспомогательные материалы для отделки текстиля': 10,\n",
       "  '59.060 Текстильные волокна': 10,\n",
       "  '59.080 Изделия текстильной промышленности': 10,\n",
       "  '59.100 Материалы для усиления композитов': 10,\n",
       "  '59.120 Текстильные машины': 10,\n",
       "  '59.140 Технология производства кожи': 10},\n",
       " '61 ШВЕЙНАЯ ПРОМЫШЛЕННОСТЬ': {'61.020 Одежда': 10,\n",
       "  '61.040 Головные уборы. Аксессуары. Застежки для одежды': 10,\n",
       "  '61.060 Обувь': 10,\n",
       "  '61.080 Швейные машины и другое оборудование для швейной промышленности': 10},\n",
       " '65 СЕЛЬСКОЕ ХОЗЯЙСТВО': {'65.020 Земледелие и лесоводство': 10,\n",
       "  '65.040 Сельскохозяйственные постройки, сооружения и установки': 10,\n",
       "  '65.060 Сельскохозяйственные машины, инвентарь и оборудование': 10,\n",
       "  '65.080 Удобрения': 10,\n",
       "  '65.100 Пестициды и другие агрохимикаты': 10,\n",
       "  '65.120 Корма для животных': 10,\n",
       "  '65.140 Пчеловодство': 10,\n",
       "  '65.145 Охота': 1,\n",
       "  '65.150 Рыболовство и рыбоводство': 0,\n",
       "  '65.160 Табак, табачные изделия и соответствующее оборудование': 10},\n",
       " '67 ПРОИЗВОДСТВО ПИЩЕВЫХ ПРОДУКТОВ': {'67.020 Процессы в пищевой промышленности': 10,\n",
       "  '67.040 Пищевые продукты в целом': 10,\n",
       "  '67.050 Общие методы проверки и анализа пищевых продуктов': 10,\n",
       "  '67.060 Зерновые, бобовые и продукты их переработки': 10,\n",
       "  '67.080 Фрукты. Овощи': 10,\n",
       "  '67.100 Молоко и молочные продукты': 10,\n",
       "  '67.120 Мясо, мясные продукты и другие продукты животного происхождения': 10,\n",
       "  '67.140 Чай. Кофе. Какао': 10,\n",
       "  '67.160 Напитки': 10,\n",
       "  '67.180 Сахар. Продукты из сахара. Крахмал': 10,\n",
       "  '67.190 Шоколад': 10,\n",
       "  '67.200 Пищевые масла и жиры. Семена масличных культур': 10,\n",
       "  '67.220 Пряности и приправы. Пищевые добавки': 10,\n",
       "  '67.230 Расфасованные пищевые продукты и пищевые продукты, подвергнутые кулинарной обработке': 10,\n",
       "  '67.240 Органолептический анализ': 10,\n",
       "  '67.250 Материалы и предметы в контакте с пищевыми продуктами': 10,\n",
       "  '67.260 Установки и оборудование для пищевой промышленности': 10},\n",
       " '71 ХИМИЧЕСКАЯ ПРОМЫШЛЕННОСТЬ': {'71.020 Производство в химической промышленности': 9,\n",
       "  '71.040 Аналитическая химия': 10,\n",
       "  '71.060 Неорганические химические вещества': 10,\n",
       "  '71.080 Органические химические вещества': 10,\n",
       "  '71.100 Продукты химической промышленности': 10,\n",
       "  '71.120 Оборудование для химической промышленности': 10},\n",
       " '73 ГОРНОЕ ДЕЛО И ПОЛЕЗНЫЕ ИСКОПАЕМЫЕ': {'73.020 Горное дело и открытые горные работы': 10,\n",
       "  '73.040 Угли': 10,\n",
       "  '73.060 Рудные минералы и их концентраты': 10,\n",
       "  '73.080 Нерудные минералы': 10,\n",
       "  '73.100 Горное оборудование': 10,\n",
       "  '73.120 Оборудование для обработки минералов': 10},\n",
       " '75 ДОБЫЧА И ПЕРЕРАБОТКА НЕФТИ, ГАЗА И СМЕЖНЫЕ ПРОИЗВОДСТВА': {'75.020 Добыча и переработка нефти и природного газа': 10,\n",
       "  '75.040 Нефть': 10,\n",
       "  '75.060 Газ горючий природный': 10,\n",
       "  '75.080 Нефтяные продукты в целом': 10,\n",
       "  '75.100 Смазки, индустриальные масла и связанные с ними продукты': 10,\n",
       "  '75.120 Гидравлические жидкости': 9,\n",
       "  '75.140 Парафины, битумные материалы и другие нефтепродукты': 10,\n",
       "  '75.160 Топливо': 10,\n",
       "  '75.180 Оборудование для нефтяной и газовой промышленности': 10,\n",
       "  '75.200 Оборудование для переработки нефти, нефтяных продуктов и природного газа': 10},\n",
       " '77 МЕТАЛЛУРГИЯ': {'77.020 Производство металлов': 3,\n",
       "  '77.040 Испытания металлов': 10,\n",
       "  '77.060 Коррозия металлов': 10,\n",
       "  '77.080 Черные металлы': 10,\n",
       "  '77.100 Ферросплавы': 10,\n",
       "  '77.120 Цветные металлы': 10,\n",
       "  '77.140 Продукция из чугуна и стали': 10,\n",
       "  '77.150 Продукция из цветных металлов': 10,\n",
       "  '77.160 Порошковая металлургия': 10,\n",
       "  '77.180 Оборудование для металлургической промышленности': 10},\n",
       " '79 ТЕХНОЛОГИЯ ПЕРЕРАБОТКИ ДРЕВЕСИНЫ': {'79.020 Процессы обработки древесины': 10,\n",
       "  '79.040 Древесина, пиловочные бревна, пиломатериалы': 10,\n",
       "  '79.060 Древесные плиты': 10,\n",
       "  '79.080 Полуфабрикаты из древесины': 10,\n",
       "  '79.100 Пробка и изделия из пробки': 0,\n",
       "  '79.120 Деревообрабатывающее оборудование': 10},\n",
       " '81 СТЕКОЛЬНАЯ И КЕРАМИЧЕСКАЯ ПРОМЫШЛЕННОСТЬ': {'81.020 Процессы в стекольной и керамической промышленности': 0,\n",
       "  '81.040 Стекло': 10,\n",
       "  '81.060 Керамика': 10,\n",
       "  '81.080 Огнеупоры': 10,\n",
       "  '81.100 Оборудование для стекольной и керамической промышленности': 3},\n",
       " '83 РЕЗИНОВАЯ И ПЛАСТМАССОВАЯ ПРОМЫШЛЕННОСТЬ': {'83.020 Процессы производства резины и пластмасс': 5,\n",
       "  '83.040 Сырье для производства резины и пластмасс': 10,\n",
       "  '83.060 Резина': 10,\n",
       "  '83.080 Пластмассы': 10,\n",
       "  '83.100 Поропласты': 10,\n",
       "  '83.120 Армированные пластмассы': 10,\n",
       "  '83.140 Резиновые и пластмассовые изделия': 10,\n",
       "  '83.160 Шины': 10,\n",
       "  '83.180 Клеи': 10,\n",
       "  '83.200 Оборудование для производства резины и пластмасс': 10},\n",
       " '85 ТЕХНОЛОГИЯ ПРОИЗВОДСТВА БУМАГИ': {'85.020 Процессы производства бумаги': 6,\n",
       "  '85.040 Целлюлоза': 10,\n",
       "  '85.060 Бумага и картон': 10,\n",
       "  '85.080 Бумажные изделия': 10,\n",
       "  '85.100 Оборудование для производства бумаги': 8},\n",
       " '87 ЛАКОКРАСОЧНАЯ ПРОМЫШЛЕННОСТЬ': {'87.020 Процессы производства лакокрасочных покрытий': 10,\n",
       "  '87.040 Краски и лаки': 10,\n",
       "  '87.060 Ингредиенты красок': 10,\n",
       "  '87.080 Типографские краски. Печатные краски': 6,\n",
       "  '87.100 Оборудование для производства лакокрасочных покрытий': 3},\n",
       " '91 СТРОИТЕЛЬНЫЕ МАТЕРИАЛЫ И СТРОИТЕЛЬСТВО': {'91.010 Строительная промышленность': 10,\n",
       "  '91.020 Территориальное планирование. Планировка городов': 0,\n",
       "  '91.040 Строительство': 10,\n",
       "  '91.060 Строительные элементы': 10,\n",
       "  '91.080 Конструкции зданий': 10,\n",
       "  '91.090 Наружные конструкции': 2,\n",
       "  '91.100 Строительные материалы': 10,\n",
       "  '91.120 Защита зданий снаружи и внутри': 10,\n",
       "  '91.140 Установки в зданиях': 10,\n",
       "  '91.160 Освещение': 10,\n",
       "  '91.180 Внутренняя отделка': 1,\n",
       "  '91.190 Арматура для зданий': 10,\n",
       "  '91.200 Технология строительства': 10,\n",
       "  '91.220 Строительное оборудование': 10},\n",
       " '93 ГРАЖДАНСКОЕ СТРОИТЕЛЬСТВО': {'93.010 Гражданское строительство в целом': 6,\n",
       "  '93.020 Земляные работы. Выемка грунта. Сооружение фундаментов. Подземные работы': 10,\n",
       "  '93.025 Наружные системы подачи воды': 0,\n",
       "  '93.030 Наружные канализационные системы': 6,\n",
       "  '93.040 Сооружение мостов': 10,\n",
       "  '93.060 Сооружение тоннелей': 10,\n",
       "  '93.080 Строительство дорог': 10,\n",
       "  '93.100 Сооружение железных дорог': 10,\n",
       "  '93.110 Сооружение канатных транспортных систем': 0,\n",
       "  '93.120 Сооружение аэропортов': 5,\n",
       "  '93.140 Сооружение водных путей, портов и дамб': 2,\n",
       "  '93.160 Сооружение гидротехнических объектов': 8},\n",
       " '95 ВОЕННОЕ ДЕЛО. ВОЕННО-ИНЖЕНЕРНОЕ ДЕЛО. ВООРУЖЕНИЕ': {'95.020 Военные вопросы в целом': 10,\n",
       "  '95.040 Военно-инженерное дело': 0,\n",
       "  '95.060 Вооружение': 0},\n",
       " '97 БЫТОВАЯ ТЕХНИКА И ТОРГОВОЕ ОБОРУДОВАНИЕ. ОТДЫХ. СПОРТ': {'97.020 Домашнее хозяйство в целом': 6,\n",
       "  '97.030 Бытовые электрические приборы в целом': 10,\n",
       "  '97.040 Кухонное оборудование': 10,\n",
       "  '97.060 Прачечное оборудование': 10,\n",
       "  '97.080 Чистящие устройства': 10,\n",
       "  '97.100 Бытовые, торговые и промышленные нагревательные приборы': 10,\n",
       "  '97.120 Автоматические регуляторы бытового назначения': 10,\n",
       "  '97.130 Аксессуары для магазинов': 5,\n",
       "  '97.140 Мебель': 10,\n",
       "  '97.145 Лестницы-стремянки': 0,\n",
       "  '97.150 Нетекстильные покрытия для полов': 10,\n",
       "  '97.160 Бытовые швейные изделия. Белье': 10,\n",
       "  '97.170 Бытовые приборы для ухода за телом': 10,\n",
       "  '97.180 Различная бытовая техника и торговое оборудование': 10,\n",
       "  '97.190 Техника для детей': 10,\n",
       "  '97.195 Предметы искусства и ремесел. Культурные ценности и наследие': 10,\n",
       "  '97.200 Оборудование для отдыха': 10,\n",
       "  '97.220 Спортивный инвентарь и сооружения': 10}}"
      ]
     },
     "execution_count": 27,
     "metadata": {},
     "output_type": "execute_result"
    }
   ],
   "source": [
    "new_nums"
   ]
  },
  {
   "cell_type": "code",
   "execution_count": null,
   "id": "4a636e9c-456f-4ae5-a464-891584e4a5f4",
   "metadata": {},
   "outputs": [],
   "source": [
    "{\n",
    "    '01 ОБЩИЕ ПОЛОЖЕНИЯ. ТЕРМИНОЛОГИЯ. СТАНДАРТИЗАЦИЯ. ДОКУМЕНТАЦИЯ': {\n",
    "        '01.020 Терминология (принципы и координация)': [\n",
    "            {\n",
    "                'number': 'ГОСТ Р 57095-2016',\n",
    "                'title': 'Биотехнологии. Термины и определения',\n",
    "                'status': 'ative', # replaced, cancelled, ...\n",
    "                'date_start': '2017-01-05', # yyyy-mm-dd\n",
    "                'date_cancel': '', # yyyy-mm-dd\n",
    "                'replaced_by': '',\n",
    "                'OKS': '01.020',\n",
    "                'file_path': '.../downloads/gost_r_57095-2016.pdf',\n",
    "                'file_markdown': '<article>...</article>',\n",
    "                'file_url': 'https://allgosts.ru/01/020/gost_r_57095-2016'\n",
    "            },\n",
    "            {\n",
    "                \n",
    "            }\n",
    "        ]        \n",
    "    }\n",
    "}"
   ]
  }
 ],
 "metadata": {
  "kernelspec": {
   "display_name": "Python 3 (ipykernel)",
   "language": "python",
   "name": "python3"
  },
  "language_info": {
   "codemirror_mode": {
    "name": "ipython",
    "version": 3
   },
   "file_extension": ".py",
   "mimetype": "text/x-python",
   "name": "python",
   "nbconvert_exporter": "python",
   "pygments_lexer": "ipython3",
   "version": "3.9.6"
  }
 },
 "nbformat": 4,
 "nbformat_minor": 5
}
